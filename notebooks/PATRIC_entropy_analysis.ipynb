{
 "cells": [
  {
   "cell_type": "markdown",
   "id": "2cf6a0f4",
   "metadata": {},
   "source": [
    "# Entropy Analysis with PATRIC"
   ]
  },
  {
   "cell_type": "markdown",
   "id": "eb6f0357",
   "metadata": {},
   "source": [
    "### 1. First download the MLST of all genomes in PATRIC\n",
    "\n",
    "`p3-all-genomes  --eq \"genome_name, Staphylococcus_aureus\" | p3-get-genome-data -a mlst > /data/patric_entropy/mlst.txt`"
   ]
  },
  {
   "cell_type": "markdown",
   "id": "fff49dc7",
   "metadata": {},
   "source": [
    "### 2. Get the features locus tags with mutations in ORF\n",
    "\n",
    "Goal is to get the locus tags and download all sequences in the PATRIC local family of that ORF.\n",
    "- mutations in ORF have '()' containing the aa changes\n",
    "- PATRIC uses 'old_locus_tag' so we have to convert the current_locus_tag to old_tag\n"
   ]
  },
  {
   "cell_type": "code",
   "execution_count": 1,
   "id": "e3e4ddae",
   "metadata": {},
   "outputs": [],
   "source": [
    "import matplotlib.pyplot as plt\n",
    "from matplotlib import cm\n",
    "from matplotlib.patches import Rectangle\n",
    "from matplotlib.ticker import MultipleLocator\n",
    "\n",
    "import seaborn as sns\n",
    "\n",
    "import pandas as pd\n",
    "import numpy as np\n",
    "from Bio import SeqIO, Align\n",
    "from scipy.stats import entropy\n",
    "\n",
    "\n",
    "import os\n",
    "import subprocess\n",
    "import itertools\n",
    "from collections import Counter\n",
    "import tqdm\n",
    "import tempfile\n",
    "import glob\n",
    "from shutil import copyfile\n",
    "\n",
    "\n",
    "from scipy.signal import find_peaks"
   ]
  },
  {
   "cell_type": "code",
   "execution_count": 2,
   "id": "4177c0c0",
   "metadata": {},
   "outputs": [
    {
     "name": "stdout",
     "output_type": "stream",
     "text": [
      "Number of ORFs: 86\n"
     ]
    },
    {
     "data": {
      "text/html": [
       "<div>\n",
       "<style scoped>\n",
       "    .dataframe tbody tr th:only-of-type {\n",
       "        vertical-align: middle;\n",
       "    }\n",
       "\n",
       "    .dataframe tbody tr th {\n",
       "        vertical-align: top;\n",
       "    }\n",
       "\n",
       "    .dataframe thead th {\n",
       "        text-align: right;\n",
       "    }\n",
       "</style>\n",
       "<table border=\"1\" class=\"dataframe\">\n",
       "  <thead>\n",
       "    <tr style=\"text-align: right;\">\n",
       "      <th></th>\n",
       "      <th>header</th>\n",
       "      <th>seq</th>\n",
       "      <th>nodes</th>\n",
       "      <th>networkFeature</th>\n",
       "      <th>mutations</th>\n",
       "      <th>TCH1516_kmer_pos</th>\n",
       "      <th>TCH1516_feats</th>\n",
       "      <th>TCH1516_mutation_pos</th>\n",
       "      <th>TCH1516_mutation_map</th>\n",
       "      <th>TCH1516_pUSA300HOUMR_kmer_pos</th>\n",
       "      <th>TCH1516_pUSA300HOUMR_feats</th>\n",
       "      <th>TCH1516_pUSA300HOUMR_mutation_pos</th>\n",
       "      <th>TCH1516_pUSA300HOUMR_mutation_map</th>\n",
       "      <th>TCH1516_pUSA01HOU_kmer_pos</th>\n",
       "      <th>TCH1516_pUSA01HOU_feats</th>\n",
       "      <th>TCH1516_pUSA01HOU_mutation_pos</th>\n",
       "      <th>TCH1516_pUSA01HOU_mutation_map</th>\n",
       "    </tr>\n",
       "  </thead>\n",
       "  <tbody>\n",
       "    <tr>\n",
       "      <th>1</th>\n",
       "      <td>component11cycle0pheno1</td>\n",
       "      <td>CATAATTAAAGGAGTGATGATATTAATGAATAAACTTCAAGACACT...</td>\n",
       "      <td>n349758;n350864;n30123;n32034_rc</td>\n",
       "      <td>component11cycle0</td>\n",
       "      <td>38GA104</td>\n",
       "      <td>(123778, 123636)</td>\n",
       "      <td>USA300HOU_RS00560</td>\n",
       "      <td>[(123740, 123739)]</td>\n",
       "      <td>G13A(R4Q)</td>\n",
       "      <td>NaN</td>\n",
       "      <td>NaN</td>\n",
       "      <td>NaN</td>\n",
       "      <td>NaN</td>\n",
       "      <td>NaN</td>\n",
       "      <td>NaN</td>\n",
       "      <td>NaN</td>\n",
       "      <td>NaN</td>\n",
       "    </tr>\n",
       "    <tr>\n",
       "      <th>2</th>\n",
       "      <td>component11cycle1pheno1</td>\n",
       "      <td>TAGAATTCCAGATATACCTGCACTAATCAAAGCTTCACCAAAATTT...</td>\n",
       "      <td>n156335;n151167;n367941;n228744</td>\n",
       "      <td>component11cycle1</td>\n",
       "      <td>32TC63</td>\n",
       "      <td>(123454, 123549)</td>\n",
       "      <td>USA300HOU_RS00560</td>\n",
       "      <td>[(123485, 123486)]</td>\n",
       "      <td>T267C(T89A)</td>\n",
       "      <td>NaN</td>\n",
       "      <td>NaN</td>\n",
       "      <td>NaN</td>\n",
       "      <td>NaN</td>\n",
       "      <td>NaN</td>\n",
       "      <td>NaN</td>\n",
       "      <td>NaN</td>\n",
       "      <td>NaN</td>\n",
       "    </tr>\n",
       "    <tr>\n",
       "      <th>11</th>\n",
       "      <td>component126cycle0pheno1</td>\n",
       "      <td>AAAATATCCTAACGTAGCTGCAAGCGCGACTACACCATCATTTTTC...</td>\n",
       "      <td>n207282;n208653;n210916;n315359_rc;n318521;n32...</td>\n",
       "      <td>component126cycle0</td>\n",
       "      <td>31GA52</td>\n",
       "      <td>(1839515, 1839598)</td>\n",
       "      <td>USA300HOU_RS09160</td>\n",
       "      <td>[(1839545, 1839546)]</td>\n",
       "      <td>G223A(A74V)</td>\n",
       "      <td>NaN</td>\n",
       "      <td>NaN</td>\n",
       "      <td>NaN</td>\n",
       "      <td>NaN</td>\n",
       "      <td>NaN</td>\n",
       "      <td>NaN</td>\n",
       "      <td>NaN</td>\n",
       "      <td>NaN</td>\n",
       "    </tr>\n",
       "    <tr>\n",
       "      <th>14</th>\n",
       "      <td>component61cycle0pheno1</td>\n",
       "      <td>TAATGCTTTGAAATCAGCCTGTAGAGTCAATAATATATCAATTATT...</td>\n",
       "      <td>n380911;n379974;n403167;n119614_rc</td>\n",
       "      <td>component61cycle0</td>\n",
       "      <td>37CT39</td>\n",
       "      <td>(2128055, 2128131)</td>\n",
       "      <td>USA300HOU_RS10860</td>\n",
       "      <td>[(2128091, 2128092)]</td>\n",
       "      <td>C843T(P281S)</td>\n",
       "      <td>NaN</td>\n",
       "      <td>NaN</td>\n",
       "      <td>NaN</td>\n",
       "      <td>NaN</td>\n",
       "      <td>NaN</td>\n",
       "      <td>NaN</td>\n",
       "      <td>NaN</td>\n",
       "      <td>NaN</td>\n",
       "    </tr>\n",
       "    <tr>\n",
       "      <th>16</th>\n",
       "      <td>component101cycle0pheno1</td>\n",
       "      <td>AAAATAGTAATCATCATCCGAGGTAACCTGAAATCTAATAAGATTA...</td>\n",
       "      <td>n121642_rc;n117981;n30508_rc</td>\n",
       "      <td>component101cycle0</td>\n",
       "      <td>49CT166</td>\n",
       "      <td>(724072, 723857)</td>\n",
       "      <td>USA300HOU_RS03510</td>\n",
       "      <td>[(724023, 724022)]</td>\n",
       "      <td>C159T(E53K)</td>\n",
       "      <td>NaN</td>\n",
       "      <td>NaN</td>\n",
       "      <td>NaN</td>\n",
       "      <td>NaN</td>\n",
       "      <td>NaN</td>\n",
       "      <td>NaN</td>\n",
       "      <td>NaN</td>\n",
       "      <td>NaN</td>\n",
       "    </tr>\n",
       "  </tbody>\n",
       "</table>\n",
       "</div>"
      ],
      "text/plain": [
       "                      header  \\\n",
       "1    component11cycle0pheno1   \n",
       "2    component11cycle1pheno1   \n",
       "11  component126cycle0pheno1   \n",
       "14   component61cycle0pheno1   \n",
       "16  component101cycle0pheno1   \n",
       "\n",
       "                                                  seq  \\\n",
       "1   CATAATTAAAGGAGTGATGATATTAATGAATAAACTTCAAGACACT...   \n",
       "2   TAGAATTCCAGATATACCTGCACTAATCAAAGCTTCACCAAAATTT...   \n",
       "11  AAAATATCCTAACGTAGCTGCAAGCGCGACTACACCATCATTTTTC...   \n",
       "14  TAATGCTTTGAAATCAGCCTGTAGAGTCAATAATATATCAATTATT...   \n",
       "16  AAAATAGTAATCATCATCCGAGGTAACCTGAAATCTAATAAGATTA...   \n",
       "\n",
       "                                                nodes      networkFeature  \\\n",
       "1                    n349758;n350864;n30123;n32034_rc   component11cycle0   \n",
       "2                     n156335;n151167;n367941;n228744   component11cycle1   \n",
       "11  n207282;n208653;n210916;n315359_rc;n318521;n32...  component126cycle0   \n",
       "14                 n380911;n379974;n403167;n119614_rc   component61cycle0   \n",
       "16                       n121642_rc;n117981;n30508_rc  component101cycle0   \n",
       "\n",
       "   mutations    TCH1516_kmer_pos      TCH1516_feats  TCH1516_mutation_pos  \\\n",
       "1    38GA104    (123778, 123636)  USA300HOU_RS00560    [(123740, 123739)]   \n",
       "2     32TC63    (123454, 123549)  USA300HOU_RS00560    [(123485, 123486)]   \n",
       "11    31GA52  (1839515, 1839598)  USA300HOU_RS09160  [(1839545, 1839546)]   \n",
       "14    37CT39  (2128055, 2128131)  USA300HOU_RS10860  [(2128091, 2128092)]   \n",
       "16   49CT166    (724072, 723857)  USA300HOU_RS03510    [(724023, 724022)]   \n",
       "\n",
       "   TCH1516_mutation_map TCH1516_pUSA300HOUMR_kmer_pos  \\\n",
       "1             G13A(R4Q)                           NaN   \n",
       "2           T267C(T89A)                           NaN   \n",
       "11          G223A(A74V)                           NaN   \n",
       "14         C843T(P281S)                           NaN   \n",
       "16          C159T(E53K)                           NaN   \n",
       "\n",
       "   TCH1516_pUSA300HOUMR_feats TCH1516_pUSA300HOUMR_mutation_pos  \\\n",
       "1                         NaN                               NaN   \n",
       "2                         NaN                               NaN   \n",
       "11                        NaN                               NaN   \n",
       "14                        NaN                               NaN   \n",
       "16                        NaN                               NaN   \n",
       "\n",
       "    TCH1516_pUSA300HOUMR_mutation_map  TCH1516_pUSA01HOU_kmer_pos  \\\n",
       "1                                 NaN                         NaN   \n",
       "2                                 NaN                         NaN   \n",
       "11                                NaN                         NaN   \n",
       "14                                NaN                         NaN   \n",
       "16                                NaN                         NaN   \n",
       "\n",
       "    TCH1516_pUSA01HOU_feats  TCH1516_pUSA01HOU_mutation_pos  \\\n",
       "1                       NaN                             NaN   \n",
       "2                       NaN                             NaN   \n",
       "11                      NaN                             NaN   \n",
       "14                      NaN                             NaN   \n",
       "16                      NaN                             NaN   \n",
       "\n",
       "    TCH1516_pUSA01HOU_mutation_map  \n",
       "1                              NaN  \n",
       "2                              NaN  \n",
       "11                             NaN  \n",
       "14                             NaN  \n",
       "16                             NaN  "
      ]
     },
     "execution_count": 2,
     "metadata": {},
     "output_type": "execute_result"
    }
   ],
   "source": [
    "# load the kmer data and get orfs\n",
    "kmer_md = pd.read_csv('data/dbgwas_postprocess/kmer_md.csv', index_col=0)\n",
    "orf_md = kmer_md[(~kmer_md.TCH1516_mutation_map.isnull()) &\n",
    "        (kmer_md.TCH1516_mutation_map.str.contains('\\('))]\n",
    "print(f'Number of ORFs: {orf_md.shape[0]}')\n",
    "orf_md.head()"
   ]
  },
  {
   "cell_type": "code",
   "execution_count": 3,
   "id": "bbe80985",
   "metadata": {},
   "outputs": [],
   "source": [
    "# convert to old_locus_tag\n",
    "otn = {}\n",
    "# if no old locus tag, note the position of feature\n",
    "new_lt_pos = {}\n",
    "for refseq in SeqIO.parse('/home/saugat/Desktop/Reference/genome/TCH1516.gb', 'genbank'):\n",
    "    for feats in refseq.features:\n",
    "        try:\n",
    "            locus_tag = feats.qualifiers['locus_tag'][0]\n",
    "        except KeyError:\n",
    "            continue\n",
    "        else:\n",
    "            try:\n",
    "                old_locus_tag = feats.qualifiers['old_locus_tag'][0]\n",
    "            except KeyError: # contains locus_tag but not old_locus_tag\n",
    "                if locus_tag in orf_md.TCH1516_feats.values:\n",
    "                    new_lt_pos.update({locus_tag: (int(feats.location.start),\n",
    "                                                  int(feats.location.end))})\n",
    "            else:\n",
    "                if locus_tag in orf_md.TCH1516_feats.values:\n",
    "                    otn.update({locus_tag: old_locus_tag})"
   ]
  },
  {
   "cell_type": "code",
   "execution_count": 4,
   "id": "41903bea",
   "metadata": {},
   "outputs": [
    {
     "data": {
      "text/plain": [
       "79"
      ]
     },
     "execution_count": 4,
     "metadata": {},
     "output_type": "execute_result"
    }
   ],
   "source": [
    "# get the local pfam group\n",
    "lt_to_pfam = {}\n",
    "patric_tch = pd.read_csv('data/patric_entropy/PATRIC_TCH1516_feature.csv')\n",
    "for lt in otn:\n",
    "    match = patric_tch[patric_tch['RefSeq Locus Tag'] == otn[lt]]\n",
    "    try:\n",
    "        lt_to_pfam.update({lt: match['PATRIC genus-specific families (PLfams)'].values[0]})\n",
    "    except IndexError:\n",
    "        continue\n",
    "\n",
    "\n",
    "# fmtB 'USA300HOU_2150/ USA300HOU_RS11650' is missing for some reason, add manually\n",
    "lt_to_pfam.update({'USA300HOU_RS11650': 'PLF_1279_00001147'})\n",
    "len(lt_to_pfam)"
   ]
  },
  {
   "cell_type": "markdown",
   "id": "edc313b7",
   "metadata": {},
   "source": [
    "### 3. Download all the sequences from the pfam "
   ]
  },
  {
   "cell_type": "code",
   "execution_count": 5,
   "id": "a5cb6a96",
   "metadata": {},
   "outputs": [],
   "source": [
    "def get_feats_seq(feat_info, fout, dna=False):\n",
    "    \"\"\"\"\n",
    "    Downloads all the sequences for the specified local protein family in tsv format.\n",
    "    Currently restricted to Staphylococcus aureus\n",
    "    \"\"\"\n",
    "    print(f'\\t-Getting feature seq for {feat_info} from PATRIC')\n",
    "    cmd1 = ['p3-echo', feat_info]\n",
    "    cmd2 = ['p3-get-family-features', '--ftype', 'local', '--attr', 'patric_id', '--eq', \"genome_name, Staphylococcus aureus\"]\n",
    "    cmd3 = ['p3-get-feature-sequence']\n",
    "    if dna:\n",
    "        cmd3.append('--dna')\n",
    "    \n",
    "    p1 = subprocess.Popen(cmd1, stdout=subprocess.PIPE, stderr=subprocess.PIPE)\n",
    "    p2 = subprocess.Popen(cmd2, stdin=p1.stdout, stdout=subprocess.PIPE)\n",
    "    with open(fout, 'w') as pres:\n",
    "        p3 = subprocess.Popen(cmd3, stdin=p2.stdout, stdout=pres)\n",
    "    p1.wait()\n",
    "    p2.wait()\n",
    "    p3.wait()"
   ]
  },
  {
   "cell_type": "code",
   "execution_count": null,
   "id": "b54323ae",
   "metadata": {},
   "outputs": [],
   "source": [
    "fadir = 'data/patric_entropy/PLF_fasta_files/'\n",
    "for lt in lt_to_pfam:\n",
    "    fout = os.path.join(fadir, lt + '_PLF.fa')\n",
    "    get_feats_seq(lt_to_pfam[lt], fout, dna=True)"
   ]
  },
  {
   "cell_type": "markdown",
   "id": "622e8ea5",
   "metadata": {},
   "source": [
    "### 4. For each pfam, run multiple sequence alignment (MSA) with MAFFT to align the sequences and measure entropy at each position"
   ]
  },
  {
   "cell_type": "code",
   "execution_count": 11,
   "id": "785d72a8",
   "metadata": {},
   "outputs": [],
   "source": [
    "alndir = 'data/patric_entropy/alignment_files/'\n",
    "run_mafft = ['src/run_mafft.py', fadir, alndir, '--thread', 8]\n",
    "# subprocess.call(run_mafft)"
   ]
  },
  {
   "cell_type": "markdown",
   "id": "4d00d527",
   "metadata": {},
   "source": [
    "### 5.  Get the MLST distribution\n",
    "The goal is to find clonal complex(CC) specific hotspots. But, we only want to utilize CCs that have >=450 sequences. So get the distribution of sequences for each clonal complex. "
   ]
  },
  {
   "cell_type": "code",
   "execution_count": 3,
   "id": "d525083a",
   "metadata": {},
   "outputs": [
    {
     "data": {
      "text/html": [
       "<div>\n",
       "<style scoped>\n",
       "    .dataframe tbody tr th:only-of-type {\n",
       "        vertical-align: middle;\n",
       "    }\n",
       "\n",
       "    .dataframe tbody tr th {\n",
       "        vertical-align: top;\n",
       "    }\n",
       "\n",
       "    .dataframe thead th {\n",
       "        text-align: right;\n",
       "    }\n",
       "</style>\n",
       "<table border=\"1\" class=\"dataframe\">\n",
       "  <thead>\n",
       "    <tr style=\"text-align: right;\">\n",
       "      <th></th>\n",
       "      <th>genome.genome_id</th>\n",
       "      <th>genome.mlst</th>\n",
       "    </tr>\n",
       "  </thead>\n",
       "  <tbody>\n",
       "    <tr>\n",
       "      <th>0</th>\n",
       "      <td>1280.15381</td>\n",
       "      <td>MLST.Staphylococcus_aureus.1245</td>\n",
       "    </tr>\n",
       "    <tr>\n",
       "      <th>1</th>\n",
       "      <td>703339.3</td>\n",
       "      <td>MLST.Staphylococcus_aureus.225</td>\n",
       "    </tr>\n",
       "    <tr>\n",
       "      <th>2</th>\n",
       "      <td>1280.15378</td>\n",
       "      <td>MLST.Staphylococcus_aureus.2574</td>\n",
       "    </tr>\n",
       "    <tr>\n",
       "      <th>3</th>\n",
       "      <td>1280.15371</td>\n",
       "      <td>MLST.Staphylococcus_aureus.97</td>\n",
       "    </tr>\n",
       "    <tr>\n",
       "      <th>4</th>\n",
       "      <td>1413559.3</td>\n",
       "      <td>MLST.Staphylococcus_aureus.398</td>\n",
       "    </tr>\n",
       "  </tbody>\n",
       "</table>\n",
       "</div>"
      ],
      "text/plain": [
       "  genome.genome_id                      genome.mlst\n",
       "0       1280.15381  MLST.Staphylococcus_aureus.1245\n",
       "1         703339.3   MLST.Staphylococcus_aureus.225\n",
       "2       1280.15378  MLST.Staphylococcus_aureus.2574\n",
       "3       1280.15371    MLST.Staphylococcus_aureus.97\n",
       "4        1413559.3   MLST.Staphylococcus_aureus.398"
      ]
     },
     "execution_count": 3,
     "metadata": {},
     "output_type": "execute_result"
    }
   ],
   "source": [
    "mlst_df = pd.read_csv('data/patric_entropy/mlst.txt', sep='\\t', dtype={'genome.genome_id': str})\n",
    "mlst_df.head()"
   ]
  },
  {
   "cell_type": "code",
   "execution_count": 4,
   "id": "1f5db95c",
   "metadata": {},
   "outputs": [],
   "source": [
    "# clean up some of the names\n",
    "for idx, row in mlst_df[~mlst_df['genome.mlst'].str.contains('MLST')].iterrows():\n",
    "    mlst = 'MLST.Staphylococcus_aureus.' + row['genome.mlst'].replace('ST', '')\n",
    "    mlst_df.loc[idx, 'genome.mlst'] = mlst"
   ]
  },
  {
   "cell_type": "code",
   "execution_count": 21,
   "id": "711c7bde",
   "metadata": {},
   "outputs": [
    {
     "data": {
      "image/png": "[encoded data removed]",
      "text/plain": [
       "<Figure size 640x480 with 1 Axes>"
      ]
     },
     "metadata": {},
     "output_type": "display_data"
    }
   ],
   "source": [
    "min_count = 450\n",
    "value_counts = mlst_df['genome.mlst'].value_counts()[20::-1]\n",
    "# colors = ['red' if ct >= 450 else 'blue' for ct in value_counts]\n",
    "data_color_normalized = [(i * 5) / float(max(value_counts)) for i in value_counts.values]\n",
    "my_cmap = plt.cm.get_cmap('RdBu_r')\n",
    "colors = my_cmap(data_color_normalized)\n",
    "\n",
    "ylabels = value_counts.index.str.replace('MLST.Staphylococcus_aureus.', '')\n",
    "fig, ax = plt.subplots()\n",
    "ax.tick_params(which='both', axis='both', direction='in', reset=True,\n",
    "               top=False, right=False)\n",
    "\n",
    "ax.barh(np.arange(len(value_counts)), value_counts, color=colors, alpha=0.8)\n",
    "_ = ax.set_yticks(ticks=np.arange(len(value_counts)))\n",
    "_ = ax.set_yticklabels(labels=ylabels)\n",
    "ax.set_ylabel('MLST', fontname='Arial', fontsize=18)\n",
    "\n",
    "ax.set_xlabel('Number of PATRIC genomes', fontname='Arial', fontsize=18)\n",
    "ax.vlines(min_count, -1, len(value_counts), linestyles='--', color='gray')\n",
    "sns.despine(offset=10)\n",
    "ax.set_ylim(-1, len(value_counts))\n",
    "plt.savefig('figures/PATRIC_mlst_genome_dist.svg')"
   ]
  },
  {
   "cell_type": "code",
   "execution_count": 9,
   "id": "337e398c",
   "metadata": {},
   "outputs": [],
   "source": [
    "selected_mlst = mlst_df.groupby('genome.mlst').filter(lambda x: len(x) >= 0)['genome.mlst'].unique()"
   ]
  },
  {
   "cell_type": "markdown",
   "id": "f9217d6e",
   "metadata": {},
   "source": [
    "### 6. Calculate entropy per clonal complex"
   ]
  },
  {
   "cell_type": "code",
   "execution_count": 10,
   "id": "22bbbbc9",
   "metadata": {},
   "outputs": [],
   "source": [
    "genome_to_mlst = dict(mlst_df.set_index('genome.genome_id')['genome.mlst'])"
   ]
  },
  {
   "cell_type": "code",
   "execution_count": 11,
   "id": "3e992880",
   "metadata": {},
   "outputs": [],
   "source": [
    "def read_aln(aln_file, genome_to_mlst, selected_mlst):\n",
    "    \"\"\"\n",
    "    Concats aligned sequences if they are from the selected_mlst\n",
    "    \n",
    "    Parameters\n",
    "    ----------\n",
    "    aln_file: str\n",
    "        path to alignment file\n",
    "    genome_to_mlst: dict\n",
    "        dictionary mapping the genome PATRIC id to mlst\n",
    "    selected_mlst: list, set\n",
    "        list of MLST to be included\n",
    "        \n",
    "    returns\n",
    "    -------\n",
    "    concat_seq: str\n",
    "        sequnence of concatnated alignment sequences; only sequences from the genomes belonging\n",
    "        to selected_mlst will be concatenated\n",
    "    count: int\n",
    "        number of sequences that were concatenated\n",
    "    \"\"\"\n",
    "    ctseq = ''\n",
    "    count = 0\n",
    "    for seq in SeqIO.parse(aln_file, 'fasta'):\n",
    "        gen = seq.id.split('.peg')[0].split('fig|')[-1]\n",
    "        try:\n",
    "            mlst = genome_to_mlst[gen]\n",
    "        except KeyError:\n",
    "            continue\n",
    "        else:\n",
    "            if mlst in selected_mlst:\n",
    "                ctseq += str(seq.seq)\n",
    "                count += 1\n",
    "    return ctseq, count"
   ]
  },
  {
   "cell_type": "code",
   "execution_count": 12,
   "id": "9d4950b2",
   "metadata": {},
   "outputs": [],
   "source": [
    "def getpos_seq(ctseq, count, start, total_len, indiv_len):\n",
    "    \"\"\"\n",
    "    Yields the sequences at the next position of the ctseq i.e. sequence at the 0th\n",
    "    position of all the aligned sequences. The length of the returned sequence is \n",
    "    equal to count; one per aligned sequence. \n",
    "    \n",
    "    Parameters\n",
    "    ----------\n",
    "    ctseq: str\n",
    "        concatenated alignment sequences\n",
    "    count: int\n",
    "        number of concatenated sequences\n",
    "    \n",
    "    yields\n",
    "    -------\n",
    "    pos_seq: str\n",
    "        sequence at the next position of each of the aligned sequences\n",
    "    \"\"\"\n",
    "    \n",
    "    return [ctseq[j] for j in np.arange(start, total_len, indiv_len).astype(int)]\n",
    "\n",
    "\n",
    "def calc_entropy(sequences):\n",
    "    \"\"\"\n",
    "    Calculates the entropy of the input string\n",
    "    \n",
    "    Parameters\n",
    "    ----------\n",
    "    sequences: str\n",
    "        sequence to calculate entropy for\n",
    "    \n",
    "    returns\n",
    "    -------\n",
    "    entropy: float\n",
    "        the entropy value of the input string\n",
    "    \"\"\"\n",
    "    \n",
    "    freqs = [i/len(sequences) for i in Counter(sequences).values()]\n",
    "    return entropy(freqs)"
   ]
  },
  {
   "cell_type": "code",
   "execution_count": 20,
   "id": "18c56f45",
   "metadata": {},
   "outputs": [],
   "source": [
    "# non_cc8 = ['MLST.Staphylococcus_aureus.398',\n",
    "#        'MLST.Staphylococcus_aureus.5', 'MLST.Staphylococcus_aureus.105',\n",
    "#        'MLST.Staphylococcus_aureus.45', 'MLST.Staphylococcus_aureus.22',\n",
    "#        'MLST.Staphylococcus_aureus.1']\n",
    "# cc8 = [ 'MLST.Staphylococcus_aureus.8']\n",
    "# cc5 = ['MLST.Staphylococcus_aureus.5']\n",
    "\n",
    "# all_class = ['MLST.Staphylococcus_aureus.398',\n",
    "#        'MLST.Staphylococcus_aureus.5', 'MLST.Staphylococcus_aureus.105',\n",
    "#        'MLST.Staphylococcus_aureus.45', 'MLST.Staphylococcus_aureus.22',\n",
    "#        'MLST.Staphylococcus_aureus.1', 'MLST.Staphylococcus_aureus.8']"
   ]
  },
  {
   "cell_type": "code",
   "execution_count": 13,
   "id": "e993b0a7",
   "metadata": {},
   "outputs": [],
   "source": [
    "cc8 = [ 'MLST.Staphylococcus_aureus.8']\n",
    "non_cc8 = [i for i in mlst_df['genome.mlst'].unique() if i not in cc8 and '239' not in i]"
   ]
  },
  {
   "cell_type": "code",
   "execution_count": 14,
   "id": "6b9ea3e2",
   "metadata": {},
   "outputs": [],
   "source": [
    "def get_plot(fname, plot=True):\n",
    "#     fname = 'USA300HOU_RS13015_PLF'\n",
    "    ctseq, count = read_aln('data/patric_entropy/alignment_files_aa/' + fname,\n",
    "                           genome_to_mlst, non_cc8)\n",
    "    # ctseq, count = read_aln('data/patric_entropy/alignment_files/USA300HOU_RS01995_PLF',\n",
    "    #                        genome_to_mlst, selected_mlst)\n",
    "    total_len = len(ctseq)\n",
    "    indiv_len = total_len / count\n",
    "    ent = []\n",
    "    sq_dict = {}\n",
    "    for start in np.arange(indiv_len):\n",
    "        sq = getpos_seq(ctseq, count, start, total_len, indiv_len)\n",
    "        entropy = calc_entropy(sq)\n",
    "        if entropy >= 0.2:\n",
    "            sq_dict.update({start: sq})\n",
    "        ent.append(calc_entropy(sq))\n",
    "\n",
    "    ctseq, count = read_aln('data/patric_entropy/alignment_files_aa/' + fname,\n",
    "                           genome_to_mlst, cc8)\n",
    "    # ctseq, count = read_aln('data/patric_entropy/alignment_files/USA300HOU_RS01995_PLF',\n",
    "    #                        genome_to_mlst, selected_mlst)\n",
    "    total_len = len(ctseq)\n",
    "    indiv_len = total_len / count\n",
    "    cc8_ent = []\n",
    "    sq_dict_cc8 = {}\n",
    "    for start in np.arange(indiv_len):\n",
    "        sq = getpos_seq(ctseq, count, start, total_len, indiv_len)\n",
    "        entropy = calc_entropy(sq)\n",
    "        if entropy >= 0.2:\n",
    "            sq_dict_cc8.update({start: sq})\n",
    "        cc8_ent.append(entropy)\n",
    "    if plot:\n",
    "        fig, ax = plt.subplots(2)\n",
    "        ax[0].set_title(lt_to_prod[fname.replace('_PLF', '')] + fname)\n",
    "        ax[0].plot(ent)\n",
    "        ax[0].set_ylim(0, 0.8)\n",
    "        ax[1].plot(cc8_ent)\n",
    "        ax[1].set_ylim(0, 0.8)\n",
    "    return ent, cc8_ent, sq_dict, sq_dict_cc8"
   ]
  },
  {
   "cell_type": "code",
   "execution_count": 15,
   "id": "56ff7b1f",
   "metadata": {},
   "outputs": [],
   "source": [
    "lt_to_prod = {}\n",
    "for refseq in SeqIO.parse('/home/saugat/Desktop/Reference/genome/TCH1516.gb', 'genbank'):\n",
    "    for feat in refseq.features:\n",
    "        if feat.type != 'CDS':\n",
    "            continue\n",
    "        lt_to_prod.update({feat.qualifiers['locus_tag'][0]: feat.qualifiers['product'][0]})"
   ]
  },
  {
   "cell_type": "code",
   "execution_count": 16,
   "id": "f2340317",
   "metadata": {},
   "outputs": [
    {
     "data": {
      "text/plain": [
       "61"
      ]
     },
     "execution_count": 16,
     "metadata": {},
     "output_type": "execute_result"
    }
   ],
   "source": [
    "fnames = [i for i in os.listdir('data/patric_entropy/alignment_files_aa/')]\n",
    "len(fnames)"
   ]
  },
  {
   "cell_type": "code",
   "execution_count": 337,
   "id": "aafff142",
   "metadata": {},
   "outputs": [
    {
     "data": {
      "text/plain": [
       "dict_values([289, 16863, 16169, 192, 10203, 2214, 16363, 16556, 16269, 14588, 16230, 10377, 16144, 17369, 16246, 16217, 15006, 16226, 16434, 16416, 16311, 16743, 4846, 16259, 14517, 16270, 16235, 17686, 14402, 0, 11724, 16227, 16502, 16358, 16200, 16377, 16217, 9435, 16329, 16281, 16194, 16280, 1510, 16259, 16222, 16230, 16313, 16223, 16218, 9261, 12885, 16202, 12352, 16985, 18155, 16213, 16222, 16215, 16418, 12737, 16273])"
      ]
     },
     "execution_count": 337,
     "metadata": {},
     "output_type": "execute_result"
    }
   ],
   "source": [
    "aln_counts.values()"
   ]
  },
  {
   "cell_type": "code",
   "execution_count": 331,
   "id": "d4f15918",
   "metadata": {},
   "outputs": [
    {
     "name": "stderr",
     "output_type": "stream",
     "text": [
      "100%|██████████| 61/61 [02:55<00:00,  2.87s/it]\n"
     ]
    }
   ],
   "source": [
    "aln_counts = {}\n",
    "for fname in tqdm.tqdm(fnames):\n",
    "    _, count = ctseq, count = read_aln('data/patric_entropy/alignment_files_aa/' + fname,\n",
    "                           genome_to_mlst, mlst_df['genome.mlst'].values)\n",
    "    aln_counts.update({fname:count})"
   ]
  },
  {
   "cell_type": "code",
   "execution_count": null,
   "id": "bde9d184",
   "metadata": {},
   "outputs": [],
   "source": [
    "problems = [3, # no peaks\n",
    "           29, #divison by zero\n",
    "           36, #no peak in other\n",
    "           42, #no cc8 peaks\n",
    "           44]"
   ]
  },
  {
   "cell_type": "code",
   "execution_count": 106,
   "id": "af7c66b7",
   "metadata": {},
   "outputs": [],
   "source": [
    "# individually double check each of the ones and choose to include\n",
    "included = [0, 2, 4, 5, 8, 10, 11 , 12, 14, 15, 16, 17, 19, 20, 21, 23, 24,\n",
    "           25, 26, 28, 32, 34, 35, 37, 39, 41, 47, 48, 51, 52, 57, 58, 59, 60]\n",
    "#maybe 33"
   ]
  },
  {
   "cell_type": "code",
   "execution_count": 254,
   "id": "5195d641",
   "metadata": {},
   "outputs": [],
   "source": [
    "n = 0"
   ]
  },
  {
   "cell_type": "code",
   "execution_count": null,
   "id": "4c3929f6",
   "metadata": {},
   "outputs": [],
   "source": []
  },
  {
   "cell_type": "code",
   "execution_count": 17,
   "id": "a282174e",
   "metadata": {},
   "outputs": [
    {
     "name": "stdout",
     "output_type": "stream",
     "text": [
      "USA300HOU_RS00820 NAD-dependent epimerase/dehydratase family protein\n",
      "Length: 342\n",
      "['C222A(D74Y)']\n",
      "CC8 peaks:  [74]\n",
      "nonCC8 peaks:  [74]\n"
     ]
    },
    {
     "data": {
      "image/png": "[encoded data removed]",
      "text/plain": [
       "<Figure size 640x480 with 2 Axes>"
      ]
     },
     "metadata": {},
     "output_type": "display_data"
    }
   ],
   "source": [
    "name = 'USA300HOU_RS00820_PLF'\n",
    "\n",
    "lt = name.replace('_PLF', '')\n",
    "print(lt, lt_to_prod[lt])\n",
    "ent, cc8_ent, sq_dict, sq_dict_usa300 = get_plot(name)\n",
    "print('Length:', len(ent))\n",
    "print(kmer_md[kmer_md.TCH1516_feats == lt]['TCH1516_mutation_map'].values)\n",
    "print('CC8 peaks: ', find_peaks(cc8_ent, prominence=(0.2))[0])\n",
    "print('nonCC8 peaks: ', find_peaks(ent, prominence=(0.2))[0])"
   ]
  },
  {
   "cell_type": "code",
   "execution_count": 255,
   "id": "c7eb0d04",
   "metadata": {},
   "outputs": [
    {
     "name": "stdout",
     "output_type": "stream",
     "text": [
      "0\n",
      "USA300HOU_RS03100 DUF1450 domain-containing protein\n",
      "Length: 113\n",
      "['A286T(E95V)']\n",
      "CC8 peaks:  [95]\n",
      "nonCC8 peaks:  [77]\n"
     ]
    },
    {
     "data": {
      "image/png": "[encoded data removed]",
      "text/plain": [
       "<Figure size 640x480 with 2 Axes>"
      ]
     },
     "metadata": {},
     "output_type": "display_data"
    }
   ],
   "source": [
    "name = fnames[included[n]]\n",
    "\n",
    "lt = name.replace('_PLF', '')\n",
    "print(n)\n",
    "print(lt, lt_to_prod[lt])\n",
    "ent, cc8_ent, sq_dict, sq_dict_usa300 = get_plot(name)\n",
    "print('Length:', len(ent))\n",
    "print(kmer_md[kmer_md.TCH1516_feats == lt]['TCH1516_mutation_map'].values)\n",
    "print('CC8 peaks: ', find_peaks(cc8_ent, prominence=(0.2))[0])\n",
    "print('nonCC8 peaks: ', find_peaks(ent, prominence=(0.2))[0])\n",
    "n += 1"
   ]
  },
  {
   "cell_type": "code",
   "execution_count": 329,
   "id": "c836896a",
   "metadata": {},
   "outputs": [
    {
     "data": {
      "image/png": "[encoded data removed]",
      "text/plain": [
       "<Figure size 640x480 with 2 Axes>"
      ]
     },
     "metadata": {},
     "output_type": "display_data"
    }
   ],
   "source": [
    "sns.reset_orig()\n",
    "fig, ax = plt.subplots(2, sharex=True, sharey=True)\n",
    "ax[0].plot(ent, color='red', alpha=0.7)\n",
    "ax[0].set_ylim(0, 0.6)\n",
    "ax[1].plot(cc8_ent, color='red', alpha=0.7)\n",
    "ax[1].set_ylim(0, 0.6)\n",
    "ax[1].set_xlabel('MSA position', fontname='Arial', fontsize=16)\n",
    "ax[1].text(-57, 0.7, 'Position specific entropy', va='center', rotation='vertical',\n",
    "          fontname='Arial', fontsize=16)\n",
    "\n",
    "ax[0].text(355, 0.52, 'CC8 strains', ha='right', fontname='Arial', fontsize=14)\n",
    "ax[1].text(355, 0.52, 'non-CC8 strains', ha='right', fontname='Arial', fontsize=14)\n",
    "\n",
    "ax[0].text(75, 0.37, 'D75Y', fontname='Arial', fontsize=12)\n",
    "ax[1].text(75, 0.5, 'D75Y', fontname='Arial', fontsize=12)\n",
    "\n",
    "ax[1].tick_params(which='both', axis='y', direction='in')\n",
    "ax[0].tick_params(which='both', axis='y', direction='in')\n",
    "\n",
    "ax[1].xaxis.set_minor_locator(MultipleLocator(5))\n",
    "ax[1].yaxis.set_minor_locator(MultipleLocator(0.02))\n",
    "ax[0].xaxis.set_minor_locator(MultipleLocator(5))\n",
    "ax[0].yaxis.set_minor_locator(MultipleLocator(0.02))\n",
    "\n",
    "sns.despine(offset=5)\n",
    "plt.savefig('figures/Cap5e_entropy.svg')"
   ]
  },
  {
   "cell_type": "markdown",
   "id": "7e33cac2",
   "metadata": {},
   "source": [
    "# PATRIC entropy example"
   ]
  },
  {
   "cell_type": "code",
   "execution_count": 121,
   "id": "1e7e70d7",
   "metadata": {},
   "outputs": [
    {
     "data": {
      "text/plain": [
       "0.5004024235381879"
      ]
     },
     "execution_count": 121,
     "metadata": {},
     "output_type": "execute_result"
    }
   ],
   "source": [
    "calc_entropy('TYARD')\n",
    "\n",
    "calc_entropy('AAAKK')\n",
    "\n",
    "calc_entropy('AAAKA')"
   ]
  },
  {
   "cell_type": "code",
   "execution_count": 135,
   "id": "6b64fd15",
   "metadata": {},
   "outputs": [
    {
     "data": {
      "text/plain": [
       "Text(0.5, 0, 'MSA Position')"
      ]
     },
     "execution_count": 135,
     "metadata": {},
     "output_type": "execute_result"
    },
    {
     "data": {
      "image/png": "[encoded data removed]",
      "text/plain": [
       "<Figure size 1800x600 with 1 Axes>"
      ]
     },
     "metadata": {},
     "output_type": "display_data"
    }
   ],
   "source": [
    "# ys = np.zeros(210)\n",
    "# ys = ys + 0.1\n",
    "fig, ax = plt.subplots(figsize=(18, 6))\n",
    "ys[40] = 0.1\n",
    "ys[110] = 0.4\n",
    "ys[180] = 0.7\n",
    "# ax.bar([40], [0.1], color='yellow')\n",
    "# ax.bar([110], [0.4], color='orange')\n",
    "# ax.bar([180], [0.7], color='red')\n",
    "ax.plot(np.arange(210), ys)\n",
    "ax.set_xlim(0, 210)\n",
    "\n",
    "ax.set_xticklabels([])\n",
    "ax.set_yticklabels([])\n",
    "\n",
    "sns.despine(offset=10)\n",
    "\n",
    "ax.set_ylabel('Position Entropy', fontname='Arial', fontsize=20)\n",
    "ax.set_xlabel('MSA Position', fontname='Arial', fontsize=20)\n",
    "\n"
   ]
  },
  {
   "cell_type": "code",
   "execution_count": 179,
   "id": "12edec69",
   "metadata": {},
   "outputs": [
    {
     "data": {
      "image/png": "[encoded data removed]",
      "text/plain": [
       "<Figure size 1200x400 with 1 Axes>"
      ]
     },
     "metadata": {},
     "output_type": "display_data"
    }
   ],
   "source": [
    "ys = np.zeros(210)\n",
    "ys[30] = 0.1\n",
    "ys[100] = 0.4\n",
    "ys[185] = 0.7\n",
    "fig, ax = plt.subplots(figsize=(12, 4))\n",
    "ax.plot(np.arange(210), ys, color='black')\n",
    "ax.set_ylim(0, 0.75)\n",
    "\n",
    "rect = Rectangle((25, 0), 10, 0.8, alpha=0.6, color='#f68b1b')\n",
    "ax.add_artist(rect)\n",
    "rect = Rectangle((95, 0), 10, 0.8, alpha=0.6, color='#f15a22')\n",
    "ax.add_artist(rect)\n",
    "rect = Rectangle((180, 0), 10, 0.8, alpha=0.6, color='#ed1c24')\n",
    "ax.add_artist(rect)\n",
    "\n",
    "ax.set_xticklabels([])\n",
    "ax.set_yticklabels([])\n",
    "\n",
    "sns.despine(offset=10)\n",
    "\n",
    "ax.set_ylabel('Position Entropy', fontname='Arial', fontsize=35)\n",
    "ax.set_xlabel('MSA Position', fontname='Arial', fontsize=35)\n",
    "\n",
    "ax.tick_params(which='both', axis='both', direction='in')\n",
    "ax.tick_params(which='major', axis='both', length=8)\n",
    "ax.tick_params(which='major', axis='both', length=4)\n",
    "\n",
    "\n",
    "ax.xaxis.set_minor_locator(MultipleLocator(2))\n",
    "ax.yaxis.set_minor_locator(MultipleLocator(0.01))\n",
    "\n",
    "plt.savefig('figures/entropy_example.svg')"
   ]
  },
  {
   "cell_type": "code",
   "execution_count": null,
   "id": "0741b059",
   "metadata": {},
   "outputs": [],
   "source": [
    "plt.scatter(np.arange(0))"
   ]
  },
  {
   "cell_type": "code",
   "execution_count": 213,
   "id": "bcfc986e",
   "metadata": {},
   "outputs": [
    {
     "data": {
      "text/plain": [
       "Counter({'M': 620, '-': 1870})"
      ]
     },
     "execution_count": 213,
     "metadata": {},
     "output_type": "execute_result"
    }
   ],
   "source": [
    "Counter(sq_dict_usa300[103])"
   ]
  },
  {
   "cell_type": "markdown",
   "id": "8449f4db",
   "metadata": {},
   "source": [
    "# Look at the distance"
   ]
  },
  {
   "cell_type": "code",
   "execution_count": 181,
   "id": "36fb0873",
   "metadata": {},
   "outputs": [
    {
     "data": {
      "text/html": [
       "<div>\n",
       "<style scoped>\n",
       "    .dataframe tbody tr th:only-of-type {\n",
       "        vertical-align: middle;\n",
       "    }\n",
       "\n",
       "    .dataframe tbody tr th {\n",
       "        vertical-align: top;\n",
       "    }\n",
       "\n",
       "    .dataframe thead th {\n",
       "        text-align: right;\n",
       "    }\n",
       "</style>\n",
       "<table border=\"1\" class=\"dataframe\">\n",
       "  <thead>\n",
       "    <tr style=\"text-align: right;\">\n",
       "      <th></th>\n",
       "      <th>Protein</th>\n",
       "      <th>Length</th>\n",
       "      <th>Mutation</th>\n",
       "      <th>CC8 Peak</th>\n",
       "      <th>Non-CC8 Peak</th>\n",
       "      <th>Distance</th>\n",
       "    </tr>\n",
       "    <tr>\n",
       "      <th>Locus Tag</th>\n",
       "      <th></th>\n",
       "      <th></th>\n",
       "      <th></th>\n",
       "      <th></th>\n",
       "      <th></th>\n",
       "      <th></th>\n",
       "    </tr>\n",
       "  </thead>\n",
       "  <tbody>\n",
       "    <tr>\n",
       "      <th>USA300HOU_RS00820</th>\n",
       "      <td>NAD-dependent epimerase/dehydratase family pro...</td>\n",
       "      <td>342</td>\n",
       "      <td>C222A(D74Y)</td>\n",
       "      <td>74</td>\n",
       "      <td>74.0</td>\n",
       "      <td>0</td>\n",
       "    </tr>\n",
       "    <tr>\n",
       "      <th>USA300HOU_RS08285</th>\n",
       "      <td>penicillin-binding protein 2</td>\n",
       "      <td>774</td>\n",
       "      <td>C2046T(D682N)</td>\n",
       "      <td>706</td>\n",
       "      <td>707.0</td>\n",
       "      <td>1</td>\n",
       "    </tr>\n",
       "    <tr>\n",
       "      <th>USA300HOU_RS13015</th>\n",
       "      <td>type II toxin-antitoxin system Phd/YefM family...</td>\n",
       "      <td>116</td>\n",
       "      <td>[T73A(D24V)]</td>\n",
       "      <td>27</td>\n",
       "      <td>28.0</td>\n",
       "      <td>1</td>\n",
       "    </tr>\n",
       "    <tr>\n",
       "      <th>USA300HOU_RS14000</th>\n",
       "      <td>alpha/beta hydrolase</td>\n",
       "      <td>336</td>\n",
       "      <td>G592A(S197L)</td>\n",
       "      <td>208</td>\n",
       "      <td>209.0</td>\n",
       "      <td>1</td>\n",
       "    </tr>\n",
       "    <tr>\n",
       "      <th>USA300HOU_RS14425</th>\n",
       "      <td>flavin reductase family protein</td>\n",
       "      <td>445</td>\n",
       "      <td>C346T(G115D)</td>\n",
       "      <td>321</td>\n",
       "      <td>319.0</td>\n",
       "      <td>2</td>\n",
       "    </tr>\n",
       "  </tbody>\n",
       "</table>\n",
       "</div>"
      ],
      "text/plain": [
       "                                                             Protein  Length   \\\n",
       "Locus Tag                                                                       \n",
       "USA300HOU_RS00820  NAD-dependent epimerase/dehydratase family pro...      342   \n",
       "USA300HOU_RS08285                       penicillin-binding protein 2      774   \n",
       "USA300HOU_RS13015  type II toxin-antitoxin system Phd/YefM family...      116   \n",
       "USA300HOU_RS14000                               alpha/beta hydrolase      336   \n",
       "USA300HOU_RS14425                    flavin reductase family protein      445   \n",
       "\n",
       "                        Mutation  CC8 Peak  Non-CC8 Peak  Distance  \n",
       "Locus Tag                                                           \n",
       "USA300HOU_RS00820    C222A(D74Y)        74          74.0         0  \n",
       "USA300HOU_RS08285  C2046T(D682N)       706         707.0         1  \n",
       "USA300HOU_RS13015   [T73A(D24V)]        27          28.0         1  \n",
       "USA300HOU_RS14000   G592A(S197L)       208         209.0         1  \n",
       "USA300HOU_RS14425   C346T(G115D)       321         319.0         2  "
      ]
     },
     "execution_count": 181,
     "metadata": {},
     "output_type": "execute_result"
    }
   ],
   "source": [
    "endata = pd.read_csv('data/patric_entropy/Entropy_data', index_col=0)\n",
    "\n",
    "# reasons for drop-(1) silent mutation, (2) no peaks on nonCc8 i.e. unique cc8 mutation\n",
    "drop = ['USA300HOU_RS02380', 'USA300HOU_RS06720', 'USA300HOU_RS12805',\n",
    "        'USA300HOU_RS04385', 'USA300HOU_RS11870', 'USA300HOU_RS07190',\n",
    "       'USA300HOU_RS10800']\n",
    "endata.drop(drop, inplace=True)\n",
    "endata = endata.sort_values('Distance')\n",
    "\n",
    "endata.head()\n"
   ]
  },
  {
   "cell_type": "code",
   "execution_count": 202,
   "id": "42cb7687",
   "metadata": {},
   "outputs": [
    {
     "data": {
      "text/html": [
       "<div>\n",
       "<style scoped>\n",
       "    .dataframe tbody tr th:only-of-type {\n",
       "        vertical-align: middle;\n",
       "    }\n",
       "\n",
       "    .dataframe tbody tr th {\n",
       "        vertical-align: top;\n",
       "    }\n",
       "\n",
       "    .dataframe thead th {\n",
       "        text-align: right;\n",
       "    }\n",
       "</style>\n",
       "<table border=\"1\" class=\"dataframe\">\n",
       "  <thead>\n",
       "    <tr style=\"text-align: right;\">\n",
       "      <th></th>\n",
       "      <th>Protein</th>\n",
       "      <th>Length</th>\n",
       "      <th>Mutation</th>\n",
       "      <th>CC8 Peak</th>\n",
       "      <th>Non-CC8 Peak</th>\n",
       "      <th>Distance</th>\n",
       "    </tr>\n",
       "    <tr>\n",
       "      <th>Locus Tag</th>\n",
       "      <th></th>\n",
       "      <th></th>\n",
       "      <th></th>\n",
       "      <th></th>\n",
       "      <th></th>\n",
       "      <th></th>\n",
       "    </tr>\n",
       "  </thead>\n",
       "  <tbody>\n",
       "    <tr>\n",
       "      <th>USA300HOU_RS00820</th>\n",
       "      <td>NAD-dependent epimerase/dehydratase family pro...</td>\n",
       "      <td>342</td>\n",
       "      <td>C222A(D74Y)</td>\n",
       "      <td>74</td>\n",
       "      <td>74.0</td>\n",
       "      <td>0</td>\n",
       "    </tr>\n",
       "    <tr>\n",
       "      <th>USA300HOU_RS08285</th>\n",
       "      <td>penicillin-binding protein 2</td>\n",
       "      <td>774</td>\n",
       "      <td>C2046T(D682N)</td>\n",
       "      <td>706</td>\n",
       "      <td>707.0</td>\n",
       "      <td>1</td>\n",
       "    </tr>\n",
       "    <tr>\n",
       "      <th>USA300HOU_RS13015</th>\n",
       "      <td>type II toxin-antitoxin system Phd/YefM family...</td>\n",
       "      <td>116</td>\n",
       "      <td>[T73A(D24V)]</td>\n",
       "      <td>27</td>\n",
       "      <td>28.0</td>\n",
       "      <td>1</td>\n",
       "    </tr>\n",
       "    <tr>\n",
       "      <th>USA300HOU_RS14000</th>\n",
       "      <td>alpha/beta hydrolase</td>\n",
       "      <td>336</td>\n",
       "      <td>G592A(S197L)</td>\n",
       "      <td>208</td>\n",
       "      <td>209.0</td>\n",
       "      <td>1</td>\n",
       "    </tr>\n",
       "    <tr>\n",
       "      <th>USA300HOU_RS14425</th>\n",
       "      <td>flavin reductase family protein</td>\n",
       "      <td>445</td>\n",
       "      <td>C346T(G115D)</td>\n",
       "      <td>321</td>\n",
       "      <td>319.0</td>\n",
       "      <td>2</td>\n",
       "    </tr>\n",
       "    <tr>\n",
       "      <th>USA300HOU_RS12255</th>\n",
       "      <td>MarR family transcriptional regulator</td>\n",
       "      <td>179</td>\n",
       "      <td>T421C(K140R)</td>\n",
       "      <td>168</td>\n",
       "      <td>170.0</td>\n",
       "      <td>2</td>\n",
       "    </tr>\n",
       "    <tr>\n",
       "      <th>USA300HOU_RS04015</th>\n",
       "      <td>glycerate kinase</td>\n",
       "      <td>444</td>\n",
       "      <td>C618T(H206Y)</td>\n",
       "      <td>212</td>\n",
       "      <td>215.0</td>\n",
       "      <td>3</td>\n",
       "    </tr>\n",
       "    <tr>\n",
       "      <th>USA300HOU_RS09160</th>\n",
       "      <td>PTS glucose transporter subunit IIBC</td>\n",
       "      <td>564</td>\n",
       "      <td>G223A(A74V)</td>\n",
       "      <td>75</td>\n",
       "      <td>81.0</td>\n",
       "      <td>6</td>\n",
       "    </tr>\n",
       "    <tr>\n",
       "      <th>USA300HOU_RS00465</th>\n",
       "      <td>TfoX family protein</td>\n",
       "      <td>1235</td>\n",
       "      <td>C64G(T21R)</td>\n",
       "      <td>37</td>\n",
       "      <td>46.0</td>\n",
       "      <td>9</td>\n",
       "    </tr>\n",
       "    <tr>\n",
       "      <th>USA300HOU_RS02515</th>\n",
       "      <td>ribonuclease M5</td>\n",
       "      <td>194</td>\n",
       "      <td>G293T(D97E)</td>\n",
       "      <td>101</td>\n",
       "      <td>110.0</td>\n",
       "      <td>9</td>\n",
       "    </tr>\n",
       "    <tr>\n",
       "      <th>USA300HOU_RS02590</th>\n",
       "      <td>nucleotide pyrophosphohydrolase</td>\n",
       "      <td>425</td>\n",
       "      <td>A1078T(K359I)</td>\n",
       "      <td>383</td>\n",
       "      <td>393.0</td>\n",
       "      <td>10</td>\n",
       "    </tr>\n",
       "    <tr>\n",
       "      <th>USA300HOU_RS03915</th>\n",
       "      <td>5'-3'-deoxyribonucleotidase</td>\n",
       "      <td>250</td>\n",
       "      <td>C180T(P60S)</td>\n",
       "      <td>64</td>\n",
       "      <td>75.0</td>\n",
       "      <td>11</td>\n",
       "    </tr>\n",
       "    <tr>\n",
       "      <th>USA300HOU_RS02855</th>\n",
       "      <td>DNA-directed RNA polymerase subunit beta'</td>\n",
       "      <td>1483</td>\n",
       "      <td>C2542T(R847H)</td>\n",
       "      <td>1042</td>\n",
       "      <td>1053.0</td>\n",
       "      <td>11</td>\n",
       "    </tr>\n",
       "    <tr>\n",
       "      <th>USA300HOU_RS10410</th>\n",
       "      <td>sodium-dependent dicarboxylate transporter SdcS</td>\n",
       "      <td>588</td>\n",
       "      <td>C711T(H237Y)</td>\n",
       "      <td>279</td>\n",
       "      <td>265.0</td>\n",
       "      <td>14</td>\n",
       "    </tr>\n",
       "    <tr>\n",
       "      <th>USA300HOU_RS08100</th>\n",
       "      <td>2-oxo acid dehydrogenase subunit E2</td>\n",
       "      <td>524</td>\n",
       "      <td>G1107A(V369I)</td>\n",
       "      <td>443</td>\n",
       "      <td>457.0</td>\n",
       "      <td>14</td>\n",
       "    </tr>\n",
       "    <tr>\n",
       "      <th>USA300HOU_RS13540</th>\n",
       "      <td>HTH-type transcriptional regulator SarU</td>\n",
       "      <td>309</td>\n",
       "      <td>T631A(L210H)</td>\n",
       "      <td>245</td>\n",
       "      <td>260.0</td>\n",
       "      <td>15</td>\n",
       "    </tr>\n",
       "    <tr>\n",
       "      <th>USA300HOU_RS03100</th>\n",
       "      <td>DUF1450 domain-containing protein</td>\n",
       "      <td>113</td>\n",
       "      <td>A286T(E95V)</td>\n",
       "      <td>95</td>\n",
       "      <td>77.0</td>\n",
       "      <td>18</td>\n",
       "    </tr>\n",
       "    <tr>\n",
       "      <th>USA300HOU_RS04920</th>\n",
       "      <td>ABC transporter ATP-binding protein</td>\n",
       "      <td>520</td>\n",
       "      <td>T259C(L86P)</td>\n",
       "      <td>101</td>\n",
       "      <td>82.0</td>\n",
       "      <td>19</td>\n",
       "    </tr>\n",
       "    <tr>\n",
       "      <th>USA300HOU_RS00560</th>\n",
       "      <td>DMT family transporter</td>\n",
       "      <td>300</td>\n",
       "      <td>G13A(R4Q)</td>\n",
       "      <td>7</td>\n",
       "      <td>27.0</td>\n",
       "      <td>20</td>\n",
       "    </tr>\n",
       "    <tr>\n",
       "      <th>USA300HOU_RS13880</th>\n",
       "      <td>copper-exporting P-type ATPase A</td>\n",
       "      <td>944</td>\n",
       "      <td>C1701T(H567Y)</td>\n",
       "      <td>671</td>\n",
       "      <td>697.0</td>\n",
       "      <td>26</td>\n",
       "    </tr>\n",
       "    <tr>\n",
       "      <th>USA300HOU_RS10350</th>\n",
       "      <td>geranylgeranylglyceryl/heptaprenylglyceryl pho...</td>\n",
       "      <td>361</td>\n",
       "      <td>C378T(V126M)</td>\n",
       "      <td>129</td>\n",
       "      <td>156.0</td>\n",
       "      <td>27</td>\n",
       "    </tr>\n",
       "    <tr>\n",
       "      <th>USA300HOU_RS00560</th>\n",
       "      <td>DMT family transporter</td>\n",
       "      <td>300</td>\n",
       "      <td>T267C(T89A)</td>\n",
       "      <td>95</td>\n",
       "      <td>124.0</td>\n",
       "      <td>29</td>\n",
       "    </tr>\n",
       "    <tr>\n",
       "      <th>USA300HOU_RS12320</th>\n",
       "      <td>molybdenum cofactor biosynthesis protein</td>\n",
       "      <td>179</td>\n",
       "      <td>T308A(E102D)</td>\n",
       "      <td>106</td>\n",
       "      <td>137.0</td>\n",
       "      <td>31</td>\n",
       "    </tr>\n",
       "    <tr>\n",
       "      <th>USA300HOU_RS11410</th>\n",
       "      <td>serine hydroxymethyltransferase</td>\n",
       "      <td>496</td>\n",
       "      <td>A319G(E106G)</td>\n",
       "      <td>132</td>\n",
       "      <td>101.0</td>\n",
       "      <td>31</td>\n",
       "    </tr>\n",
       "    <tr>\n",
       "      <th>USA300HOU_RS00910</th>\n",
       "      <td>ABC transporter ATP-binding protein</td>\n",
       "      <td>263</td>\n",
       "      <td>T436C(L145S)</td>\n",
       "      <td>159</td>\n",
       "      <td>190.0</td>\n",
       "      <td>31</td>\n",
       "    </tr>\n",
       "    <tr>\n",
       "      <th>USA300HOU_RS03720</th>\n",
       "      <td>aldo/keto reductase family oxidoreductase</td>\n",
       "      <td>339</td>\n",
       "      <td>C892A(G297V)</td>\n",
       "      <td>317</td>\n",
       "      <td>274.0</td>\n",
       "      <td>43</td>\n",
       "    </tr>\n",
       "    <tr>\n",
       "      <th>USA300HOU_RS03890</th>\n",
       "      <td>ABC transporter ATP-binding protein</td>\n",
       "      <td>710</td>\n",
       "      <td>A1005T(F335I)</td>\n",
       "      <td>390</td>\n",
       "      <td>439.0</td>\n",
       "      <td>49</td>\n",
       "    </tr>\n",
       "    <tr>\n",
       "      <th>USA300HOU_RS01995</th>\n",
       "      <td>histidine phosphatase family protein</td>\n",
       "      <td>201</td>\n",
       "      <td>A317T(E105D)</td>\n",
       "      <td>105</td>\n",
       "      <td>176.0</td>\n",
       "      <td>71</td>\n",
       "    </tr>\n",
       "  </tbody>\n",
       "</table>\n",
       "</div>"
      ],
      "text/plain": [
       "                                                             Protein  Length   \\\n",
       "Locus Tag                                                                       \n",
       "USA300HOU_RS00820  NAD-dependent epimerase/dehydratase family pro...      342   \n",
       "USA300HOU_RS08285                       penicillin-binding protein 2      774   \n",
       "USA300HOU_RS13015  type II toxin-antitoxin system Phd/YefM family...      116   \n",
       "USA300HOU_RS14000                               alpha/beta hydrolase      336   \n",
       "USA300HOU_RS14425                    flavin reductase family protein      445   \n",
       "USA300HOU_RS12255              MarR family transcriptional regulator      179   \n",
       "USA300HOU_RS04015                                   glycerate kinase      444   \n",
       "USA300HOU_RS09160               PTS glucose transporter subunit IIBC      564   \n",
       "USA300HOU_RS00465                                TfoX family protein     1235   \n",
       "USA300HOU_RS02515                                    ribonuclease M5      194   \n",
       "USA300HOU_RS02590                    nucleotide pyrophosphohydrolase      425   \n",
       "USA300HOU_RS03915                        5'-3'-deoxyribonucleotidase      250   \n",
       "USA300HOU_RS02855          DNA-directed RNA polymerase subunit beta'     1483   \n",
       "USA300HOU_RS10410    sodium-dependent dicarboxylate transporter SdcS      588   \n",
       "USA300HOU_RS08100                2-oxo acid dehydrogenase subunit E2      524   \n",
       "USA300HOU_RS13540            HTH-type transcriptional regulator SarU      309   \n",
       "USA300HOU_RS03100                  DUF1450 domain-containing protein      113   \n",
       "USA300HOU_RS04920                ABC transporter ATP-binding protein      520   \n",
       "USA300HOU_RS00560                             DMT family transporter      300   \n",
       "USA300HOU_RS13880                   copper-exporting P-type ATPase A      944   \n",
       "USA300HOU_RS10350  geranylgeranylglyceryl/heptaprenylglyceryl pho...      361   \n",
       "USA300HOU_RS00560                             DMT family transporter      300   \n",
       "USA300HOU_RS12320           molybdenum cofactor biosynthesis protein      179   \n",
       "USA300HOU_RS11410                    serine hydroxymethyltransferase      496   \n",
       "USA300HOU_RS00910                ABC transporter ATP-binding protein      263   \n",
       "USA300HOU_RS03720          aldo/keto reductase family oxidoreductase      339   \n",
       "USA300HOU_RS03890                ABC transporter ATP-binding protein      710   \n",
       "USA300HOU_RS01995               histidine phosphatase family protein      201   \n",
       "\n",
       "                        Mutation  CC8 Peak  Non-CC8 Peak  Distance  \n",
       "Locus Tag                                                           \n",
       "USA300HOU_RS00820    C222A(D74Y)        74          74.0         0  \n",
       "USA300HOU_RS08285  C2046T(D682N)       706         707.0         1  \n",
       "USA300HOU_RS13015   [T73A(D24V)]        27          28.0         1  \n",
       "USA300HOU_RS14000   G592A(S197L)       208         209.0         1  \n",
       "USA300HOU_RS14425   C346T(G115D)       321         319.0         2  \n",
       "USA300HOU_RS12255   T421C(K140R)       168         170.0         2  \n",
       "USA300HOU_RS04015   C618T(H206Y)       212         215.0         3  \n",
       "USA300HOU_RS09160    G223A(A74V)        75          81.0         6  \n",
       "USA300HOU_RS00465     C64G(T21R)        37          46.0         9  \n",
       "USA300HOU_RS02515    G293T(D97E)       101         110.0         9  \n",
       "USA300HOU_RS02590  A1078T(K359I)       383         393.0        10  \n",
       "USA300HOU_RS03915    C180T(P60S)        64          75.0        11  \n",
       "USA300HOU_RS02855  C2542T(R847H)      1042        1053.0        11  \n",
       "USA300HOU_RS10410   C711T(H237Y)       279         265.0        14  \n",
       "USA300HOU_RS08100  G1107A(V369I)       443         457.0        14  \n",
       "USA300HOU_RS13540   T631A(L210H)       245         260.0        15  \n",
       "USA300HOU_RS03100    A286T(E95V)        95          77.0        18  \n",
       "USA300HOU_RS04920    T259C(L86P)       101          82.0        19  \n",
       "USA300HOU_RS00560      G13A(R4Q)         7          27.0        20  \n",
       "USA300HOU_RS13880  C1701T(H567Y)       671         697.0        26  \n",
       "USA300HOU_RS10350   C378T(V126M)       129         156.0        27  \n",
       "USA300HOU_RS00560    T267C(T89A)        95         124.0        29  \n",
       "USA300HOU_RS12320   T308A(E102D)       106         137.0        31  \n",
       "USA300HOU_RS11410   A319G(E106G)       132         101.0        31  \n",
       "USA300HOU_RS00910   T436C(L145S)       159         190.0        31  \n",
       "USA300HOU_RS03720   C892A(G297V)       317         274.0        43  \n",
       "USA300HOU_RS03890  A1005T(F335I)       390         439.0        49  \n",
       "USA300HOU_RS01995   A317T(E105D)       105         176.0        71  "
      ]
     },
     "execution_count": 202,
     "metadata": {},
     "output_type": "execute_result"
    }
   ],
   "source": [
    "endata"
   ]
  },
  {
   "cell_type": "code",
   "execution_count": 297,
   "id": "3db1dbf7",
   "metadata": {
    "scrolled": true
   },
   "outputs": [
    {
     "name": "stdout",
     "output_type": "stream",
     "text": [
      "MTRKSIAIDMDEVLADTLGEIIDAVNFRADLGIKMEALNGQKLKHVIPEHDGLITEVLRESGFFRHLKVMPYAQEVVKKLTEHYDVYIATAAMDVPTSFSDKYEWLLEFFPFLDPQHFVFCGRKNIVKADYLIDDNPRQLEIFTGTPIMFTAVHNINDDRFERVNSWKDVEQYFLDNIEK\n"
     ]
    }
   ],
   "source": [
    "for refseq in SeqIO.parse('/home/saugat/Desktop/Reference/genome/TCH1516.gb', 'genbank'):\n",
    "    for feat in refseq.features:\n",
    "        try:\n",
    "            if feat.qualifiers['locus_tag'][0] == 'USA300HOU_RS03915':\n",
    "                print(feat.qualifiers['translation'][0])\n",
    "                seq = feat.qualifiers['translation'][0]\n",
    "        except KeyError:\n",
    "            continue"
   ]
  },
  {
   "cell_type": "code",
   "execution_count": 283,
   "id": "85b07560",
   "metadata": {},
   "outputs": [
    {
     "data": {
      "image/png": "[encoded data removed]",
      "text/plain": [
       "<Figure size 640x480 with 1 Axes>"
      ]
     },
     "metadata": {},
     "output_type": "display_data"
    }
   ],
   "source": [
    "y = endata.Distance.values\n",
    "my_cmap = plt.get_cmap(\"RdBu\")\n",
    "rescale = lambda y: (y - np.min(y)) / (np.max(y) - np.min(y))\n",
    "\n",
    "plt.barh(np.arange(len(endata)) * 1.2, y, color=my_cmap(rescale(y)), alpha=0.9)\n",
    "plt.xlabel('Distance to USA300 enriched mutations', fontsize=16)\n",
    "plt.ylabel('Gene products', fontsize=16)\n",
    "_ = plt.yticks([], [])\n",
    "\n",
    "_ = plt.text(2, 0, 'Cap5E (0)', va='center')\n",
    "_ = plt.text(2, 1.8 * 1.2, 'PBP2 (1)', va='center')\n",
    "_ = plt.text(2, 3 * 1.2, 'Phd/YefM family antitoxin (1)', va='center')\n",
    "_ = plt.text(4, 6 * 1.2, 'Glucose PTS (6)', va='center')\n",
    "_ = plt.text(12, 11 * 1.2, r\"RNA pol. $\\beta$' subunit (11)\", va='center')\n",
    "_ = plt.text(15, 13 * 1.2, 'akg-dehydrogenase E2 (14)', va='center')\n",
    "_ = plt.text(16, 15 * 1.2, 'SarU (15)', va='center')\n",
    "_ = plt.text(20, 17 * 1.2, 'Oligopeptide transporter (19)', va='center')\n",
    "_ = plt.text(32, 22 * 1.2, 'Serine hydroxymethyltransferase (31)', va='center')\n",
    "\n",
    "sns.despine(offset=10)\n",
    "plt.savefig('figures/ORF_peak_distance.svg')"
   ]
  },
  {
   "cell_type": "code",
   "execution_count": null,
   "id": "1df1d88e",
   "metadata": {},
   "outputs": [],
   "source": [
    "blastout = glob.glob(blast_output + '*')[0]\n",
    "lt = os.path.basename(blastout).replace('.tsv', '')\n",
    "refseq = next(SeqIO.parse(os.path.join(fa_dir, lt + '.faa'), 'fasta')).seq\n",
    "blastdf = pd.read_csv(blastout, index_col=0, sep='\\t', header=None)\n",
    "blastdf = blastdf[(blastdf[2] >= 80) & (blastdf[3] >= len(refseq))]682"
   ]
  },
  {
   "cell_type": "code",
   "execution_count": 1063,
   "id": "4051466e",
   "metadata": {},
   "outputs": [],
   "source": [
    "ctseq, count = read_aln('data/patric_entropy/alignment_files_aa/' + name,\n",
    "                           genome_to_mlst, cc8)"
   ]
  },
  {
   "cell_type": "code",
   "execution_count": null,
   "id": "2b0280c4",
   "metadata": {},
   "outputs": [],
   "source": [
    "df = pd.read_csv('blastout.txt', index_col=0, sep='\\t', header=None)"
   ]
  },
  {
   "cell_type": "code",
   "execution_count": 1110,
   "id": "dd92cc71",
   "metadata": {},
   "outputs": [
    {
     "name": "stdout",
     "output_type": "stream",
     "text": [
      ">USA300HOU_RS09160\n",
      "MYKFFQNLGRSLMLPVAILPAAAIIAGIGNTLNALHATPKIAMFFTTVGTTILEQLGILFAIGVAIGMAKKNDGVVALAATLGYFLVTVVLSPMKLAPLLGMKASEINSAFEKMNNGNVFVGIVIGLIAAYAYNKFSETELPLALSFFSGKRLVPIMTAFYCTFLVVILLFLWPLLYSWIVKFGESIVGLGSFGAFIYGVANRLLIPTGLHHALNSVFWFDTIGINDIGKFQSGKDAIKGITGRYQAGFFPIMMFGIPAAALAMYHTAKTTQKKQVYGWFLASSVAAFFVGVTEPIEFAFMFVAPILYVVHALLTGLSLFIAATFHWTAGFSFSAGLIDYVLSLINPVSNHPLMLLVQGVVFFILYYVIFRVVIQVFNLNTIGRGENELVDPTVVKDNIAPGENDIKQSKYHQHAIQILEGLGGQENIVNLTNCATRLRLELKDTSIIDKQKIKNAGAVGVTVNGKHSTQVIVGTHVQQVADEIEKHL\n",
      "\n"
     ]
    }
   ],
   "source": [
    "for refseq in SeqIO.parse('/home/saugat/Desktop/Reference/genome/TCH1516.gb', 'genbank'):\n",
    "    for feat in refseq.features:\n",
    "        try:\n",
    "            lt_name = feat.qualifiers['locus_tag'][0]\n",
    "        except KeyError:\n",
    "            continue\n",
    "        else:\n",
    "            if feat.type == 'CDS' and lt_name in lt:\n",
    "                seq = feat.qualifiers['translation'][0]\n",
    "                print(f'>{lt_name}\\n{seq}\\n')"
   ]
  },
  {
   "cell_type": "code",
   "execution_count": 389,
   "id": "21d7d028",
   "metadata": {},
   "outputs": [],
   "source": [
    "ctseq, count = read_aln('data/patric_entropy/alignment_files/' + fnames[46],\n",
    "                           genome_to_mlst, cc8)"
   ]
  },
  {
   "cell_type": "markdown",
   "id": "65dc78a8",
   "metadata": {},
   "source": [
    "### Amino acid analysis"
   ]
  },
  {
   "cell_type": "code",
   "execution_count": 1175,
   "id": "e1b24f42",
   "metadata": {},
   "outputs": [
    {
     "data": {
      "text/plain": [
       "61"
      ]
     },
     "execution_count": 1175,
     "metadata": {},
     "output_type": "execute_result"
    }
   ],
   "source": [
    "# Get all the locus tags with non-synonymous SNPs\n",
    "aa_mut = []\n",
    "for idx, row in kmer_md.dropna(subset=['TCH1516_mutation_map']).iterrows():\n",
    "    if '(' in row.TCH1516_mutation_map and ';' not in row.TCH1516_mutation_map:\n",
    "        mt = row.TCH1516_mutation_map.split('(')[-1].split(')')[0]\n",
    "        if mt[0] == mt[-1]:\n",
    "            continue\n",
    "        aa_mut.append(row.TCH1516_feats)\n",
    "len(aa_mut)"
   ]
  },
  {
   "cell_type": "code",
   "execution_count": 1176,
   "id": "52699a88",
   "metadata": {},
   "outputs": [],
   "source": [
    "def translate_file(infile, outdir):\n",
    "    outfile = os.path.join(outdir, os.path.basename(infile))\n",
    "    if os.path.isfile(outfile):\n",
    "        print(f'Skipping {outfile}; already exists')\n",
    "        return\n",
    "    with open(outfile, 'w') as fout:\n",
    "        for refseq in SeqIO.parse(infile, 'fasta'):\n",
    "            fout.write(f'>{refseq.id}\\n{refseq.seq.translate()}\\n')"
   ]
  },
  {
   "cell_type": "code",
   "execution_count": 1177,
   "id": "7354bd50",
   "metadata": {},
   "outputs": [
    {
     "name": "stdout",
     "output_type": "stream",
     "text": [
      "1 USA300HOU_RS14295_PLF.fa\n"
     ]
    },
    {
     "name": "stderr",
     "output_type": "stream",
     "text": [
      "/home/saugat/anaconda3/envs/ete3/lib/python3.6/site-packages/Bio/Seq.py:2983: BiopythonWarning: Partial codon, len(sequence) not a multiple of three. Explicitly trim the sequence or add trailing N before translation. This may become an error in future.\n",
      "  BiopythonWarning,\n"
     ]
    },
    {
     "name": "stdout",
     "output_type": "stream",
     "text": [
      "2 USA300HOU_RS04385_PLF.fa\n",
      "3 USA300HOU_RS02380_PLF.fa\n",
      "4 USA300HOU_RS02990_PLF.fa\n",
      "5 USA300HOU_RS08100_PLF.fa\n",
      "6 USA300HOU_RS10860_PLF.fa\n",
      "7 USA300HOU_RS07190_PLF.fa\n",
      "8 USA300HOU_RS13880_PLF.fa\n",
      "9 USA300HOU_RS09725_PLF.fa\n",
      "10 USA300HOU_RS11410_PLF.fa\n",
      "11 USA300HOU_RS08465_PLF.fa\n",
      "Skipping data/patric_entropy/PLF_fasta_files_aa/USA300HOU_RS08465_PLF.fa; already exists\n",
      "12 USA300HOU_RS07340_PLF.fa\n",
      "Skipping data/patric_entropy/PLF_fasta_files_aa/USA300HOU_RS07340_PLF.fa; already exists\n",
      "13 USA300HOU_RS13270_PLF.fa\n",
      "14 USA300HOU_RS04765_PLF.fa\n",
      "15 USA300HOU_RS00465_PLF.fa\n",
      "16 USA300HOU_RS04920_PLF.fa\n",
      "17 USA300HOU_RS09160_PLF.fa\n",
      "Skipping data/patric_entropy/PLF_fasta_files_aa/USA300HOU_RS09160_PLF.fa; already exists\n",
      "18 USA300HOU_RS02280_PLF.fa\n",
      "19 USA300HOU_RS03720_PLF.fa\n",
      "Skipping data/patric_entropy/PLF_fasta_files_aa/USA300HOU_RS03720_PLF.fa; already exists\n",
      "20 USA300HOU_RS05470_PLF.fa\n",
      "Skipping data/patric_entropy/PLF_fasta_files_aa/USA300HOU_RS05470_PLF.fa; already exists\n",
      "21 USA300HOU_RS00910_PLF.fa\n",
      "22 USA300HOU_RS10800_PLF.fa\n",
      "23 USA300HOU_RS10350_PLF.fa\n",
      "Skipping data/patric_entropy/PLF_fasta_files_aa/USA300HOU_RS10350_PLF.fa; already exists\n",
      "24 USA300HOU_RS01700_PLF.fa\n",
      "25 USA300HOU_RS02855_PLF.fa\n",
      "Skipping data/patric_entropy/PLF_fasta_files_aa/USA300HOU_RS02855_PLF.fa; already exists\n",
      "26 USA300HOU_RS13015_PLF.fa\n",
      "Skipping data/patric_entropy/PLF_fasta_files_aa/USA300HOU_RS13015_PLF.fa; already exists\n",
      "27 USA300HOU_RS03915_PLF.fa\n",
      "28 USA300HOU_RS02515_PLF.fa\n",
      "Skipping data/patric_entropy/PLF_fasta_files_aa/USA300HOU_RS02515_PLF.fa; already exists\n",
      "29 USA300HOU_RS14420_PLF.fa\n",
      "30 USA300HOU_RS00560_PLF.fa\n",
      "Skipping data/patric_entropy/PLF_fasta_files_aa/USA300HOU_RS00560_PLF.fa; already exists\n",
      "31 USA300HOU_RS02590_PLF.fa\n",
      "32 USA300HOU_RS12805_PLF.fa\n",
      "Skipping data/patric_entropy/PLF_fasta_files_aa/USA300HOU_RS12805_PLF.fa; already exists\n",
      "33 USA300HOU_RS11735_PLF.fa\n",
      "34 USA300HOU_RS12255_PLF.fa\n",
      "Skipping data/patric_entropy/PLF_fasta_files_aa/USA300HOU_RS12255_PLF.fa; already exists\n",
      "35 USA300HOU_RS06960_PLF.fa\n",
      "Skipping data/patric_entropy/PLF_fasta_files_aa/USA300HOU_RS06960_PLF.fa; already exists\n",
      "36 USA300HOU_RS10410_PLF.fa\n",
      "37 USA300HOU_RS01995_PLF.fa\n",
      "38 USA300HOU_RS10610_PLF.fa\n",
      "39 USA300HOU_RS08285_PLF.fa\n",
      "Skipping data/patric_entropy/PLF_fasta_files_aa/USA300HOU_RS08285_PLF.fa; already exists\n",
      "40 USA300HOU_RS12320_PLF.fa\n",
      "Skipping data/patric_entropy/PLF_fasta_files_aa/USA300HOU_RS12320_PLF.fa; already exists\n",
      "41 USA300HOU_RS14000_PLF.fa\n",
      "Skipping data/patric_entropy/PLF_fasta_files_aa/USA300HOU_RS14000_PLF.fa; already exists\n",
      "42 USA300HOU_RS07370_PLF.fa\n",
      "43 USA300HOU_RS10880_PLF.fa\n",
      "44 USA300HOU_RS12720_PLF.fa\n",
      "Skipping data/patric_entropy/PLF_fasta_files_aa/USA300HOU_RS12720_PLF.fa; already exists\n",
      "45 USA300HOU_RS04015_PLF.fa\n",
      "46 USA300HOU_RS03890_PLF.fa\n",
      "Skipping data/patric_entropy/PLF_fasta_files_aa/USA300HOU_RS03890_PLF.fa; already exists\n",
      "47 USA300HOU_RS01405_PLF.fa\n",
      "48 USA300HOU_RS03510_PLF.fa\n",
      "Skipping data/patric_entropy/PLF_fasta_files_aa/USA300HOU_RS03510_PLF.fa; already exists\n",
      "49 USA300HOU_RS07545_PLF.fa\n",
      "50 USA300HOU_RS10885_PLF.fa\n",
      "Skipping data/patric_entropy/PLF_fasta_files_aa/USA300HOU_RS10885_PLF.fa; already exists\n",
      "51 USA300HOU_RS05065_PLF.fa\n",
      "Skipping data/patric_entropy/PLF_fasta_files_aa/USA300HOU_RS05065_PLF.fa; already exists\n",
      "52 USA300HOU_RS06720_PLF.fa\n",
      "53 USA300HOU_RS14170_PLF.fa\n",
      "54 USA300HOU_RS00820_PLF.fa\n",
      "Skipping data/patric_entropy/PLF_fasta_files_aa/USA300HOU_RS00820_PLF.fa; already exists\n",
      "55 USA300HOU_RS13540_PLF.fa\n",
      "56 USA300HOU_RS14425_PLF.fa\n",
      "Skipping data/patric_entropy/PLF_fasta_files_aa/USA300HOU_RS14425_PLF.fa; already exists\n",
      "57 USA300HOU_RS03100_PLF.fa\n"
     ]
    }
   ],
   "source": [
    "# translate the PLF fasta files from nucl to prot sequence\n",
    "fadir = 'data/patric_entropy/PLF_fasta_files/'\n",
    "for files in os.listdir(fadir):\n",
    "    if files.split('_PLF')[0] in aa_mut:\n",
    "        print(count, files)\n",
    "        translate_file(os.path.join(fadir, files), 'data/patric_entropy/PLF_fasta_files_aa/')\n",
    "        count += 1"
   ]
  },
  {
   "cell_type": "code",
   "execution_count": null,
   "id": "10ce569d",
   "metadata": {},
   "outputs": [],
   "source": [
    "# align to the PLF files\n",
    "fadir = 'data/patric_entropy/PLF_fasta_files_aa/'\n",
    "alndir = 'data/patric_entropy/alignment_files_aa/'\n",
    "run_mafft = ['src/run_mafft.py', fadir, alndir, '--thread', '7']\n",
    "subprocess.call(run_mafft)"
   ]
  },
  {
   "cell_type": "code",
   "execution_count": 1178,
   "id": "74b62574",
   "metadata": {},
   "outputs": [],
   "source": [
    "# get the reference sequence of the genes with non-synonymous SNPs\n",
    "with open('aa_mut.faa', 'w') as fout:\n",
    "    for refseq in SeqIO.parse('/home/saugat/Desktop/Reference/genome/TCH1516.gb', 'genbank'):\n",
    "        for feats in refseq.features:\n",
    "            if feats.type != 'CDS':\n",
    "                continue\n",
    "            try:\n",
    "                lt = feats.qualifiers['locus_tag'][0]\n",
    "                product = feats.qualifiers['product'][0]\n",
    "                seq = feats.qualifiers['translation'][0]\n",
    "            except KeyError:\n",
    "                continue\n",
    "            else:\n",
    "                if lt in aa_mut:\n",
    "                    fout.write(f'>{lt}|{product}\\n{seq}\\n')"
   ]
  },
  {
   "cell_type": "code",
   "execution_count": 564,
   "id": "aa9ca608",
   "metadata": {},
   "outputs": [],
   "source": [
    "# create individual reference files for each of the reference features\n",
    "path = 'data/patric_entropy/reference_files_aa/'\n",
    "for refseq in SeqIO.parse('aa_mut.faa', 'fasta'):\n",
    "    name = refseq.id.split('|')[0]\n",
    "    fout = os.path.join(path, name + '.faa')\n",
    "    with open(fout, 'w') as f:\n",
    "        f.write(f'>{refseq.id}\\n{refseq.seq}\\n')"
   ]
  },
  {
   "cell_type": "code",
   "execution_count": 919,
   "id": "ce27713c",
   "metadata": {},
   "outputs": [],
   "source": [
    "def read_fasta(aln_file, genome_to_mlst, selected_mlst, selected_seq):\n",
    "    \"\"\"\n",
    "    Concats aligned sequences if they are from the selected_mlst\n",
    "    \n",
    "    Parameters\n",
    "    ----------\n",
    "    aln_file: str\n",
    "        path to alignment file\n",
    "    genome_to_mlst: dict\n",
    "        dictionary mapping the genome PATRIC id to mlst\n",
    "    selected_mlst: list, set\n",
    "        list of MLST to be included\n",
    "        \n",
    "    returns\n",
    "    -------\n",
    "    concat_seq: str\n",
    "        sequnence of concatnated alignment sequences; only sequences from the genomes belonging\n",
    "        to selected_mlst will be concatenated\n",
    "    count: int\n",
    "        number of sequences that were concatenated\n",
    "    \"\"\"\n",
    "    ctseq = ''\n",
    "    count = 0\n",
    "    for seq in SeqIO.parse(aln_file, 'fasta'):\n",
    "        if seq.id not in selected_seq:\n",
    "            continue\n",
    "        gen = seq.id.split('.peg')[0].split('fig|')[-1]\n",
    "        try:\n",
    "            mlst = genome_to_mlst[gen]\n",
    "        except KeyError:\n",
    "            continue\n",
    "        else:\n",
    "            if mlst in selected_mlst:\n",
    "                ctseq += str(seq.seq)\n",
    "                count += 1\n",
    "    return ctseq, count"
   ]
  },
  {
   "cell_type": "code",
   "execution_count": 735,
   "id": "88e45740",
   "metadata": {},
   "outputs": [
    {
     "data": {
      "text/plain": [
       "[<matplotlib.lines.Line2D at 0x7fdb4548bdd8>]"
      ]
     },
     "execution_count": 735,
     "metadata": {},
     "output_type": "execute_result"
    },
    {
     "data": {
      "image/png": "[encoded data removed]",
      "text/plain": [
       "<Figure size 640x480 with 1 Axes>"
      ]
     },
     "metadata": {},
     "output_type": "display_data"
    }
   ],
   "source": [
    "ctseq, count = read_aln('data/patric_entropy/PLF_fasta_files_aa/USA300HOU_RS09160_PLF.fa',\n",
    "                       genome_to_mlst, cc8, selected[1].values)\n",
    "\n",
    "total_len = len(ctseq)\n",
    "indiv_len = total_len / count\n",
    "ent = []\n",
    "for start in np.arange(indiv_len):\n",
    "    sq = getpos_seq(ctseq, count, start, total_len, indiv_len)\n",
    "    ent.append(calc_entropy(sq))\n",
    "plt.plot(ent)"
   ]
  },
  {
   "cell_type": "code",
   "execution_count": 915,
   "id": "9385ca83",
   "metadata": {},
   "outputs": [
    {
     "ename": "ZeroDivisionError",
     "evalue": "division by zero",
     "output_type": "error",
     "traceback": [
      "\u001b[0;31m---------------------------------------------------------------------------\u001b[0m",
      "\u001b[0;31mZeroDivisionError\u001b[0m                         Traceback (most recent call last)",
      "\u001b[0;32m<ipython-input-915-6e19d32efb8b>\u001b[0m in \u001b[0;36m<module>\u001b[0;34m()\u001b[0m\n\u001b[1;32m      3\u001b[0m \u001b[0;34m\u001b[0m\u001b[0m\n\u001b[1;32m      4\u001b[0m \u001b[0mtotal_len\u001b[0m \u001b[0;34m=\u001b[0m \u001b[0mlen\u001b[0m\u001b[0;34m(\u001b[0m\u001b[0mctseq\u001b[0m\u001b[0;34m)\u001b[0m\u001b[0;34m\u001b[0m\u001b[0;34m\u001b[0m\u001b[0m\n\u001b[0;32m----> 5\u001b[0;31m \u001b[0mindiv_len\u001b[0m \u001b[0;34m=\u001b[0m \u001b[0mtotal_len\u001b[0m \u001b[0;34m/\u001b[0m \u001b[0mcount\u001b[0m\u001b[0;34m\u001b[0m\u001b[0;34m\u001b[0m\u001b[0m\n\u001b[0m\u001b[1;32m      6\u001b[0m \u001b[0ment\u001b[0m \u001b[0;34m=\u001b[0m \u001b[0;34m[\u001b[0m\u001b[0;34m]\u001b[0m\u001b[0;34m\u001b[0m\u001b[0;34m\u001b[0m\u001b[0m\n\u001b[1;32m      7\u001b[0m \u001b[0;32mfor\u001b[0m \u001b[0mstart\u001b[0m \u001b[0;32min\u001b[0m \u001b[0mnp\u001b[0m\u001b[0;34m.\u001b[0m\u001b[0marange\u001b[0m\u001b[0;34m(\u001b[0m\u001b[0mindiv_len\u001b[0m\u001b[0;34m)\u001b[0m\u001b[0;34m:\u001b[0m\u001b[0;34m\u001b[0m\u001b[0;34m\u001b[0m\u001b[0m\n",
      "\u001b[0;31mZeroDivisionError\u001b[0m: division by zero"
     ]
    }
   ],
   "source": [
    "ctseq, count = read_aln('data/patric_entropy/alignment_files_aa/USA300HOU_RS00560_PLF',\n",
    "                       genome_to_mlst, non_cc8, selected[1].values)\n",
    "\n",
    "total_len = len(ctseq)\n",
    "indiv_len = total_len / count\n",
    "ent = []\n",
    "for start in np.arange(indiv_len):\n",
    "    sq = getpos_seq(ctseq, count, start, total_len, indiv_len)\n",
    "    ent.append(calc_entropy(sq))\n",
    "plt.plot(ent)"
   ]
  },
  {
   "cell_type": "markdown",
   "id": "d20d405d",
   "metadata": {},
   "source": [
    "#### BLAST the nucl sequences\n",
    "Sequences with mutations, synonymous and non-synonymous, within features"
   ]
  },
  {
   "cell_type": "code",
   "execution_count": 844,
   "id": "13c54cd4",
   "metadata": {},
   "outputs": [
    {
     "name": "stderr",
     "output_type": "stream",
     "text": [
      "100%|██████████| 79/79 [02:50<00:00,  2.15s/it]\n"
     ]
    }
   ],
   "source": [
    "db_dir = 'data/patric_entropy/PLF_fasta_files/'\n",
    "fa_dir = 'data/patric_entropy/reference_files/'\n",
    "blast_output = 'data/patric_entropy/blast_out/nucl/'\n",
    "fa_lt = [i.split('_PLF')[0] for i in os.listdir(db_dir)]\n",
    "\n",
    "for refseq in SeqIO.parse('/home/saugat/Desktop/Reference/genome/TCH1516.gb', 'genbank'):\n",
    "    for feat in refseq.features:\n",
    "        try:\n",
    "            lt = feat.qualifiers['locus_tag'][0]\n",
    "        except KeyError:\n",
    "            continue\n",
    "        else:\n",
    "            if lt in fa_lt:\n",
    "                seq = str(feat.extract(refseq).seq)\n",
    "                with open(os.path.join(fa_dir, lt + '.fna'), 'w') as fout:\n",
    "                    fout.write(f'>{lt}\\n{seq}\\n')\n",
    "\n",
    "with tempfile.TemporaryDirectory() as temp:\n",
    "    #make blastdb\n",
    "    for src in tqdm.tqdm(glob.glob(db_dir + '*')):\n",
    "        fname = os.path.basename(src)\n",
    "        dbfile = os.path.join(temp, fname)\n",
    "        copyfile(src, dbfile)\n",
    "        queryfile = os.path.join(fa_dir, fname.replace('_PLF.fa', '.fna'))\n",
    "        outfile = os.path.join(blast_output, fname.replace('_PLF.fa', '.tsv'))\n",
    "        \n",
    "        subprocess.call(['makeblastdb', '-in', dbfile, '-dbtype', 'nucl'])\n",
    "        subprocess.call(['blastn', '-db', dbfile, '-query', queryfile,\n",
    "                         '-max_target_seqs', '50000', '-num_threads', '6',\n",
    "                         '-outfmt','6','-out', outfile])"
   ]
  },
  {
   "cell_type": "markdown",
   "id": "0962067f",
   "metadata": {},
   "source": [
    "#### Now do the same for CDS with non-synonymous mutations"
   ]
  },
  {
   "cell_type": "code",
   "execution_count": 828,
   "id": "1c03f117",
   "metadata": {},
   "outputs": [
    {
     "name": "stderr",
     "output_type": "stream",
     "text": [
      "100%|██████████| 27/27 [10:56<00:00, 24.32s/it]  \n"
     ]
    }
   ],
   "source": [
    "db_dir = 'data/patric_entropy/PLF_fasta_files_aa/'\n",
    "fa_dir = 'data/patric_entropy/reference_files_aa/'\n",
    "blast_output = 'data/patric_entropy/blast_out/prot/'\n",
    "fa_lt = [i.split('_PLF')[0] for i in os.listdir(db_dir)]\n",
    "\n",
    "for refseq in SeqIO.parse('/home/saugat/Desktop/Reference/genome/TCH1516.gb', 'genbank'):\n",
    "    for feat in refseq.features:\n",
    "        try:\n",
    "            lt = feat.qualifiers['locus_tag'][0]\n",
    "        except KeyError:\n",
    "            continue\n",
    "        else:\n",
    "            if feat.type == 'CDS' and lt in fa_lt:\n",
    "                seq = feat.qualifiers['translation'][0]\n",
    "                with open(os.path.join(fa_dir, lt + '.faa'), 'w') as fout:\n",
    "                    fout.write(f'>{lt}\\n{seq}\\n')\n",
    "\n",
    "with tempfile.TemporaryDirectory() as temp:\n",
    "    #make blastdb\n",
    "    for src in tqdm.tqdm(glob.glob(db_dir + '*')):\n",
    "        fname = os.path.basename(src)\n",
    "        dbfile = os.path.join(temp, fname)\n",
    "        copyfile(src, dbfile)\n",
    "        queryfile = os.path.join(fa_dir, fname.replace('_PLF.fa', '.faa'))\n",
    "        outfile = os.path.join(blast_output, fname.replace('_PLF.fa', '.tsv'))\n",
    "        \n",
    "        subprocess.call(['makeblastdb', '-in', dbfile, '-dbtype', 'prot'])\n",
    "        subprocess.call(['blastp', '-db', dbfile, '-query', queryfile,\n",
    "                         '-max_target_seqs', '50000', '-num_threads', '6',\n",
    "                         '-outfmt','6', '-out', outfile])"
   ]
  },
  {
   "cell_type": "code",
   "execution_count": 845,
   "id": "69b449b2",
   "metadata": {},
   "outputs": [],
   "source": [
    "non_cc8 = ['MLST.Staphylococcus_aureus.398',\n",
    "       'MLST.Staphylococcus_aureus.5', 'MLST.Staphylococcus_aureus.105',\n",
    "       'MLST.Staphylococcus_aureus.45', 'MLST.Staphylococcus_aureus.22',\n",
    "       'MLST.Staphylococcus_aureus.1']\n",
    "cc8 = [ 'MLST.Staphylococcus_aureus.8']\n",
    "cc5 = ['MLST.Staphylococcus_aureus.5']"
   ]
  },
  {
   "cell_type": "code",
   "execution_count": 859,
   "id": "c842aecb",
   "metadata": {},
   "outputs": [],
   "source": [
    "aligner = Align.PairwiseAligner()\n",
    "aligner.mode = 'global'\n",
    "aligner.match_score = 2\n",
    "aligner.mismatch_score = -1\n",
    "aligner.open_gap_score = -10\n",
    "aligner.extend_gap_score = -0.5\n",
    "aligner.end_extend_gap_score = -0.5\n",
    "aligner.end_open_gap_score = -10"
   ]
  },
  {
   "cell_type": "code",
   "execution_count": 914,
   "id": "7774c9ad",
   "metadata": {},
   "outputs": [
    {
     "name": "stdout",
     "output_type": "stream",
     "text": [
      "CPU times: user 28.1 ms, sys: 0 ns, total: 28.1 ms\n",
      "Wall time: 27.6 ms\n"
     ]
    }
   ],
   "source": [
    "%%time\n",
    "blastout = glob.glob(blast_output + '*')[0]\n",
    "lt = os.path.basename(blastout).replace('.tsv', '')\n",
    "refseq = next(SeqIO.parse(os.path.join(fa_dir, lt + '.faa'), 'fasta')).seq\n",
    "blastdf = pd.read_csv(blastout, index_col=0, sep='\\t', header=None)\n",
    "blastdf = blastdf[(blastdf[2] >= 80) & (blastdf[3] >= len(refseq))]\n",
    "db_file = os.path.join(db_dir, lt + '_PLF.fa')"
   ]
  },
  {
   "cell_type": "code",
   "execution_count": 852,
   "id": "b5d3f6d8",
   "metadata": {
    "scrolled": true
   },
   "outputs": [
    {
     "name": "stdout",
     "output_type": "stream",
     "text": [
      "0.747644061623988 0.602957052936587\n"
     ]
    },
    {
     "ename": "ValueError",
     "evalue": "The length of concatenated sequence (819634) is not a multiple of counts (2905)",
     "output_type": "error",
     "traceback": [
      "\u001b[0;31m---------------------------------------------------------------------------\u001b[0m",
      "\u001b[0;31mValueError\u001b[0m                                Traceback (most recent call last)",
      "\u001b[0;32m<ipython-input-852-63774bcd1ae6>\u001b[0m in \u001b[0;36m<module>\u001b[0;34m()\u001b[0m\n\u001b[1;32m     20\u001b[0m     \u001b[0ment\u001b[0m \u001b[0;34m=\u001b[0m \u001b[0;34m[\u001b[0m\u001b[0;34m]\u001b[0m\u001b[0;34m\u001b[0m\u001b[0;34m\u001b[0m\u001b[0m\n\u001b[1;32m     21\u001b[0m     \u001b[0;32mfor\u001b[0m \u001b[0mstart\u001b[0m \u001b[0;32min\u001b[0m \u001b[0mnp\u001b[0m\u001b[0;34m.\u001b[0m\u001b[0marange\u001b[0m\u001b[0;34m(\u001b[0m\u001b[0mindiv_len\u001b[0m\u001b[0;34m)\u001b[0m\u001b[0;34m:\u001b[0m\u001b[0;34m\u001b[0m\u001b[0;34m\u001b[0m\u001b[0m\n\u001b[0;32m---> 22\u001b[0;31m         \u001b[0msq\u001b[0m \u001b[0;34m=\u001b[0m \u001b[0mgetpos_seq\u001b[0m\u001b[0;34m(\u001b[0m\u001b[0mctseq\u001b[0m\u001b[0;34m,\u001b[0m \u001b[0mcount\u001b[0m\u001b[0;34m,\u001b[0m \u001b[0mstart\u001b[0m\u001b[0;34m,\u001b[0m \u001b[0mtotal_len\u001b[0m\u001b[0;34m,\u001b[0m \u001b[0mindiv_len\u001b[0m\u001b[0;34m)\u001b[0m\u001b[0;34m\u001b[0m\u001b[0;34m\u001b[0m\u001b[0m\n\u001b[0m\u001b[1;32m     23\u001b[0m         \u001b[0ment\u001b[0m\u001b[0;34m.\u001b[0m\u001b[0mappend\u001b[0m\u001b[0;34m(\u001b[0m\u001b[0mcalc_entropy\u001b[0m\u001b[0;34m(\u001b[0m\u001b[0msq\u001b[0m\u001b[0;34m)\u001b[0m\u001b[0;34m)\u001b[0m\u001b[0;34m\u001b[0m\u001b[0;34m\u001b[0m\u001b[0m\n\u001b[1;32m     24\u001b[0m \u001b[0;34m\u001b[0m\u001b[0m\n",
      "\u001b[0;32m<ipython-input-41-ee4075fb7ea0>\u001b[0m in \u001b[0;36mgetpos_seq\u001b[0;34m(ctseq, count, start, total_len, indiv_len)\u001b[0m\n\u001b[1;32m     22\u001b[0m     \u001b[0;32mif\u001b[0m \u001b[0mindiv_len\u001b[0m \u001b[0;34m%\u001b[0m \u001b[0;36m1\u001b[0m \u001b[0;34m!=\u001b[0m \u001b[0;36m0\u001b[0m\u001b[0;34m:\u001b[0m\u001b[0;34m\u001b[0m\u001b[0;34m\u001b[0m\u001b[0m\n\u001b[1;32m     23\u001b[0m         \u001b[0mmsg\u001b[0m \u001b[0;34m=\u001b[0m \u001b[0;34mf\"\"\"The length of concatenated sequence ({total_len}) is not a multiple of counts ({count})\"\"\"\u001b[0m\u001b[0;34m\u001b[0m\u001b[0;34m\u001b[0m\u001b[0m\n\u001b[0;32m---> 24\u001b[0;31m         \u001b[0;32mraise\u001b[0m \u001b[0mValueError\u001b[0m\u001b[0;34m(\u001b[0m\u001b[0mmsg\u001b[0m\u001b[0;34m)\u001b[0m\u001b[0;34m\u001b[0m\u001b[0;34m\u001b[0m\u001b[0m\n\u001b[0m\u001b[1;32m     25\u001b[0m     \u001b[0;32mreturn\u001b[0m \u001b[0;34m[\u001b[0m\u001b[0mctseq\u001b[0m\u001b[0;34m[\u001b[0m\u001b[0mj\u001b[0m\u001b[0;34m]\u001b[0m \u001b[0;32mfor\u001b[0m \u001b[0mj\u001b[0m \u001b[0;32min\u001b[0m \u001b[0mnp\u001b[0m\u001b[0;34m.\u001b[0m\u001b[0marange\u001b[0m\u001b[0;34m(\u001b[0m\u001b[0mstart\u001b[0m\u001b[0;34m,\u001b[0m \u001b[0mtotal_len\u001b[0m\u001b[0;34m,\u001b[0m \u001b[0mindiv_len\u001b[0m\u001b[0;34m)\u001b[0m\u001b[0;34m.\u001b[0m\u001b[0mastype\u001b[0m\u001b[0;34m(\u001b[0m\u001b[0mint\u001b[0m\u001b[0;34m)\u001b[0m\u001b[0;34m]\u001b[0m\u001b[0;34m\u001b[0m\u001b[0;34m\u001b[0m\u001b[0m\n\u001b[1;32m     26\u001b[0m \u001b[0;31m#     for i in tqdm.tqdm(np.arange(indiv_len)):\u001b[0m\u001b[0;34m\u001b[0m\u001b[0;34m\u001b[0m\u001b[0;34m\u001b[0m\u001b[0m\n",
      "\u001b[0;31mValueError\u001b[0m: The length of concatenated sequence (819634) is not a multiple of counts (2905)"
     ]
    }
   ],
   "source": [
    "db_dir = 'data/patric_entropy/PLF_fasta_files_aa/'\n",
    "fa_dir = 'data/patric_entropy/reference_files_aa/'\n",
    "blast_output = 'data/patric_entropy/blast_out/prot/'\n",
    "fa_lt = [i.split('_PLF')[0] for i in os.listdir(db_dir)]\n",
    "\n",
    "for blastout in glob.glob(blast_output + '*'):\n",
    "    lt = os.path.basename(blastout).replace('.tsv', '')\n",
    "    seqlen = len(next(SeqIO.parse(os.path.join(fa_dir, lt + '.faa'), 'fasta')).seq)\n",
    "    blastdf = pd.read_csv(blastout, index_col=0, sep='\\t', header=None)\n",
    "    blastdf = blastdf[(blastdf[3] == seqlen) & (blastdf[5] == 0)]\n",
    "    db_file = os.path.join(db_dir, lt + '_PLF.fa')\n",
    "    \n",
    "    \n",
    "    ctseq, count = read_aln(db_file, genome_to_mlst, non_cc8, blastdf[1].values)\n",
    "    total_len = len(ctseq)\n",
    "    if count == 0:\n",
    "        continue\n",
    "    indiv_len = total_len / count\n",
    "\n",
    "    ent = []\n",
    "    for start in np.arange(indiv_len):\n",
    "        sq = getpos_seq(ctseq, count, start, total_len, indiv_len)\n",
    "        ent.append(calc_entropy(sq))\n",
    "    \n",
    "    ctseq, count = read_aln(db_file, genome_to_mlst, cc8, blastdf[1].values)\n",
    "    if count == 0:\n",
    "        continue\n",
    "    total_len = len(ctseq)\n",
    "    indiv_len = total_len / count\n",
    "    cc8_ent = []\n",
    "    for start in np.arange(indiv_len):\n",
    "        sq = getpos_seq(ctseq, count, start, total_len, indiv_len)\n",
    "        cc8_ent.append(calc_entropy(sq))\n",
    "    print(max(ent), max(cc8_ent))"
   ]
  },
  {
   "cell_type": "code",
   "execution_count": 1150,
   "id": "6ff738af",
   "metadata": {},
   "outputs": [],
   "source": [
    "stop = [i for i in kmer_md.TCH1516_mutation_map.dropna().values if '*' in i]"
   ]
  },
  {
   "cell_type": "code",
   "execution_count": 1151,
   "id": "537b82a7",
   "metadata": {},
   "outputs": [
    {
     "data": {
      "text/html": [
       "<div>\n",
       "<style scoped>\n",
       "    .dataframe tbody tr th:only-of-type {\n",
       "        vertical-align: middle;\n",
       "    }\n",
       "\n",
       "    .dataframe tbody tr th {\n",
       "        vertical-align: top;\n",
       "    }\n",
       "\n",
       "    .dataframe thead th {\n",
       "        text-align: right;\n",
       "    }\n",
       "</style>\n",
       "<table border=\"1\" class=\"dataframe\">\n",
       "  <thead>\n",
       "    <tr style=\"text-align: right;\">\n",
       "      <th></th>\n",
       "      <th>header</th>\n",
       "      <th>seq</th>\n",
       "      <th>nodes</th>\n",
       "      <th>networkFeature</th>\n",
       "      <th>mutations</th>\n",
       "      <th>TCH1516_kmer_pos</th>\n",
       "      <th>TCH1516_feats</th>\n",
       "      <th>TCH1516_mutation_pos</th>\n",
       "      <th>TCH1516_mutation_map</th>\n",
       "    </tr>\n",
       "  </thead>\n",
       "  <tbody>\n",
       "    <tr>\n",
       "      <th>16</th>\n",
       "      <td>component101cycle0pheno1</td>\n",
       "      <td>AAAATAGTAATCATCATCCGAGGTAACCTGAAATCTAATAAGATTA...</td>\n",
       "      <td>n121642_rc;n117981;n30508_rc</td>\n",
       "      <td>component101cycle0</td>\n",
       "      <td>49CT166</td>\n",
       "      <td>(724072, 723857)</td>\n",
       "      <td>USA300HOU_RS03510</td>\n",
       "      <td>[(724023, 724022)]</td>\n",
       "      <td>C159T(*53K)</td>\n",
       "    </tr>\n",
       "    <tr>\n",
       "      <th>70</th>\n",
       "      <td>component80cycle1pheno1</td>\n",
       "      <td>TGAATGCGTATATTGTCTAATTTCAAATTCTAACCAGAACATCGTA...</td>\n",
       "      <td>n279576_rc;n21996;n266692;n74020_rc</td>\n",
       "      <td>component80cycle1</td>\n",
       "      <td>31GA85</td>\n",
       "      <td>(2721512, 2721396)</td>\n",
       "      <td>USA300HOU_RS14000</td>\n",
       "      <td>[(2721481, 2721480)]</td>\n",
       "      <td>G592A(*197L)</td>\n",
       "    </tr>\n",
       "    <tr>\n",
       "      <th>103</th>\n",
       "      <td>component72cycle0pheno1</td>\n",
       "      <td>CTAACTAAATATACTGCGACATTTTTAAATTGACAACATGAATATC...</td>\n",
       "      <td>n106837_rc;n101957;n20383</td>\n",
       "      <td>component72cycle0</td>\n",
       "      <td>32TA60</td>\n",
       "      <td>(386794, 386702)</td>\n",
       "      <td>USA300HOU_RS15015</td>\n",
       "      <td>[(386762, 386761)]</td>\n",
       "      <td>T56A(*18*)</td>\n",
       "    </tr>\n",
       "    <tr>\n",
       "      <th>255</th>\n",
       "      <td>component103cycle0pheno1</td>\n",
       "      <td>TACTAAAAATGCTACAAGCCCCATCGTATAGTTGTATGGTTTCATT...</td>\n",
       "      <td>n166893;n225567;n218666</td>\n",
       "      <td>component103cycle0</td>\n",
       "      <td>33AG44</td>\n",
       "      <td>(2329418, 2329495)</td>\n",
       "      <td>USA300HOU_RS11870</td>\n",
       "      <td>[(2329450, 2329451)]</td>\n",
       "      <td>A212G(*70Y)</td>\n",
       "    </tr>\n",
       "  </tbody>\n",
       "</table>\n",
       "</div>"
      ],
      "text/plain": [
       "                       header  \\\n",
       "16   component101cycle0pheno1   \n",
       "70    component80cycle1pheno1   \n",
       "103   component72cycle0pheno1   \n",
       "255  component103cycle0pheno1   \n",
       "\n",
       "                                                   seq  \\\n",
       "16   AAAATAGTAATCATCATCCGAGGTAACCTGAAATCTAATAAGATTA...   \n",
       "70   TGAATGCGTATATTGTCTAATTTCAAATTCTAACCAGAACATCGTA...   \n",
       "103  CTAACTAAATATACTGCGACATTTTTAAATTGACAACATGAATATC...   \n",
       "255  TACTAAAAATGCTACAAGCCCCATCGTATAGTTGTATGGTTTCATT...   \n",
       "\n",
       "                                   nodes      networkFeature mutations  \\\n",
       "16          n121642_rc;n117981;n30508_rc  component101cycle0   49CT166   \n",
       "70   n279576_rc;n21996;n266692;n74020_rc   component80cycle1    31GA85   \n",
       "103            n106837_rc;n101957;n20383   component72cycle0    32TA60   \n",
       "255              n166893;n225567;n218666  component103cycle0    33AG44   \n",
       "\n",
       "       TCH1516_kmer_pos      TCH1516_feats  TCH1516_mutation_pos  \\\n",
       "16     (724072, 723857)  USA300HOU_RS03510    [(724023, 724022)]   \n",
       "70   (2721512, 2721396)  USA300HOU_RS14000  [(2721481, 2721480)]   \n",
       "103    (386794, 386702)  USA300HOU_RS15015    [(386762, 386761)]   \n",
       "255  (2329418, 2329495)  USA300HOU_RS11870  [(2329450, 2329451)]   \n",
       "\n",
       "    TCH1516_mutation_map  \n",
       "16           C159T(*53K)  \n",
       "70          G592A(*197L)  \n",
       "103           T56A(*18*)  \n",
       "255          A212G(*70Y)  "
      ]
     },
     "execution_count": 1151,
     "metadata": {},
     "output_type": "execute_result"
    }
   ],
   "source": [
    "kmer_md[kmer_md.TCH1516_mutation_map.isin(stop)]"
   ]
  },
  {
   "cell_type": "code",
   "execution_count": 1353,
   "id": "07868120",
   "metadata": {},
   "outputs": [
    {
     "data": {
      "text/html": [
       "<div>\n",
       "<style scoped>\n",
       "    .dataframe tbody tr th:only-of-type {\n",
       "        vertical-align: middle;\n",
       "    }\n",
       "\n",
       "    .dataframe tbody tr th {\n",
       "        vertical-align: top;\n",
       "    }\n",
       "\n",
       "    .dataframe thead th {\n",
       "        text-align: right;\n",
       "    }\n",
       "</style>\n",
       "<table border=\"1\" class=\"dataframe\">\n",
       "  <thead>\n",
       "    <tr style=\"text-align: right;\">\n",
       "      <th></th>\n",
       "      <th>header</th>\n",
       "      <th>seq</th>\n",
       "      <th>nodes</th>\n",
       "      <th>networkFeature</th>\n",
       "      <th>mutations</th>\n",
       "      <th>TCH1516_kmer_pos</th>\n",
       "      <th>TCH1516_feats</th>\n",
       "      <th>TCH1516_mutation_pos</th>\n",
       "      <th>TCH1516_mutation_map</th>\n",
       "      <th>TCH1516_pUSA300HOUMR_kmer_pos</th>\n",
       "      <th>TCH1516_pUSA300HOUMR_feats</th>\n",
       "      <th>TCH1516_pUSA300HOUMR_mutation_pos</th>\n",
       "      <th>TCH1516_pUSA300HOUMR_mutation_map</th>\n",
       "      <th>TCH1516_pUSA01HOU_kmer_pos</th>\n",
       "      <th>TCH1516_pUSA01HOU_feats</th>\n",
       "      <th>TCH1516_pUSA01HOU_mutation_pos</th>\n",
       "      <th>TCH1516_pUSA01HOU_mutation_map</th>\n",
       "    </tr>\n",
       "  </thead>\n",
       "  <tbody>\n",
       "    <tr>\n",
       "      <th>163</th>\n",
       "      <td>component16cycle0pheno1</td>\n",
       "      <td>CATAACATGTTCATATTTTTCAATAACCATTAATTCAGTAATTTTT...</td>\n",
       "      <td>n9339;n180059_rc;n1552_rc;n323887_rc</td>\n",
       "      <td>component16cycle0</td>\n",
       "      <td>35TC46</td>\n",
       "      <td>(1405415, 1405334)</td>\n",
       "      <td>USA300HOU_RS06960</td>\n",
       "      <td>[(1405380, 1405379)]</td>\n",
       "      <td>T1026C(K342E)</td>\n",
       "      <td>NaN</td>\n",
       "      <td>NaN</td>\n",
       "      <td>NaN</td>\n",
       "      <td>NaN</td>\n",
       "      <td>NaN</td>\n",
       "      <td>NaN</td>\n",
       "      <td>NaN</td>\n",
       "      <td>NaN</td>\n",
       "    </tr>\n",
       "  </tbody>\n",
       "</table>\n",
       "</div>"
      ],
      "text/plain": [
       "                      header  \\\n",
       "163  component16cycle0pheno1   \n",
       "\n",
       "                                                   seq  \\\n",
       "163  CATAACATGTTCATATTTTTCAATAACCATTAATTCAGTAATTTTT...   \n",
       "\n",
       "                                    nodes     networkFeature mutations  \\\n",
       "163  n9339;n180059_rc;n1552_rc;n323887_rc  component16cycle0    35TC46   \n",
       "\n",
       "       TCH1516_kmer_pos      TCH1516_feats  TCH1516_mutation_pos  \\\n",
       "163  (1405415, 1405334)  USA300HOU_RS06960  [(1405380, 1405379)]   \n",
       "\n",
       "    TCH1516_mutation_map TCH1516_pUSA300HOUMR_kmer_pos  \\\n",
       "163        T1026C(K342E)                           NaN   \n",
       "\n",
       "    TCH1516_pUSA300HOUMR_feats TCH1516_pUSA300HOUMR_mutation_pos  \\\n",
       "163                        NaN                               NaN   \n",
       "\n",
       "     TCH1516_pUSA300HOUMR_mutation_map  TCH1516_pUSA01HOU_kmer_pos  \\\n",
       "163                                NaN                         NaN   \n",
       "\n",
       "     TCH1516_pUSA01HOU_feats  TCH1516_pUSA01HOU_mutation_pos  \\\n",
       "163                      NaN                             NaN   \n",
       "\n",
       "     TCH1516_pUSA01HOU_mutation_map  \n",
       "163                             NaN  "
      ]
     },
     "execution_count": 1353,
     "metadata": {},
     "output_type": "execute_result"
    }
   ],
   "source": [
    "kmer_md[kmer_md.TCH1516_feats == 'USA300HOU_RS06960']"
   ]
  },
  {
   "cell_type": "code",
   "execution_count": 1155,
   "id": "0f96e20c",
   "metadata": {
    "scrolled": true
   },
   "outputs": [
    {
     "data": {
      "text/plain": [
       "'PTS lactose EIICB component'"
      ]
     },
     "execution_count": 1155,
     "metadata": {},
     "output_type": "execute_result"
    }
   ],
   "source": [
    "lt_to_prod['USA300HOU_RS11870']"
   ]
  },
  {
   "cell_type": "markdown",
   "id": "27674b25",
   "metadata": {},
   "source": [
    "# MGE"
   ]
  },
  {
   "cell_type": "code",
   "execution_count": 1374,
   "id": "3f72b4fa",
   "metadata": {},
   "outputs": [
    {
     "data": {
      "text/plain": [
       "False"
      ]
     },
     "execution_count": 1374,
     "metadata": {},
     "output_type": "execute_result"
    }
   ],
   "source": [
    "any(kmer_md.header.str.contains('component150'))"
   ]
  },
  {
   "cell_type": "code",
   "execution_count": 1377,
   "id": "d675ec3f",
   "metadata": {},
   "outputs": [
    {
     "data": {
      "text/html": [
       "<div>\n",
       "<style scoped>\n",
       "    .dataframe tbody tr th:only-of-type {\n",
       "        vertical-align: middle;\n",
       "    }\n",
       "\n",
       "    .dataframe tbody tr th {\n",
       "        vertical-align: top;\n",
       "    }\n",
       "\n",
       "    .dataframe thead th {\n",
       "        text-align: right;\n",
       "    }\n",
       "</style>\n",
       "<table border=\"1\" class=\"dataframe\">\n",
       "  <thead>\n",
       "    <tr style=\"text-align: right;\">\n",
       "      <th></th>\n",
       "      <th>header</th>\n",
       "      <th>seq</th>\n",
       "      <th>nodes</th>\n",
       "      <th>networkFeature</th>\n",
       "      <th>mutations</th>\n",
       "      <th>TCH1516_kmer_pos</th>\n",
       "      <th>TCH1516_feats</th>\n",
       "      <th>TCH1516_mutation_pos</th>\n",
       "      <th>TCH1516_mutation_map</th>\n",
       "      <th>TCH1516_pUSA300HOUMR_kmer_pos</th>\n",
       "      <th>TCH1516_pUSA300HOUMR_feats</th>\n",
       "      <th>TCH1516_pUSA300HOUMR_mutation_pos</th>\n",
       "      <th>TCH1516_pUSA300HOUMR_mutation_map</th>\n",
       "      <th>TCH1516_pUSA01HOU_kmer_pos</th>\n",
       "      <th>TCH1516_pUSA01HOU_feats</th>\n",
       "      <th>TCH1516_pUSA01HOU_mutation_pos</th>\n",
       "      <th>TCH1516_pUSA01HOU_mutation_map</th>\n",
       "    </tr>\n",
       "  </thead>\n",
       "  <tbody>\n",
       "  </tbody>\n",
       "</table>\n",
       "</div>"
      ],
      "text/plain": [
       "Empty DataFrame\n",
       "Columns: [header, seq, nodes, networkFeature, mutations, TCH1516_kmer_pos, TCH1516_feats, TCH1516_mutation_pos, TCH1516_mutation_map, TCH1516_pUSA300HOUMR_kmer_pos, TCH1516_pUSA300HOUMR_feats, TCH1516_pUSA300HOUMR_mutation_pos, TCH1516_pUSA300HOUMR_mutation_map, TCH1516_pUSA01HOU_kmer_pos, TCH1516_pUSA01HOU_feats, TCH1516_pUSA01HOU_mutation_pos, TCH1516_pUSA01HOU_mutation_map]\n",
       "Index: []"
      ]
     },
     "execution_count": 1377,
     "metadata": {},
     "output_type": "execute_result"
    }
   ],
   "source": [
    "kmer_md[kmer_md.header.str.contains('component25')]"
   ]
  },
  {
   "cell_type": "code",
   "execution_count": null,
   "id": "b117d540",
   "metadata": {},
   "outputs": [],
   "source": []
  },
  {
   "cell_type": "code",
   "execution_count": 1375,
   "id": "cbe5bbb4",
   "metadata": {},
   "outputs": [
    {
     "name": "stdout",
     "output_type": "stream",
     "text": [
      "21\n",
      "24\n",
      "25\n",
      "45\n",
      "130\n"
     ]
    }
   ],
   "source": [
    "\n",
    "for i in np.arange(1, 149):\n",
    "    if not any(kmer_md.header.str.contains(f'component{str(i)}')):\n",
    "        print(i)"
   ]
  },
  {
   "cell_type": "code",
   "execution_count": null,
   "id": "7faec85d",
   "metadata": {},
   "outputs": [],
   "source": [
    "# 25 is SEK and SEB"
   ]
  }
 ],
 "metadata": {
  "kernelspec": {
   "display_name": "Python 3",
   "language": "python",
   "name": "python3"
  },
  "language_info": {
   "codemirror_mode": {
    "name": "ipython",
    "version": 3
   },
   "file_extension": ".py",
   "mimetype": "text/x-python",
   "name": "python",
   "nbconvert_exporter": "python",
   "pygments_lexer": "ipython3",
   "version": "3.6.13"
  }
 },
 "nbformat": 4,
 "nbformat_minor": 5
}
