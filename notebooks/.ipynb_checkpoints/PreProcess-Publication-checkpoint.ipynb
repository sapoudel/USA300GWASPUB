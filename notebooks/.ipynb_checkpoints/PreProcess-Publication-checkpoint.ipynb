{
 "cells": [
  {
   "cell_type": "code",
   "execution_count": 1,
   "id": "020f7e39",
   "metadata": {},
   "outputs": [],
   "source": [
    "import os\n",
    "import pandas as pd\n",
    "import numpy as np\n",
    "from Bio import SeqIO\n",
    "from functools import reduce\n",
    "import matplotlib.pyplot as plt\n",
    "import ete3\n",
    "import re\n",
    "import seaborn as sns"
   ]
  },
  {
   "cell_type": "markdown",
   "id": "63c64567",
   "metadata": {},
   "source": [
    "# Check the genome length\n",
    "Some sections of the code change file names and/or remove files. Those sections have been commented out since they only 'work' once. "
   ]
  },
  {
   "cell_type": "code",
   "execution_count": 2,
   "id": "2e3a2fe7",
   "metadata": {},
   "outputs": [],
   "source": [
    "def get_total_len(fasta):\n",
    "    glen = [len(refseq.seq) for refseq in SeqIO.parse(fasta, 'fasta')]\n",
    "    return reduce(lambda a, b: a + b, glen)"
   ]
  },
  {
   "cell_type": "code",
   "execution_count": 3,
   "id": "341f1edf",
   "metadata": {},
   "outputs": [],
   "source": [
    "fna_dir = '/home/saugat/Documents/phame/fna/'"
   ]
  },
  {
   "cell_type": "code",
   "execution_count": 4,
   "id": "da429d0c",
   "metadata": {},
   "outputs": [],
   "source": [
    "genomic_len = [get_total_len(os.path.join(fna_dir, i)) for i in os.listdir(fna_dir) if '.fna' in i]"
   ]
  },
  {
   "cell_type": "code",
   "execution_count": 5,
   "id": "471c38b9",
   "metadata": {},
   "outputs": [],
   "source": [
    "genome_files = [i for i in os.listdir(fna_dir) if '.fna' in i or '.contig' in i]"
   ]
  },
  {
   "cell_type": "code",
   "execution_count": 6,
   "id": "e9254f54",
   "metadata": {},
   "outputs": [],
   "source": [
    "from jupyterthemes import jtplot\n",
    "jtplot.reset()"
   ]
  },
  {
   "cell_type": "code",
   "execution_count": null,
   "id": "b62d93cd",
   "metadata": {},
   "outputs": [],
   "source": [
    "plt.plot(sorted(genomic_len))\n",
    "plt.ylabel('Genome Length')\n",
    "plt.xlabel('Genomes')"
   ]
  },
  {
   "cell_type": "code",
   "execution_count": null,
   "id": "782c5828",
   "metadata": {
    "scrolled": true
   },
   "outputs": [],
   "source": [
    "low_len = np.where(np.array(genomic_len) < 2.5 * 10 ** 6)\n",
    "\n",
    "# deletes length genome files, only works once\n",
    "# drop = genome_files[low_len[0][0]]\n",
    "# genome_files.remove(drop)"
   ]
  },
  {
   "cell_type": "code",
   "execution_count": 7,
   "id": "da9cec5e",
   "metadata": {},
   "outputs": [
    {
     "data": {
      "text/plain": [
       "2031"
      ]
     },
     "execution_count": 7,
     "metadata": {},
     "output_type": "execute_result"
    }
   ],
   "source": [
    "len([i for i in os.listdir(fna_dir) if '.fna' in i or '.contig' in i])"
   ]
  },
  {
   "cell_type": "markdown",
   "id": "fe73ff89",
   "metadata": {},
   "source": [
    "# Prepare files for PhaME pipeline"
   ]
  },
  {
   "cell_type": "markdown",
   "id": "cd1efc74",
   "metadata": {},
   "source": [
    "## Get info from fasta files\n",
    "Once we load the phylogenetic tree (further down) these will be used to rename the leaves with more human readable names"
   ]
  },
  {
   "cell_type": "code",
   "execution_count": 20,
   "id": "b705f142",
   "metadata": {},
   "outputs": [],
   "source": [
    "genome_names = [i.replace('.fna', '').replace('.contig', '') for i in genome_files]"
   ]
  },
  {
   "cell_type": "code",
   "execution_count": 18,
   "id": "b70ed80f",
   "metadata": {},
   "outputs": [],
   "source": [
    "def parse_fasta_file(fasta):\n",
    "    with open(fasta, 'r') as fin:\n",
    "        line =  fin.readline()\n",
    "        split = ',' if ',' in line else '  '\n",
    "        longname, *rest = line.split(split)\n",
    "#         print(longname, rest)\n",
    "        status = 'contig' if 'scaffold' in rest[0] else 'whole'\n",
    "        try:\n",
    "            short_name = re.search(r\"\\[(.*?)\\]\", rest[-1]).group(1)\n",
    "        except AttributeError: # no match for re.search\n",
    "            short_name = longname.split(' ')[-1]\n",
    "        short_name = short_name.split('|')[0].rstrip()\n",
    "        short_name = short_name.replace('Staphylococcus aureus',\n",
    "                                        'S. aureus').replace('strain', '').replace(' subsp. aureus', '')\n",
    "        return short_name, status"
   ]
  },
  {
   "cell_type": "code",
   "execution_count": 21,
   "id": "ec3c19e5",
   "metadata": {},
   "outputs": [],
   "source": [
    "fa_info = [(fasta, *parse_fasta_file(os.path.join(fna_dir, fasta))) for fasta in genome_files]"
   ]
  },
  {
   "cell_type": "markdown",
   "id": "86efc753",
   "metadata": {},
   "source": [
    "### Rename contig files\n",
    "PhaME requires you to specify whether the input fasta files are complete genomes or contigs. All contigs should have '.contig' suffix instead of '.fna'."
   ]
  },
  {
   "cell_type": "code",
   "execution_count": 13,
   "id": "26e82707",
   "metadata": {},
   "outputs": [],
   "source": [
    "for num, info in enumerate(fa_info):\n",
    "    if info[-1] == 'contig':\n",
    "        old_name = os.path.join(fna_dir, info[0])\n",
    "        new_name = old_name.replace('.fna', '.contig')\n",
    "#         os.rename(old_name, new_name)  # only run this once as the file names will be changed\n",
    "        fa_info[num] = [os.path.split(new_name)[-1], info[1], info[2]]"
   ]
  },
  {
   "cell_type": "markdown",
   "id": "16fc5239",
   "metadata": {},
   "source": [
    "# Run PhaME and iqTREE\n",
    "Run phame using the parameter file- phame.ctl - in data/preprocessing folder.\n",
    "\n",
    "`phame phame.ctl`\n",
    "\n",
    "Grab the SNP annotation file from phame output folder: `phame_output/alignment/CC8_all_snp_alignment.fna`\n",
    "\n",
    "Run iqTree with 1000 bootstraps using UFbootstrap:\n",
    "`iqtree -s CC8_all_snp_alignment.fna -B 1000 -T AUTO -m TEST -ntmax 8`\n",
    "\n",
    "    -B 1000: 1000 ultrafast bootstrap\n",
    "    -T AUTO: automatically determines optimal number of threads (3)\n",
    "    -ntmax 8: max number of threads to use\n",
    "    -m TEST: determines the best substitution model (TVMe+ASC+G4)\n",
    "\n",
    "Grab the iqtree output from the iqtree output directory for further processing. File is named `data/preprocessing/iqtree/CC8_all_snp_alignment.fna.treefile`"
   ]
  },
  {
   "cell_type": "markdown",
   "id": "28e82061",
   "metadata": {},
   "source": [
    "# Analyze the Tree with ete3"
   ]
  },
  {
   "cell_type": "code",
   "execution_count": 11,
   "id": "c25ed18a",
   "metadata": {
    "scrolled": true
   },
   "outputs": [
    {
     "name": "stdout",
     "output_type": "stream",
     "text": [
      "Number of leaf nodes:\t2037\n",
      "Total number of nodes:\t4000\n",
      "Rooted:\tYes\n",
      "Most distant node:\t1418325_3\n",
      "Max. distance:\t0.017973\n"
     ]
    }
   ],
   "source": [
    "tree = ete3.PhyloTree('data/preprocessing/iqtree/CC8_all_snp_alignment.fna.contree')\n",
    "# tree = ete3.PhyloTree('data/preprocessing/RAxML_bestTree.USA300')\n",
    "\n",
    "#prune the reference nodes\n",
    "r1 = tree.search_nodes(name='TCH1516_full')[0]\n",
    "r2 = tree.search_nodes(name='fna')[0]\n",
    "\n",
    "# set USA100 (CC5) strain as outgroup to root the CC8 tree\n",
    "tree.set_outgroup('USA100D592')\n",
    "\n",
    "r1.delete()\n",
    "r2.delete()\n",
    "tree.describe()"
   ]
  },
  {
   "cell_type": "markdown",
   "id": "dda33646",
   "metadata": {},
   "source": [
    "### Parse and add the PVL as attribute"
   ]
  },
  {
   "cell_type": "code",
   "execution_count": 2,
   "id": "d060016a",
   "metadata": {},
   "outputs": [
    {
     "data": {
      "text/html": [
       "<div>\n",
       "<style scoped>\n",
       "    .dataframe tbody tr th:only-of-type {\n",
       "        vertical-align: middle;\n",
       "    }\n",
       "\n",
       "    .dataframe tbody tr th {\n",
       "        vertical-align: top;\n",
       "    }\n",
       "\n",
       "    .dataframe thead th {\n",
       "        text-align: right;\n",
       "    }\n",
       "</style>\n",
       "<table border=\"1\" class=\"dataframe\">\n",
       "  <thead>\n",
       "    <tr style=\"text-align: right;\">\n",
       "      <th></th>\n",
       "      <th>qseqid</th>\n",
       "      <th>sseqid</th>\n",
       "      <th>pident</th>\n",
       "      <th>length</th>\n",
       "      <th>mismatch</th>\n",
       "      <th>gapopen</th>\n",
       "      <th>qstart</th>\n",
       "      <th>qend</th>\n",
       "      <th>sstart</th>\n",
       "      <th>send</th>\n",
       "      <th>evalue</th>\n",
       "      <th>bitscore</th>\n",
       "      <th>fasta</th>\n",
       "    </tr>\n",
       "  </thead>\n",
       "  <tbody>\n",
       "    <tr>\n",
       "      <th>0</th>\n",
       "      <td>USA300HOU_RS07645|lukF</td>\n",
       "      <td>JEVQ01000003</td>\n",
       "      <td>100.00</td>\n",
       "      <td>984</td>\n",
       "      <td>0</td>\n",
       "      <td>0</td>\n",
       "      <td>1</td>\n",
       "      <td>984</td>\n",
       "      <td>117468</td>\n",
       "      <td>116485</td>\n",
       "      <td>0.000000e+00</td>\n",
       "      <td>1818.0</td>\n",
       "      <td>1417207_3.fna</td>\n",
       "    </tr>\n",
       "    <tr>\n",
       "      <th>1</th>\n",
       "      <td>USA300HOU_RS07645|lukF</td>\n",
       "      <td>JEVQ01000006</td>\n",
       "      <td>82.30</td>\n",
       "      <td>972</td>\n",
       "      <td>166</td>\n",
       "      <td>6</td>\n",
       "      <td>7</td>\n",
       "      <td>975</td>\n",
       "      <td>46088</td>\n",
       "      <td>45120</td>\n",
       "      <td>0.000000e+00</td>\n",
       "      <td>837.0</td>\n",
       "      <td>1417207_3.fna</td>\n",
       "    </tr>\n",
       "    <tr>\n",
       "      <th>2</th>\n",
       "      <td>USA300HOU_RS07645|lukF</td>\n",
       "      <td>JEVQ01000001</td>\n",
       "      <td>77.03</td>\n",
       "      <td>962</td>\n",
       "      <td>191</td>\n",
       "      <td>25</td>\n",
       "      <td>7</td>\n",
       "      <td>953</td>\n",
       "      <td>365254</td>\n",
       "      <td>366200</td>\n",
       "      <td>2.000000e-149</td>\n",
       "      <td>525.0</td>\n",
       "      <td>1417207_3.fna</td>\n",
       "    </tr>\n",
       "    <tr>\n",
       "      <th>3</th>\n",
       "      <td>USA300HOU_RS07650|lukS</td>\n",
       "      <td>JEVQ01000003</td>\n",
       "      <td>100.00</td>\n",
       "      <td>939</td>\n",
       "      <td>0</td>\n",
       "      <td>0</td>\n",
       "      <td>1</td>\n",
       "      <td>939</td>\n",
       "      <td>118402</td>\n",
       "      <td>117464</td>\n",
       "      <td>0.000000e+00</td>\n",
       "      <td>1735.0</td>\n",
       "      <td>1417207_3.fna</td>\n",
       "    </tr>\n",
       "    <tr>\n",
       "      <th>4</th>\n",
       "      <td>USA300HOU_RS07650|lukS</td>\n",
       "      <td>JEVQ01000001</td>\n",
       "      <td>75.74</td>\n",
       "      <td>643</td>\n",
       "      <td>138</td>\n",
       "      <td>16</td>\n",
       "      <td>169</td>\n",
       "      <td>803</td>\n",
       "      <td>362974</td>\n",
       "      <td>363606</td>\n",
       "      <td>6.000000e-84</td>\n",
       "      <td>307.0</td>\n",
       "      <td>1417207_3.fna</td>\n",
       "    </tr>\n",
       "  </tbody>\n",
       "</table>\n",
       "</div>"
      ],
      "text/plain": [
       "                   qseqid        sseqid  pident  length  mismatch  gapopen  \\\n",
       "0  USA300HOU_RS07645|lukF  JEVQ01000003  100.00     984         0        0   \n",
       "1  USA300HOU_RS07645|lukF  JEVQ01000006   82.30     972       166        6   \n",
       "2  USA300HOU_RS07645|lukF  JEVQ01000001   77.03     962       191       25   \n",
       "3  USA300HOU_RS07650|lukS  JEVQ01000003  100.00     939         0        0   \n",
       "4  USA300HOU_RS07650|lukS  JEVQ01000001   75.74     643       138       16   \n",
       "\n",
       "   qstart  qend  sstart    send         evalue  bitscore          fasta  \n",
       "0       1   984  117468  116485   0.000000e+00    1818.0  1417207_3.fna  \n",
       "1       7   975   46088   45120   0.000000e+00     837.0  1417207_3.fna  \n",
       "2       7   953  365254  366200  2.000000e-149     525.0  1417207_3.fna  \n",
       "3       1   939  118402  117464   0.000000e+00    1735.0  1417207_3.fna  \n",
       "4     169   803  362974  363606   6.000000e-84     307.0  1417207_3.fna  "
      ]
     },
     "execution_count": 2,
     "metadata": {},
     "output_type": "execute_result"
    }
   ],
   "source": [
    "blast_header='''qseqid sseqid pident length \n",
    "             mismatch gapopen qstart qend sstart send evalue bitscore fasta'''\n",
    "pvl = pd.read_csv('data/preprocess/blast/pvl.tsv', sep='\\t', header=None,\n",
    "                 names=blast_header.split())\n",
    "pvl.head()"
   ]
  },
  {
   "cell_type": "code",
   "execution_count": 4,
   "id": "c7cb8c04",
   "metadata": {},
   "outputs": [],
   "source": [
    "pvl_pos = pvl.loc[np.where(pvl['pident'] >= 95.00), 'fasta'].unique()\n",
    "pvl_pos = ['.'.join(i.split('.')[:-1]) for i in pvl_pos]"
   ]
  },
  {
   "cell_type": "code",
   "execution_count": 14,
   "id": "b19dd29f",
   "metadata": {},
   "outputs": [],
   "source": [
    "for node in tree.get_leaves():\n",
    "    if node.name in pvl_pos or node.name.replace('_contig', '') in pvl_pos:\n",
    "        pstat = 'Detected'\n",
    "    else:\n",
    "        pstat = 'Not Detected'\n",
    "    node.add_feature('pvl', pstat)"
   ]
  },
  {
   "cell_type": "markdown",
   "id": "a944b5e0",
   "metadata": {},
   "source": [
    "#### Add the Mec types as attribute to the tree"
   ]
  },
  {
   "cell_type": "code",
   "execution_count": null,
   "id": "3ae713eb",
   "metadata": {},
   "outputs": [],
   "source": [
    "mec_types = pd.read_csv('data/preprocessing/mecA_assign.csv', index_col=0)\n",
    "mec_types.whole_cassette_prediction = mec_types.whole_cassette_prediction.fillna('Not Detected')\n",
    "\n",
    "for node in tree.traverse():\n",
    "    if node.is_leaf():\n",
    "        try:\n",
    "            cassette = mec_types.loc[node.name.replace('_contig', ''),\n",
    "                                     'whole_cassette_prediction']\n",
    "        except KeyError:\n",
    "            cassette = 'Not Detected'\n",
    "        node.add_features(mectype=cassette)"
   ]
  },
  {
   "cell_type": "markdown",
   "id": "576ca198",
   "metadata": {},
   "source": [
    "### Rename the tree leaves"
   ]
  },
  {
   "cell_type": "code",
   "execution_count": 22,
   "id": "953f9688",
   "metadata": {},
   "outputs": [],
   "source": [
    "rename_dict = {}\n",
    "_ = [rename_dict.update({'.'.join(i[0].split('.')[:-1]): i[1]}) for i in fa_info]\n",
    "rename_dict.update({'USA100D592': 'USA100 D592 (CC5)',\n",
    "                   'E2125': 'E2125'})"
   ]
  },
  {
   "cell_type": "code",
   "execution_count": 23,
   "id": "8d1e055d",
   "metadata": {},
   "outputs": [],
   "source": [
    "for node in tree.get_leaves():\n",
    "    if node.name.replace('_contig', '') in rename_dict:\n",
    "        new_name = rename_dict[node.name.replace('_contig', '')]\n",
    "    else:\n",
    "        new_name = node.name\n",
    "    node.old_name = node.name\n",
    "    node.name = new_name"
   ]
  },
  {
   "cell_type": "markdown",
   "id": "91a6180e",
   "metadata": {},
   "source": [
    "## Find the USA300 root"
   ]
  },
  {
   "cell_type": "code",
   "execution_count": 34,
   "id": "6307e4c9",
   "metadata": {},
   "outputs": [
    {
     "name": "stderr",
     "output_type": "stream",
     "text": [
      "/home/saugat/anaconda3/envs/ete3/lib/python3.6/site-packages/ipykernel_launcher.py:47: UserWarning: FixedFormatter should only be used together with FixedLocator\n",
      "/home/saugat/anaconda3/envs/ete3/lib/python3.6/site-packages/ipykernel_launcher.py:48: UserWarning: FixedFormatter should only be used together with FixedLocator\n"
     ]
    },
    {
     "data": {
      "image/png": "[encoded data removed]",
      "text/plain": [
       "<Figure size 640x480 with 1 Axes>"
      ]
     },
     "metadata": {},
     "output_type": "display_data"
    }
   ],
   "source": [
    "node = tree&'S. aureus USA300_TCH1516'\n",
    "mec = []\n",
    "pvl = []\n",
    "nodes = []\n",
    "count = 0\n",
    "while node:\n",
    "    mec.append([i.mectype for i in node.get_leaves()])\n",
    "    pvl.append([i.pvl for i in node.get_leaves()])\n",
    "    nodes.append(node.name)\n",
    "    node = node.up\n",
    "    count += 1\n",
    "    if node:\n",
    "        node.name = str(count)\n",
    "# change name from TCH to 0, for cleaner figures\n",
    "nodes[0] = 0\n",
    "\n",
    "c1, c2, c3 = sns.color_palette(\"Set2\")[:3]\n",
    "\n",
    "# set matplotlib fonts\n",
    "plt.rcParams[\"font.family\"] = \"Arial\"\n",
    "plt.rcParams[\"font.size\"] = 14\n",
    "label_font = {'fontsize': 18}\n",
    "text_font = {'fontsize': 12}\n",
    "text_font_small = {'fontsize': 10}\n",
    "tick_font = {'fontsize': 16}\n",
    "\n",
    "fig, ax = plt.subplots()\n",
    "# sns.set_style('darkgrid')\n",
    "sns.reset_orig()\n",
    "ax.plot(range(len(nodes)),\n",
    "         [len(i) for i in mec],\n",
    "         label='All genomes',\n",
    "         color=c1)\n",
    "\n",
    "ax.plot(range(len(nodes)),\n",
    "         [i.count('SCCmec_type_IVa(2B)') for i in mec],\n",
    "         label='SCCmectype IVa(2B) +',\n",
    "         color=c2)\n",
    "\n",
    "ax.plot(range(len(nodes)),\n",
    "         [i.count('Detected') for i in pvl],\n",
    "         label='PVL +',\n",
    "        color=c3)\n",
    "\n",
    "\n",
    "ax.tick_params(which='both', axis='both', direction='in', reset=True)\n",
    "ax.set_yticklabels(np.arange(0, 2250, 250), fontsize=tick_font['fontsize'])\n",
    "ax.set_xticklabels(np.arange(-5, 40, 5), fontsize=tick_font['fontsize'])\n",
    "ax.set_xlabel('Uproot node number', **label_font)\n",
    "ax.set_ylabel('Number of genomes',  **label_font)\n",
    "_ = plt.xticks(rotation = 45)\n",
    "\n",
    "ax.vlines(11, 0, 2050, color='gray', linestyle='--')\n",
    "ax.set_ylim(0, 2050)\n",
    "\n",
    "ax.legend(loc='lower right', fontsize='x-large')\n",
    "# plt.savefig('figures/SCCMec_PVL_Prevalance.svg')\n",
    "plt.show()"
   ]
  },
  {
   "cell_type": "code",
   "execution_count": 35,
   "id": "d511600f",
   "metadata": {},
   "outputs": [
    {
     "data": {
      "text/plain": [
       "['S. aureus USA300_FPR3757']"
      ]
     },
     "execution_count": 35,
     "metadata": {},
     "output_type": "execute_result"
    }
   ],
   "source": [
    "fpr_name = [n for n in tree.get_leaf_names() if 'FPR' in n]\n",
    "fpr_name"
   ]
  },
  {
   "cell_type": "code",
   "execution_count": 41,
   "id": "69a84768",
   "metadata": {},
   "outputs": [
    {
     "name": "stderr",
     "output_type": "stream",
     "text": [
      "/home/saugat/anaconda3/envs/ete3/lib/python3.6/site-packages/ipykernel_launcher.py:47: UserWarning: FixedFormatter should only be used together with FixedLocator\n",
      "/home/saugat/anaconda3/envs/ete3/lib/python3.6/site-packages/ipykernel_launcher.py:48: UserWarning: FixedFormatter should only be used together with FixedLocator\n"
     ]
    },
    {
     "data": {
      "image/png": "[encoded data removed]",
      "text/plain": [
       "<Figure size 640x480 with 1 Axes>"
      ]
     },
     "metadata": {},
     "output_type": "display_data"
    }
   ],
   "source": [
    "node = tree&fpr_name[0]\n",
    "mec = []\n",
    "pvl = []\n",
    "nodes = []\n",
    "count = 0\n",
    "while node:\n",
    "    mec.append([i.mectype for i in node.get_leaves()])\n",
    "    pvl.append([i.pvl for i in node.get_leaves()])\n",
    "    nodes.append(node.name)\n",
    "    node = node.up\n",
    "    count += 1\n",
    "    if node:\n",
    "        node.name = str(count)\n",
    "# change name from TCH to 0, for cleaner figures\n",
    "nodes[0] = 0\n",
    "\n",
    "c1, c2, c3 = sns.color_palette(\"Set2\")[:3]\n",
    "\n",
    "# set matplotlib fonts\n",
    "plt.rcParams[\"font.family\"] = \"Arial\"\n",
    "plt.rcParams[\"font.size\"] = 14\n",
    "label_font = {'fontsize': 18}\n",
    "text_font = {'fontsize': 12}\n",
    "text_font_small = {'fontsize': 10}\n",
    "tick_font = {'fontsize': 16}\n",
    "\n",
    "fig, ax = plt.subplots()\n",
    "# sns.set_style('darkgrid')\n",
    "sns.reset_orig()\n",
    "ax.plot(range(len(nodes)),\n",
    "         [len(i) for i in mec],\n",
    "         label='All genomes',\n",
    "         color=c1)\n",
    "\n",
    "ax.plot(range(len(nodes)),\n",
    "         [i.count('SCCmec_type_IVa(2B)') for i in mec],\n",
    "         label='SCCmectype IVa(2B) +',\n",
    "         color=c2)\n",
    "\n",
    "ax.plot(range(len(nodes)),\n",
    "         [i.count('Detected') for i in pvl],\n",
    "         label='PVL +',\n",
    "        color=c3)\n",
    "\n",
    "\n",
    "ax.tick_params(which='both', axis='both', direction='in', reset=True)\n",
    "ax.set_yticklabels(np.arange(0, 2250, 250), fontsize=tick_font['fontsize'])\n",
    "ax.set_xticklabels(np.arange(-5, 70, 10), fontsize=tick_font['fontsize'])\n",
    "ax.set_xlabel('Uproot node number', **label_font)\n",
    "ax.set_ylabel('Number of genomes',  **label_font)\n",
    "_ = plt.xticks(rotation = 45)\n",
    "\n",
    "ax.vlines(33, 0, 2050, color='gray', linestyle='--')\n",
    "ax.set_ylim(0, 2050)\n",
    "\n",
    "ax.legend(loc='lower right', fontsize='x-large')\n",
    "plt.savefig('figures/SCCMec_PVL_Prevalance_FPR.svg')\n",
    "plt.show()"
   ]
  },
  {
   "cell_type": "code",
   "execution_count": 33,
   "id": "c15d765f",
   "metadata": {},
   "outputs": [],
   "source": [
    "# rename USA300 root\n",
    "(tree&'11').name = 'USA300 root'"
   ]
  },
  {
   "cell_type": "code",
   "execution_count": 34,
   "id": "645ce50b",
   "metadata": {},
   "outputs": [
    {
     "name": "stdout",
     "output_type": "stream",
     "text": [
      "Number of USA300 genomes:  1447\n",
      "Number of Non-USA300 genomes:  590\n"
     ]
    }
   ],
   "source": [
    "usa300_genomes = [i.name for i in (tree&'USA300 root').traverse() if i.is_leaf()]\n",
    "non_usa300_genomes = [i.name for i in tree.traverse() if i.is_leaf() and i.name not in usa300_genomes]\n",
    "\n",
    "print('Number of USA300 genomes: ', len(usa300_genomes))\n",
    "print('Number of Non-USA300 genomes: ', len(non_usa300_genomes))"
   ]
  },
  {
   "cell_type": "code",
   "execution_count": 35,
   "id": "838138d8",
   "metadata": {},
   "outputs": [
    {
     "name": "stdout",
     "output_type": "stream",
     "text": [
      "1341/1447 (92.67%) of strains in USA300 clade are either SCCMecIVa or PVL pos\n"
     ]
    }
   ],
   "source": [
    "total = 0\n",
    "pos = 0\n",
    "for leaves in (tree&'USA300 root').get_leaves():\n",
    "    total += 1\n",
    "    if leaves.mectype == 'SCCmectype IVa(2B) +' or leaves.pvl == 'Detected':\n",
    "        pos += 1\n",
    "print(f'{pos}/{total} ({pos/total * 100:.2f}%) of strains in USA300 clade are either SCCMecIVa or PVL pos')"
   ]
  },
  {
   "cell_type": "markdown",
   "id": "548dd1af",
   "metadata": {},
   "source": [
    "# CC8b root"
   ]
  },
  {
   "cell_type": "code",
   "execution_count": 56,
   "id": "aa41894e",
   "metadata": {},
   "outputs": [
    {
     "data": {
      "image/png": "[encoded data removed]",
      "text/plain": [
       "<Figure size 640x480 with 1 Axes>"
      ]
     },
     "metadata": {},
     "output_type": "display_data"
    },
    {
     "name": "stdout",
     "output_type": "stream",
     "text": [
      "Number of CC8b genomes:  88\n"
     ]
    }
   ],
   "source": [
    "node = tree& 'S. aureus NCTC 8325  NCTC8325'\n",
    "attrib = []\n",
    "nodes = []\n",
    "count = 0\n",
    "while node:\n",
    "    attrib.append([i.mectype for i in node.traverse() if i.is_leaf()])\n",
    "    nodes.append(node.name)\n",
    "    node = node.up\n",
    "    count += 1\n",
    "    if node:\n",
    "        node.name = str(count)\n",
    "# change name from TCH to 0, for cleaner figures\n",
    "nodes[0] = 0\n",
    "\n",
    "plt.plot(range(len(nodes)), [len(i) for i in attrib], label='All genomes')\n",
    "plt.plot(range(len(nodes)), [i.count('Not Detected') for i in attrib], label='SCCMec\\nNot Detected')\n",
    "\n",
    "plt.xlabel('Uproot node number')\n",
    "plt.ylabel('Number of genomes')\n",
    "_ = plt.xticks(rotation = 45)\n",
    "\n",
    "plt.vlines(12, 0, 1800, color='gray', linestyle='--')\n",
    "# plt.ylim(0, 1810)\n",
    "\n",
    "plt.legend(loc='upper left')\n",
    "plt.show()\n",
    "\n",
    "(tree&'7').name = 'CC8b root'\n",
    "cc8b_genomes = [i.name for i in (tree&'CC8b root').traverse() if i.is_leaf()]\n",
    "\n",
    "print('Number of CC8b genomes: ', len(cc8b_genomes))"
   ]
  },
  {
   "cell_type": "markdown",
   "id": "9f7d26c8",
   "metadata": {},
   "source": [
    "# Save tree and annotation files"
   ]
  },
  {
   "cell_type": "code",
   "execution_count": 34,
   "id": "01b5d890",
   "metadata": {},
   "outputs": [],
   "source": [
    "with open('data/preprocessing/CC8_ete3.newick', 'w') as nw:\n",
    "    nw.write(tree.write(features=[\"name\", \"mectype\", \"pvl\"]))"
   ]
  },
  {
   "cell_type": "code",
   "execution_count": 31,
   "id": "2abae802",
   "metadata": {},
   "outputs": [],
   "source": [
    "with open('data/preprocessing/CC8Mecpos.txt', 'w') as out:\n",
    "    for i in tree.traverse():\n",
    "        if i.is_leaf() and i.mectype == 'SCCmec_type_IVa(2B)':\n",
    "            out.write(f'{i.name}\\t1\\n')"
   ]
  },
  {
   "cell_type": "code",
   "execution_count": 32,
   "id": "935f42fc",
   "metadata": {},
   "outputs": [],
   "source": [
    "with open('data/preprocessing/CC8PVLpos.txt', 'w') as out:\n",
    "    for i in tree.traverse():\n",
    "        if i.is_leaf() and i.pvl == 'Detected':\n",
    "            out.write(f'{i.name}\\t1\\n')"
   ]
  },
  {
   "cell_type": "code",
   "execution_count": 36,
   "id": "cb797545",
   "metadata": {},
   "outputs": [],
   "source": [
    "with open('data/preprocessing/CC8PVLpos.csv', 'w') as out:\n",
    "    for i in tree.traverse():\n",
    "        if i.is_leaf() and i.pvl == 'Detected':\n",
    "            out.write(f'{i.name},#3d85c6\\n')"
   ]
  },
  {
   "cell_type": "code",
   "execution_count": 35,
   "id": "98e13fde",
   "metadata": {},
   "outputs": [],
   "source": [
    "with open('data/preprocessing/CC8Mecpos.csv', 'w') as out:\n",
    "    for i in tree.get_leaves():\n",
    "        if i.mectype == 'Not Detected':\n",
    "            continue\n",
    "        val = 'SCCMecIVa(2B)' if i.mectype == 'SCCmec_type_IVa(2B)' else 'Other'\n",
    "        color = '#134f5c' if val == 'Other' else '#cc0000'\n",
    "        out.write(f'{i.name},{color}\\n')\n"
   ]
  },
  {
   "cell_type": "markdown",
   "id": "8b613a07",
   "metadata": {},
   "source": [
    "# Generate files for DBGWAS"
   ]
  },
  {
   "cell_type": "code",
   "execution_count": 50,
   "id": "5bec8b81",
   "metadata": {},
   "outputs": [],
   "source": [
    "names = []\n",
    "subtype = []\n",
    "genpath = []\n",
    "for i in genome_files:\n",
    "    name = rename_dict[i.split('.')[0]]\n",
    "    add = '_1' if name.replace(' ', '_') in names else ''\n",
    "#     if name not in drop_names:\n",
    "    genpath.append(os.path.join('/staphylococcus_aureus_fna/', i))\n",
    "    names.append(name.replace(' ', '_') + add)\n",
    "    subtype.append(int(name in usa300_genomes))"
   ]
  },
  {
   "cell_type": "code",
   "execution_count": 51,
   "id": "c0262de1",
   "metadata": {},
   "outputs": [
    {
     "data": {
      "text/html": [
       "<div>\n",
       "<style scoped>\n",
       "    .dataframe tbody tr th:only-of-type {\n",
       "        vertical-align: middle;\n",
       "    }\n",
       "\n",
       "    .dataframe tbody tr th {\n",
       "        vertical-align: top;\n",
       "    }\n",
       "\n",
       "    .dataframe thead th {\n",
       "        text-align: right;\n",
       "    }\n",
       "</style>\n",
       "<table border=\"1\" class=\"dataframe\">\n",
       "  <thead>\n",
       "    <tr style=\"text-align: right;\">\n",
       "      <th></th>\n",
       "      <th>ID</th>\n",
       "      <th>subtype</th>\n",
       "      <th>Path</th>\n",
       "    </tr>\n",
       "  </thead>\n",
       "  <tbody>\n",
       "    <tr>\n",
       "      <th>0</th>\n",
       "      <td>S._aureus_T39082</td>\n",
       "      <td>1</td>\n",
       "      <td>/staphylococcus_aureus_fna/1417207_3.fna</td>\n",
       "    </tr>\n",
       "    <tr>\n",
       "      <th>1</th>\n",
       "      <td>S._aureus__st550</td>\n",
       "      <td>0</td>\n",
       "      <td>/staphylococcus_aureus_fna/1280_6000.fna</td>\n",
       "    </tr>\n",
       "    <tr>\n",
       "      <th>2</th>\n",
       "      <td>S._aureus__CFSA285</td>\n",
       "      <td>1</td>\n",
       "      <td>/staphylococcus_aureus_fna/1280_12389.fna</td>\n",
       "    </tr>\n",
       "    <tr>\n",
       "      <th>3</th>\n",
       "      <td>S._aureus_F54461</td>\n",
       "      <td>1</td>\n",
       "      <td>/staphylococcus_aureus_fna/1410726_3.fna</td>\n",
       "    </tr>\n",
       "    <tr>\n",
       "      <th>4</th>\n",
       "      <td>S._aureus_W75262</td>\n",
       "      <td>1</td>\n",
       "      <td>/staphylococcus_aureus_fna/1418436_3.fna</td>\n",
       "    </tr>\n",
       "  </tbody>\n",
       "</table>\n",
       "</div>"
      ],
      "text/plain": [
       "                   ID subtype                                       Path\n",
       "0    S._aureus_T39082       1   /staphylococcus_aureus_fna/1417207_3.fna\n",
       "1    S._aureus__st550       0   /staphylococcus_aureus_fna/1280_6000.fna\n",
       "2  S._aureus__CFSA285       1  /staphylococcus_aureus_fna/1280_12389.fna\n",
       "3    S._aureus_F54461       1   /staphylococcus_aureus_fna/1410726_3.fna\n",
       "4    S._aureus_W75262       1   /staphylococcus_aureus_fna/1418436_3.fna"
      ]
     },
     "execution_count": 51,
     "metadata": {},
     "output_type": "execute_result"
    }
   ],
   "source": [
    "dbgwas_df = pd.DataFrame([names, subtype, genpath], index=['ID', 'subtype', 'Path']).T\n",
    "dbgwas_df.head()"
   ]
  },
  {
   "cell_type": "code",
   "execution_count": 58,
   "id": "9279d4ed",
   "metadata": {},
   "outputs": [],
   "source": [
    "# drop the USA100 strain that was only added for tree rooting\n",
    "dbgwas_df.drop(dbgwas_df[dbgwas_df.ID.str.contains('USA100')].index, inplace=True)"
   ]
  },
  {
   "cell_type": "code",
   "execution_count": 59,
   "id": "1bda8e0d",
   "metadata": {},
   "outputs": [
    {
     "data": {
      "text/plain": [
       "1    1441\n",
       "0     589\n",
       "Name: subtype, dtype: int64"
      ]
     },
     "execution_count": 59,
     "metadata": {},
     "output_type": "execute_result"
    }
   ],
   "source": [
    "dbgwas_df.subtype.value_counts()"
   ]
  },
  {
   "cell_type": "code",
   "execution_count": 61,
   "id": "0f00fe2a",
   "metadata": {},
   "outputs": [],
   "source": [
    "dbgwas_df.to_csv('data/dbgwas/strain', sep='\\t', index=None)"
   ]
  },
  {
   "cell_type": "code",
   "execution_count": 6,
   "id": "58bdb0f3",
   "metadata": {},
   "outputs": [],
   "source": [
    "dbgwas_df = pd.read_csv('data/dbgwas/strain', sep='\\t')"
   ]
  },
  {
   "cell_type": "code",
   "execution_count": 13,
   "id": "c7c4717c",
   "metadata": {},
   "outputs": [
    {
     "data": {
      "text/plain": [
       "['S._aureus__2395_USA500']"
      ]
     },
     "execution_count": 13,
     "metadata": {},
     "output_type": "execute_result"
    }
   ],
   "source": [
    "[i for i in dbgwas_df[dbgwas_df.subtype == 0].ID.values if 'USA500' in i]"
   ]
  },
  {
   "cell_type": "markdown",
   "id": "480d6ea4",
   "metadata": {},
   "source": [
    "# Generate fasta files to annotate the graph\n",
    "DBGWAS will annotate nodes if the associated unitig matches with the sequences in the provided fasta file. This makes parsing the output a lot easier. "
   ]
  },
  {
   "cell_type": "code",
   "execution_count": 20,
   "id": "ad995700",
   "metadata": {},
   "outputs": [],
   "source": [
    "def write_regulatory_seq(fout, feat, refseq, length):\n",
    "    lt = feat.qualifiers['locus_tag'][0]\n",
    "    if feat.location.strand == 1:\n",
    "        start = feat.location.start - length\n",
    "        end = feat.location.start\n",
    "    else:\n",
    "        start = feat.location.end\n",
    "        end = feat.location.end + length\n",
    "    fout.write(f'>{lt}_regulatory\\n{refseq.seq[start:end]}\\n')\n",
    "\n",
    "def write_feature_seq(fout, feat, refseq):\n",
    "        try:\n",
    "            lt = feat.qualifiers['locus_tag'][0]\n",
    "        except KeyError:\n",
    "            return\n",
    "        seq = feat.extract(refseq).seq\n",
    "\n",
    "        try:\n",
    "            product = ';DBGWAS_general_tag=' + feat.qualifiers['product'][0]\n",
    "        except KeyError:\n",
    "            product = ''\n",
    "            \n",
    "        fout.write(f'>{lt+product}\\n{seq}\\n')\n",
    "\n",
    "def write_intergenic(start, end, refseq, fout, strain):\n",
    "    fout.write(f'>{strain}intergenic_{str(start)}-{str(end)}\\n{refseq.seq[start:end]}\\n')\n",
    "\n",
    "def generate_annotation_fasta(gb, fa_out, length=150, strain='Strain'):\n",
    "    start_pos = 1\n",
    "    with open(fa_out, 'w') as fout:\n",
    "        for refseq in SeqIO.parse(gb, 'genbank'):\n",
    "            for feat in refseq.features:\n",
    "                if feat.type in ['source', 'gene', 'STS']:\n",
    "                    continue\n",
    "                write_feature_seq(fout, feat, refseq)\n",
    "                if feat.location.start - start_pos > 31:\n",
    "                    write_intergenic(start_pos, feat.location.start, refseq, fout, strain)\n",
    "                start_pos = feat.location.end"
   ]
  },
  {
   "cell_type": "code",
   "execution_count": 21,
   "id": "13605173",
   "metadata": {},
   "outputs": [],
   "source": [
    "fa_out = 'data/dbgwas/annotation/TCH1516_annotation.fasta'\n",
    "gb = '/home/saugat/Desktop/Reference/genome/TCH1516_full.gb'\n",
    "generate_annotation_fasta(gb, fa_out, strain='TCH1516')"
   ]
  },
  {
   "cell_type": "code",
   "execution_count": 23,
   "id": "b0cc6637",
   "metadata": {},
   "outputs": [],
   "source": [
    "fa_out = 'data/dbgwas/annotation/NCTC8325_annotation.fasta'\n",
    "gb = '/home/saugat/Desktop/Reference/genome/NCTC_8325.gbk'\n",
    "generate_annotation_fasta(gb, fa_out, strain='NCTC8325')"
   ]
  },
  {
   "cell_type": "markdown",
   "id": "1a3b1705",
   "metadata": {},
   "source": [
    "# Run DBGWAS\n",
    "Use docker to run dbgwas.\n",
    "\n",
    "\n",
    "`docker run --rm -v /home/saugat/Documents/phame/fna/:/staphylococcus_aureus_fna -v /home/saugat/Desktop/project_cc8/FinalAnalysis/data/dbgwas/:/data/ leandroishilima/dbgwas:0.5.4 -strains /data/strain -nc-db /data/annotation/NCTC8325_annotation.fasta,/data/annotation/TCH1516_annotation.fasta -output /data/dbgwas_output/ -verbose 5 -nb-cores 8 -maf 0.1 -SFF q0.05\n",
    "`\n",
    "<br><br><br>\n",
    "\n",
    "##### Note: With `-maf 0.1` flag on DBGWAS ignores all alleles that are present in < 10 % of genomes or > 90% of genomes. These alleles tend to give very low p-vals even if their frequency of occurence between USA300 and non-USA300 strains are very similar.\n",
    "\n",
    "\n"
   ]
  },
  {
   "cell_type": "markdown",
   "id": "4108e3b3",
   "metadata": {},
   "source": [
    "# Explore PATRIC metadata"
   ]
  },
  {
   "cell_type": "code",
   "execution_count": 3,
   "id": "c017c7b3",
   "metadata": {
    "scrolled": true
   },
   "outputs": [
    {
     "name": "stderr",
     "output_type": "stream",
     "text": [
      "/home/saugat/anaconda3/envs/ete3/lib/python3.6/site-packages/IPython/core/interactiveshell.py:2714: DtypeWarning: Columns (12,39,40,41,42) have mixed types.Specify dtype option on import or set low_memory=False.\n",
      "  interactivity=interactivity, compiler=compiler, result=result)\n"
     ]
    }
   ],
   "source": [
    "patric_md = pd.read_csv('data/preprocessing/PATRIC_genome_metadata.csv', index_col=0)\n",
    "patric_md.index = patric_md.index.map(str)"
   ]
  },
  {
   "cell_type": "code",
   "execution_count": 4,
   "id": "61dd9f10",
   "metadata": {},
   "outputs": [
    {
     "data": {
      "text/html": [
       "<div>\n",
       "<style scoped>\n",
       "    .dataframe tbody tr th:only-of-type {\n",
       "        vertical-align: middle;\n",
       "    }\n",
       "\n",
       "    .dataframe tbody tr th {\n",
       "        vertical-align: top;\n",
       "    }\n",
       "\n",
       "    .dataframe thead th {\n",
       "        text-align: right;\n",
       "    }\n",
       "</style>\n",
       "<table border=\"1\" class=\"dataframe\">\n",
       "  <thead>\n",
       "    <tr style=\"text-align: right;\">\n",
       "      <th></th>\n",
       "      <th>ID</th>\n",
       "      <th>subtype</th>\n",
       "      <th>Path</th>\n",
       "    </tr>\n",
       "  </thead>\n",
       "  <tbody>\n",
       "    <tr>\n",
       "      <th>0</th>\n",
       "      <td>S._aureus_T39082</td>\n",
       "      <td>1</td>\n",
       "      <td>/staphylococcus_aureus_fna/1417207_3.fna</td>\n",
       "    </tr>\n",
       "    <tr>\n",
       "      <th>1</th>\n",
       "      <td>S._aureus__st550</td>\n",
       "      <td>0</td>\n",
       "      <td>/staphylococcus_aureus_fna/1280_6000.fna</td>\n",
       "    </tr>\n",
       "    <tr>\n",
       "      <th>2</th>\n",
       "      <td>S._aureus__CFSA285</td>\n",
       "      <td>1</td>\n",
       "      <td>/staphylococcus_aureus_fna/1280_12389.fna</td>\n",
       "    </tr>\n",
       "    <tr>\n",
       "      <th>3</th>\n",
       "      <td>S._aureus_F54461</td>\n",
       "      <td>1</td>\n",
       "      <td>/staphylococcus_aureus_fna/1410726_3.fna</td>\n",
       "    </tr>\n",
       "    <tr>\n",
       "      <th>4</th>\n",
       "      <td>S._aureus_W75262</td>\n",
       "      <td>1</td>\n",
       "      <td>/staphylococcus_aureus_fna/1418436_3.fna</td>\n",
       "    </tr>\n",
       "  </tbody>\n",
       "</table>\n",
       "</div>"
      ],
      "text/plain": [
       "                   ID  subtype                                       Path\n",
       "0    S._aureus_T39082        1   /staphylococcus_aureus_fna/1417207_3.fna\n",
       "1    S._aureus__st550        0   /staphylococcus_aureus_fna/1280_6000.fna\n",
       "2  S._aureus__CFSA285        1  /staphylococcus_aureus_fna/1280_12389.fna\n",
       "3    S._aureus_F54461        1   /staphylococcus_aureus_fna/1410726_3.fna\n",
       "4    S._aureus_W75262        1   /staphylococcus_aureus_fna/1418436_3.fna"
      ]
     },
     "execution_count": 4,
     "metadata": {},
     "output_type": "execute_result"
    }
   ],
   "source": [
    "dbgwas_df = pd.read_csv('data/dbgwas/strain', sep='\\t')\n",
    "dbgwas_df.head()"
   ]
  },
  {
   "cell_type": "code",
   "execution_count": 5,
   "id": "b9976043",
   "metadata": {},
   "outputs": [],
   "source": [
    "fa_names = dbgwas_df.Path.apply(lambda x: x.split('/')[-1].split('.')[0].replace('_', '.')).values.tolist()"
   ]
  },
  {
   "cell_type": "code",
   "execution_count": 6,
   "id": "bef45448",
   "metadata": {},
   "outputs": [],
   "source": [
    "dbgwas_df['names'] = fa_names"
   ]
  },
  {
   "cell_type": "code",
   "execution_count": 7,
   "id": "e287eb41",
   "metadata": {},
   "outputs": [],
   "source": [
    "patric_md = patric_md.loc[set(fa_names).intersection(patric_md.index.values.tolist())]"
   ]
  },
  {
   "cell_type": "code",
   "execution_count": 8,
   "id": "de6c3668",
   "metadata": {},
   "outputs": [],
   "source": [
    "infection = ['Abscess', 'Blood', 'Conjunctiva', 'Cystic Fibrosis airway culture',\n",
    "            'Groin', 'Ham', 'Invasive', 'Lung', 'Perineum', 'Purulent abscess',\n",
    "            'Purulent abscess','Purulent absess from military trainee','Pus','Pus axilla',\n",
    "             'Pus isolated from host','Pus left axilla','Pus leg', 'Respiratory','Skin',\n",
    "             'Skin lesions','Sputum', 'Sputum isolated from host','Throat','Throat Culture',\n",
    "            'Wound','Wound fluid', 'Wound left foot','abscess','airway culture',\n",
    "             'anticubital site', 'blood','blood culture','blood of a 35 year-old male',\n",
    "             'blood sample from patient with bacteremia','bone', 'bood','clinical isolate',\n",
    "             'clinical sample', 'fluid', 'hospital',\n",
    "             'infected human elbow arthroplasty from a patient',\n",
    "             'joint','laboratory', 'lesion','lesion swab',\n",
    "             'bronchoaspiration material', 'buttock abscess; community aquired',\n",
    "            'pleural fluid','purulent abscess','purulent absess from military trainee',\n",
    "             'purulent infected wound','pus', 'sepsis patient','skin','skin and soft tissue',\n",
    "             'soft tissue','sputum','sputum or oropharyngeal','sternal wound','tissue',\n",
    "             'tissue sample', 'type 2 diabetes patient','urine','wound', 'wound abdominal',\n",
    "             'wound scalp', 'wound swab', 'wound/abscess']\n",
    "carriage = ['Community Acquired Methicillin Resistant Staphylococcus aureus, CA-MRSA, NRS 384, USA300-0114',\n",
    "           'Nares', 'Nares', 'Nose', 'Nose from military trainee', 'Nose swab',\n",
    "           'Oropharynx', 'nares', 'nasal', 'nasal passage from dialysis patient control',\n",
    "             'nasal perirectal swab', 'nasal swab','nasopharynx sample','nose','nostril',\n",
    "           'the cheek skin of 268 Japanese infants 1 month and 6 months after birth',\n",
    "           ]"
   ]
  },
  {
   "cell_type": "code",
   "execution_count": 9,
   "id": "a3e3e964",
   "metadata": {},
   "outputs": [],
   "source": [
    "def get_source(source, infection=infection, carriage=carriage):\n",
    "    if source in infection:\n",
    "        return 'Infection'\n",
    "    elif source in carriage:\n",
    "        return 'Colonization'\n",
    "    return 'Other'"
   ]
  },
  {
   "cell_type": "code",
   "execution_count": 10,
   "id": "aa5de7d5",
   "metadata": {},
   "outputs": [],
   "source": [
    "patric_md['Infection Status'] = patric_md['Isolation Source'].apply(get_source)"
   ]
  },
  {
   "cell_type": "code",
   "execution_count": 13,
   "id": "d0e3949c",
   "metadata": {},
   "outputs": [],
   "source": [
    "shared = patric_md.index.intersection(dbgwas_df.names.values)"
   ]
  },
  {
   "cell_type": "code",
   "execution_count": 12,
   "id": "27d1a553",
   "metadata": {},
   "outputs": [
    {
     "data": {
      "text/plain": [
       "Infection       606\n",
       "Colonization    505\n",
       "Other           185\n",
       "Name: Infection Status, dtype: int64"
      ]
     },
     "execution_count": 12,
     "metadata": {},
     "output_type": "execute_result"
    }
   ],
   "source": [
    "check = set(dbgwas_df[dbgwas_df.subtype == 1]['names']).intersection(shared)\n",
    "patric_md.loc[check, 'Infection Status'].value_counts()"
   ]
  },
  {
   "cell_type": "code",
   "execution_count": 21,
   "id": "fc6d43f8",
   "metadata": {},
   "outputs": [
    {
     "data": {
      "text/plain": [
       "Other                                                                                                                                                                                                                                                                                                                                                           55\n",
       "household surface                                                                                                                                                                                                                                                                                                                                               51\n",
       "bacterial isolates collected                                                                                                                                                                                                                                                                                                                                    13\n",
       "not available: to be reported later                                                                                                                                                                                                                                                                                                                              8\n",
       "milk                                                                                                                                                                                                                                                                                                                                                             6\n",
       "raw milk                                                                                                                                                                                                                                                                                                                                                         2\n",
       "Nasal                                                                                                                                                                                                                                                                                                                                                            2\n",
       "skin-AD site                                                                                                                                                                                                                                                                                                                                                     2\n",
       "Individual compounds of essential oils                                                                                                                                                                                                                                                                                                                           2\n",
       "heart valve                                                                                                                                                                                                                                                                                                                                                      2\n",
       "strain HG003 was generated by Silvia Herbert in 2010 in the Microbial Genetics department of University of Tubingen, Germany; Herbert received the parental strain NCTC8325 from Richard Novick (NYU Langone Medical Center); parental strain NCTC8325 was isolated in 1960 from a sepsis patient at Colindale, Central Public Health Laboratory, London, UK     1\n",
       "wound l foot                                                                                                                                                                                                                                                                                                                                                     1\n",
       "Livestock farm                                                                                                                                                                                                                                                                                                                                                   1\n",
       "Trypticase Soy Agar/Broth                                                                                                                                                                                                                                                                                                                                        1\n",
       "food                                                                                                                                                                                                                                                                                                                                                             1\n",
       "neck                                                                                                                                                                                                                                                                                                                                                             1\n",
       "International Space Station Surface: Columbus Module                                                                                                                                                                                                                                                                                                             1\n",
       "Clinical                                                                                                                                                                                                                                                                                                                                                         1\n",
       "not applicable                                                                                                                                                                                                                                                                                                                                                   1\n",
       "chicken breast                                                                                                                                                                                                                                                                                                                                                   1\n",
       "hand skin                                                                                                                                                                                                                                                                                                                                                        1\n",
       "biological                                                                                                                                                                                                                                                                                                                                                       1\n",
       "rectal swab                                                                                                                                                                                                                                                                                                                                                      1\n",
       "Lab                                                                                                                                                                                                                                                                                                                                                              1\n",
       "human samples                                                                                                                                                                                                                                                                                                                                                    1\n",
       "ground beef                                                                                                                                                                                                                                                                                                                                                      1\n",
       "environmental                                                                                                                                                                                                                                                                                                                                                    1\n",
       "Genomic DNA                                                                                                                                                                                                                                                                                                                                                      1\n",
       "Name: Isolation Source, dtype: int64"
      ]
     },
     "execution_count": 21,
     "metadata": {},
     "output_type": "execute_result"
    }
   ],
   "source": [
    "patric_md[patric_md['Infection Status'] == 'Other']['Isolation Source'].value_counts()"
   ]
  },
  {
   "cell_type": "code",
   "execution_count": 19,
   "id": "859e13f6",
   "metadata": {},
   "outputs": [
    {
     "data": {
      "text/plain": [
       "1    1294\n",
       "0     457\n",
       "Name: subtype, dtype: int64"
      ]
     },
     "execution_count": 19,
     "metadata": {},
     "output_type": "execute_result"
    }
   ],
   "source": [
    "dbgwas_df[dbgwas_df.names.isin(shared)].subtype.value_counts()"
   ]
  },
  {
   "cell_type": "code",
   "execution_count": 72,
   "id": "d3611bd1",
   "metadata": {},
   "outputs": [],
   "source": [
    "check = set(dbgwas_df[dbgwas_df.subtype == 0]['names']).intersection(shared)\n",
    "temp = patric_md.loc[check]"
   ]
  },
  {
   "cell_type": "code",
   "execution_count": 73,
   "id": "58b221ee",
   "metadata": {},
   "outputs": [
    {
     "data": {
      "text/plain": [
       "Bacterial infection                   8\n",
       "Septicemia;Pneumonia                  3\n",
       "Infectious endocarditis               2\n",
       "Bone and joint infection              1\n",
       "Hypervirulent MRSA                    1\n",
       "Orthopedic infection                  1\n",
       "Pneumonia;Septicemia                  1\n",
       "Toxic shock syndrome;Scarlet fever    1\n",
       "Name: Disease, dtype: int64"
      ]
     },
     "execution_count": 73,
     "metadata": {},
     "output_type": "execute_result"
    }
   ],
   "source": [
    "patric_md.Disease.value_counts()"
   ]
  },
  {
   "cell_type": "code",
   "execution_count": 67,
   "id": "90f22cd9",
   "metadata": {},
   "outputs": [
    {
     "data": {
      "text/plain": [
       "Bacterial infection         12\n",
       "Infectious endocarditis      2\n",
       "Septicemia;Pneumonia         1\n",
       "Bone and joint infection     1\n",
       "Hypervirulent MRSA           1\n",
       "Orthopedic infection         1\n",
       "Name: Disease, dtype: int64"
      ]
     },
     "execution_count": 67,
     "metadata": {},
     "output_type": "execute_result"
    }
   ],
   "source": [
    "patric_md.dropna(subset=['Isolation Source']).Disease.value_counts()"
   ]
  }
 ],
 "metadata": {
  "kernelspec": {
   "display_name": "Python 3 (ipykernel)",
   "language": "python",
   "name": "python3"
  },
  "language_info": {
   "codemirror_mode": {
    "name": "ipython",
    "version": 3
   },
   "file_extension": ".py",
   "mimetype": "text/x-python",
   "name": "python",
   "nbconvert_exporter": "python",
   "pygments_lexer": "ipython3",
   "version": "3.9.13"
  }
 },
 "nbformat": 4,
 "nbformat_minor": 5
}
