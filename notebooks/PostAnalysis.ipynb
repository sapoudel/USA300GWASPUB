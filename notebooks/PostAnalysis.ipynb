{
 "cells": [
  {
   "cell_type": "code",
   "execution_count": 2,
   "metadata": {},
   "outputs": [
    {
     "name": "stderr",
     "output_type": "stream",
     "text": [
      "/home/saugat/anaconda3/envs/rnseq/lib/python3.7/site-packages/statsmodels/tools/_testing.py:19: FutureWarning: pandas.util.testing is deprecated. Use the functions in the public API at pandas.testing instead.\n",
      "  import pandas.util.testing as tm\n"
     ]
    }
   ],
   "source": [
    "import pandas as pd\n",
    "import numpy as np\n",
    "from Bio import SeqIO\n",
    "import matplotlib.pyplot as plt\n",
    "import seaborn as sns\n",
    "import sys\n",
    "sys.path.append('/home/saugat/Desktop/pymodulon/src')\n",
    "from pymodulon import core, io\n"
   ]
  },
  {
   "cell_type": "code",
   "execution_count": 3,
   "metadata": {},
   "outputs": [],
   "source": [
    "ica_data = io.load_json_model('/home/saugat/Desktop/StaphPrecise2/docker_run/processed_data/saureus.json.gz')"
   ]
  },
  {
   "cell_type": "code",
   "execution_count": 4,
   "metadata": {},
   "outputs": [],
   "source": [
    "lt_dict = {}\n",
    "for rs in SeqIO.parse('/home/saugat/Desktop/Reference/genome/TCH1516_full.gb', 'genbank'):\n",
    "    for feat in rs.features:\n",
    "        if feat.type == \"CDS\":\n",
    "            lt_dict.update({feat.qualifiers['locus_tag'][0]: feat.qualifiers['product'][0]})"
   ]
  },
  {
   "cell_type": "code",
   "execution_count": 5,
   "metadata": {},
   "outputs": [
    {
     "data": {
      "text/plain": [
       "(7277, 17)"
      ]
     },
     "execution_count": 5,
     "metadata": {},
     "output_type": "execute_result"
    }
   ],
   "source": [
    "all_nodes = pd.read_csv('/home/saugat/Desktop/project_cc8/FinalAnalysis/data/dbgwas/dbgwas_output/textualOutput/all_comps_nodes_info.tsv',\n",
    "                        sep='\\t')\n",
    "all_nodes.reset_index(inplace=True)\n",
    "all_nodes.drop('Annotations(sep=~~~)', inplace=True, axis=1)\n",
    "all_nodes.columns = ['CompId', 'NodeId', 'AlleleFreq', 'Pheno0Count',\n",
    "       'Pheno0TotalCount', 'Pheno1Count', 'Pheno1TotalCount', 'NACount',\n",
    "       'NATotalCount', 'Significant?', 'p-value', 'q-Value', 'EstEffect',\n",
    "       'WaldStat', 'Sequence', 'SequenceLength', 'Annotations(sep=~~~)']\n",
    "all_nodes.head()\n",
    "all_nodes.shape"
   ]
  },
  {
   "cell_type": "code",
   "execution_count": 6,
   "metadata": {},
   "outputs": [
    {
     "data": {
      "text/plain": [
       "(691, 18)"
      ]
     },
     "execution_count": 6,
     "metadata": {},
     "output_type": "execute_result"
    }
   ],
   "source": [
    "sig_nodes = all_nodes[all_nodes['Significant?'] == 'Yes'].reset_index()\n",
    "sig_nodes.loc[:, 'Annotations(sep=~~~)'] = sig_nodes['Annotations(sep=~~~)'].fillna(\"No Annotation\")\n",
    "sig_nodes.shape"
   ]
  },
  {
   "cell_type": "code",
   "execution_count": 7,
   "metadata": {},
   "outputs": [],
   "source": [
    "all_nodes = all_nodes.dropna(subset=['Annotations(sep=~~~)'])"
   ]
  },
  {
   "cell_type": "code",
   "execution_count": 8,
   "metadata": {},
   "outputs": [
    {
     "data": {
      "text/html": [
       "<div>\n",
       "<style scoped>\n",
       "    .dataframe tbody tr th:only-of-type {\n",
       "        vertical-align: middle;\n",
       "    }\n",
       "\n",
       "    .dataframe tbody tr th {\n",
       "        vertical-align: top;\n",
       "    }\n",
       "\n",
       "    .dataframe thead th {\n",
       "        text-align: right;\n",
       "    }\n",
       "</style>\n",
       "<table border=\"1\" class=\"dataframe\">\n",
       "  <thead>\n",
       "    <tr style=\"text-align: right;\">\n",
       "      <th></th>\n",
       "      <th>CompId</th>\n",
       "      <th>NodeId</th>\n",
       "      <th>AlleleFreq</th>\n",
       "      <th>Pheno0Count</th>\n",
       "      <th>Pheno0TotalCount</th>\n",
       "      <th>Pheno1Count</th>\n",
       "      <th>Pheno1TotalCount</th>\n",
       "      <th>NACount</th>\n",
       "      <th>NATotalCount</th>\n",
       "      <th>Significant?</th>\n",
       "      <th>p-value</th>\n",
       "      <th>q-Value</th>\n",
       "      <th>EstEffect</th>\n",
       "      <th>WaldStat</th>\n",
       "      <th>Sequence</th>\n",
       "      <th>SequenceLength</th>\n",
       "      <th>Annotations(sep=~~~)</th>\n",
       "    </tr>\n",
       "  </thead>\n",
       "  <tbody>\n",
       "    <tr>\n",
       "      <th>1999</th>\n",
       "      <td>13</td>\n",
       "      <td>n255318</td>\n",
       "      <td>2029</td>\n",
       "      <td>588</td>\n",
       "      <td>589</td>\n",
       "      <td>1441</td>\n",
       "      <td>1441</td>\n",
       "      <td>0</td>\n",
       "      <td>0</td>\n",
       "      <td>No</td>\n",
       "      <td>NaN</td>\n",
       "      <td>NaN</td>\n",
       "      <td>NaN</td>\n",
       "      <td>NaN</td>\n",
       "      <td>TTTTTATGTTTTGTCTAGAAATTAAATAAATCATTAAATGATTCGG...</td>\n",
       "      <td>55</td>\n",
       "      <td>USA300HOU_RS03105;DBGWAS_general_tag=dihydroli...</td>\n",
       "    </tr>\n",
       "  </tbody>\n",
       "</table>\n",
       "</div>"
      ],
      "text/plain": [
       "      CompId   NodeId  AlleleFreq  Pheno0Count  Pheno0TotalCount  Pheno1Count  \\\n",
       "1999      13  n255318        2029          588               589         1441   \n",
       "\n",
       "      Pheno1TotalCount  NACount  NATotalCount Significant?  p-value  q-Value  \\\n",
       "1999              1441        0             0           No      NaN      NaN   \n",
       "\n",
       "      EstEffect  WaldStat                                           Sequence  \\\n",
       "1999        NaN       NaN  TTTTTATGTTTTGTCTAGAAATTAAATAAATCATTAAATGATTCGG...   \n",
       "\n",
       "      SequenceLength                               Annotations(sep=~~~)  \n",
       "1999              55  USA300HOU_RS03105;DBGWAS_general_tag=dihydroli...  "
      ]
     },
     "execution_count": 8,
     "metadata": {},
     "output_type": "execute_result"
    }
   ],
   "source": [
    "all_nodes[all_nodes['Annotations(sep=~~~)'].str.contains('SAOUHSC_00581')]"
   ]
  },
  {
   "cell_type": "code",
   "execution_count": 9,
   "metadata": {},
   "outputs": [],
   "source": [
    "#gff file\n",
    "gff = pd.read_csv('/home/saugat/Desktop/Reference/genome/TCH1516.gff', sep='\\t', header=None)\n",
    "\n",
    "starts = gff[3].values\n",
    "ends = gff[4].values"
   ]
  },
  {
   "cell_type": "markdown",
   "metadata": {},
   "source": [
    "# Get the mutations in CDS"
   ]
  },
  {
   "cell_type": "code",
   "execution_count": 10,
   "metadata": {},
   "outputs": [],
   "source": [
    "def parse_line(line, tag='USA300'):\n",
    "    # cds mutants in USA300 strain\n",
    "    parsed =  '|'.join([i for i in line.split(';') if tag in i])\n",
    "    return parsed.split('~~~')[-1]\n",
    "\n",
    "sig_nodes['tch_cds'] = np.where([sig_nodes['Annotations(sep=~~~)'].str.contains('USA300HOU')],\n",
    "        sig_nodes['Annotations(sep=~~~)'].apply(parse_line, args=('USA300',)),\n",
    "                            'Not Found')[0]\n",
    "\n",
    "sig_nodes['nctc_cds'] = np.where([sig_nodes['Annotations(sep=~~~)'].str.contains('USA300HOU')],\n",
    "        sig_nodes['Annotations(sep=~~~)'].apply(parse_line, args=('SAOUHSC',)),\n",
    "                            'Not Found')[0]"
   ]
  },
  {
   "cell_type": "code",
   "execution_count": 11,
   "metadata": {},
   "outputs": [
    {
     "ename": "FileNotFoundError",
     "evalue": "[Errno 2] No such file or directory: 'data/scratch_data/tch_cds_mutants.fa'",
     "output_type": "error",
     "traceback": [
      "\u001b[0;31m---------------------------------------------------------------------------\u001b[0m",
      "\u001b[0;31mFileNotFoundError\u001b[0m                         Traceback (most recent call last)",
      "\u001b[0;32m<ipython-input-11-1be3526185b1>\u001b[0m in \u001b[0;36m<module>\u001b[0;34m\u001b[0m\n\u001b[1;32m     17\u001b[0m write_mutant_cds('/home/saugat/Desktop/Reference/genome/TCH1516_full.gb',\n\u001b[1;32m     18\u001b[0m                 \u001b[0;34m'data/scratch_data/tch_cds_mutants.fa'\u001b[0m\u001b[0;34m,\u001b[0m\u001b[0;34m\u001b[0m\u001b[0;34m\u001b[0m\u001b[0m\n\u001b[0;32m---> 19\u001b[0;31m                 sig_nodes.tch_cds.values)\n\u001b[0m\u001b[1;32m     20\u001b[0m \u001b[0;34m\u001b[0m\u001b[0m\n\u001b[1;32m     21\u001b[0m write_mutant_cds('/home/saugat/Desktop/Reference/genome/NCTC_8325.gbk',\n",
      "\u001b[0;32m<ipython-input-11-1be3526185b1>\u001b[0m in \u001b[0;36mwrite_mutant_cds\u001b[0;34m(genbank, faout, gene_list)\u001b[0m\n\u001b[1;32m      1\u001b[0m \u001b[0;31m# next get the sequence from both strains and assign mutations\u001b[0m\u001b[0;34m\u001b[0m\u001b[0;34m\u001b[0m\u001b[0;34m\u001b[0m\u001b[0m\n\u001b[1;32m      2\u001b[0m \u001b[0;32mdef\u001b[0m \u001b[0mwrite_mutant_cds\u001b[0m\u001b[0;34m(\u001b[0m\u001b[0mgenbank\u001b[0m\u001b[0;34m,\u001b[0m \u001b[0mfaout\u001b[0m\u001b[0;34m,\u001b[0m \u001b[0mgene_list\u001b[0m\u001b[0;34m)\u001b[0m\u001b[0;34m:\u001b[0m\u001b[0;34m\u001b[0m\u001b[0;34m\u001b[0m\u001b[0m\n\u001b[0;32m----> 3\u001b[0;31m     \u001b[0;32mwith\u001b[0m \u001b[0mopen\u001b[0m\u001b[0;34m(\u001b[0m\u001b[0mfaout\u001b[0m\u001b[0;34m,\u001b[0m \u001b[0;34m'w'\u001b[0m\u001b[0;34m)\u001b[0m \u001b[0;32mas\u001b[0m \u001b[0mfout\u001b[0m\u001b[0;34m:\u001b[0m\u001b[0;34m\u001b[0m\u001b[0;34m\u001b[0m\u001b[0m\n\u001b[0m\u001b[1;32m      4\u001b[0m         \u001b[0;32mfor\u001b[0m \u001b[0mrefseq\u001b[0m \u001b[0;32min\u001b[0m \u001b[0mSeqIO\u001b[0m\u001b[0;34m.\u001b[0m\u001b[0mparse\u001b[0m\u001b[0;34m(\u001b[0m\u001b[0mgenbank\u001b[0m\u001b[0;34m,\u001b[0m \u001b[0;34m'genbank'\u001b[0m\u001b[0;34m)\u001b[0m\u001b[0;34m:\u001b[0m\u001b[0;34m\u001b[0m\u001b[0;34m\u001b[0m\u001b[0m\n\u001b[1;32m      5\u001b[0m             \u001b[0;32mfor\u001b[0m \u001b[0mfeats\u001b[0m \u001b[0;32min\u001b[0m \u001b[0mrefseq\u001b[0m\u001b[0;34m.\u001b[0m\u001b[0mfeatures\u001b[0m\u001b[0;34m:\u001b[0m\u001b[0;34m\u001b[0m\u001b[0;34m\u001b[0m\u001b[0m\n",
      "\u001b[0;31mFileNotFoundError\u001b[0m: [Errno 2] No such file or directory: 'data/scratch_data/tch_cds_mutants.fa'"
     ]
    }
   ],
   "source": [
    "# next get the sequence from both strains and assign mutations\n",
    "def write_mutant_cds(genbank, faout, gene_list):\n",
    "    with open(faout, 'w') as fout:\n",
    "        for refseq in SeqIO.parse(genbank, 'genbank'):\n",
    "            for feats in refseq.features:\n",
    "                try:\n",
    "                    lt = feats.qualifiers['locus_tag'][0]\n",
    "                    product = feats.qualifiers['product'][0]\n",
    "                except KeyError:\n",
    "                    continue\n",
    "                if lt in gene_list:\n",
    "                    if 'translation' in feats.qualifiers:\n",
    "                        seq = feats.qualifiers['translation'][0]\n",
    "                    else:\n",
    "                        seq = feats.extract(refseq).seq.translate()\n",
    "                    fout.write(f'>{lt}|{product}\\n{seq}\\n')\n",
    "write_mutant_cds('/home/saugat/Desktop/Reference/genome/TCH1516_full.gb',\n",
    "                'data/scratch_data/tch_cds_mutants.fa',\n",
    "                sig_nodes.tch_cds.values)\n",
    "\n",
    "write_mutant_cds('/home/saugat/Desktop/Reference/genome/NCTC_8325.gbk',\n",
    "                'data/scratch_data/nctc_cds_mutants.fa',\n",
    "                sig_nodes.nctc_cds.values)"
   ]
  },
  {
   "cell_type": "code",
   "execution_count": 12,
   "metadata": {},
   "outputs": [
    {
     "ename": "FileNotFoundError",
     "evalue": "[Errno 2] No such file or directory: 'data/scratch_data/tch_cds_mutants.fa'",
     "output_type": "error",
     "traceback": [
      "\u001b[0;31m---------------------------------------------------------------------------\u001b[0m",
      "\u001b[0;31mFileNotFoundError\u001b[0m                         Traceback (most recent call last)",
      "\u001b[0;32m<ipython-input-12-6d045fa96760>\u001b[0m in \u001b[0;36m<module>\u001b[0;34m\u001b[0m\n\u001b[0;32m----> 1\u001b[0;31m \u001b[0mtch_ref\u001b[0m \u001b[0;34m=\u001b[0m \u001b[0mSeqIO\u001b[0m\u001b[0;34m.\u001b[0m\u001b[0mparse\u001b[0m\u001b[0;34m(\u001b[0m\u001b[0;34m'data/scratch_data/tch_cds_mutants.fa'\u001b[0m\u001b[0;34m,\u001b[0m \u001b[0;34m'fasta'\u001b[0m\u001b[0;34m)\u001b[0m\u001b[0;34m\u001b[0m\u001b[0;34m\u001b[0m\u001b[0m\n\u001b[0m",
      "\u001b[0;32m~/anaconda3/envs/rnseq/lib/python3.7/site-packages/Bio/SeqIO/__init__.py\u001b[0m in \u001b[0;36mparse\u001b[0;34m(handle, format, alphabet)\u001b[0m\n\u001b[1;32m    605\u001b[0m     \u001b[0miterator_generator\u001b[0m \u001b[0;34m=\u001b[0m \u001b[0m_FormatToIterator\u001b[0m\u001b[0;34m.\u001b[0m\u001b[0mget\u001b[0m\u001b[0;34m(\u001b[0m\u001b[0mformat\u001b[0m\u001b[0;34m)\u001b[0m\u001b[0;34m\u001b[0m\u001b[0;34m\u001b[0m\u001b[0m\n\u001b[1;32m    606\u001b[0m     \u001b[0;32mif\u001b[0m \u001b[0miterator_generator\u001b[0m\u001b[0;34m:\u001b[0m\u001b[0;34m\u001b[0m\u001b[0;34m\u001b[0m\u001b[0m\n\u001b[0;32m--> 607\u001b[0;31m         \u001b[0;32mreturn\u001b[0m \u001b[0miterator_generator\u001b[0m\u001b[0;34m(\u001b[0m\u001b[0mhandle\u001b[0m\u001b[0;34m)\u001b[0m\u001b[0;34m\u001b[0m\u001b[0;34m\u001b[0m\u001b[0m\n\u001b[0m\u001b[1;32m    608\u001b[0m     \u001b[0;32mif\u001b[0m \u001b[0mformat\u001b[0m \u001b[0;32min\u001b[0m \u001b[0mAlignIO\u001b[0m\u001b[0;34m.\u001b[0m\u001b[0m_FormatToIterator\u001b[0m\u001b[0;34m:\u001b[0m\u001b[0;34m\u001b[0m\u001b[0;34m\u001b[0m\u001b[0m\n\u001b[1;32m    609\u001b[0m         \u001b[0;31m# Use Bio.AlignIO to read in the alignments\u001b[0m\u001b[0;34m\u001b[0m\u001b[0;34m\u001b[0m\u001b[0;34m\u001b[0m\u001b[0m\n",
      "\u001b[0;32m~/anaconda3/envs/rnseq/lib/python3.7/site-packages/Bio/SeqIO/FastaIO.py\u001b[0m in \u001b[0;36m__init__\u001b[0;34m(self, source, alphabet, title2ids)\u001b[0m\n\u001b[1;32m    181\u001b[0m             \u001b[0;32mraise\u001b[0m \u001b[0mValueError\u001b[0m\u001b[0;34m(\u001b[0m\u001b[0;34m\"The alphabet argument is no longer supported\"\u001b[0m\u001b[0;34m)\u001b[0m\u001b[0;34m\u001b[0m\u001b[0;34m\u001b[0m\u001b[0m\n\u001b[1;32m    182\u001b[0m         \u001b[0mself\u001b[0m\u001b[0;34m.\u001b[0m\u001b[0mtitle2ids\u001b[0m \u001b[0;34m=\u001b[0m \u001b[0mtitle2ids\u001b[0m\u001b[0;34m\u001b[0m\u001b[0;34m\u001b[0m\u001b[0m\n\u001b[0;32m--> 183\u001b[0;31m         \u001b[0msuper\u001b[0m\u001b[0;34m(\u001b[0m\u001b[0;34m)\u001b[0m\u001b[0;34m.\u001b[0m\u001b[0m__init__\u001b[0m\u001b[0;34m(\u001b[0m\u001b[0msource\u001b[0m\u001b[0;34m,\u001b[0m \u001b[0mmode\u001b[0m\u001b[0;34m=\u001b[0m\u001b[0;34m\"t\"\u001b[0m\u001b[0;34m,\u001b[0m \u001b[0mfmt\u001b[0m\u001b[0;34m=\u001b[0m\u001b[0;34m\"Fasta\"\u001b[0m\u001b[0;34m)\u001b[0m\u001b[0;34m\u001b[0m\u001b[0;34m\u001b[0m\u001b[0m\n\u001b[0m\u001b[1;32m    184\u001b[0m \u001b[0;34m\u001b[0m\u001b[0m\n\u001b[1;32m    185\u001b[0m     \u001b[0;32mdef\u001b[0m \u001b[0mparse\u001b[0m\u001b[0;34m(\u001b[0m\u001b[0mself\u001b[0m\u001b[0;34m,\u001b[0m \u001b[0mhandle\u001b[0m\u001b[0;34m)\u001b[0m\u001b[0;34m:\u001b[0m\u001b[0;34m\u001b[0m\u001b[0;34m\u001b[0m\u001b[0m\n",
      "\u001b[0;32m~/anaconda3/envs/rnseq/lib/python3.7/site-packages/Bio/SeqIO/Interfaces.py\u001b[0m in \u001b[0;36m__init__\u001b[0;34m(self, source, alphabet, mode, fmt)\u001b[0m\n\u001b[1;32m     45\u001b[0m             \u001b[0;32mraise\u001b[0m \u001b[0mValueError\u001b[0m\u001b[0;34m(\u001b[0m\u001b[0;34m\"The alphabet argument is no longer supported\"\u001b[0m\u001b[0;34m)\u001b[0m\u001b[0;34m\u001b[0m\u001b[0;34m\u001b[0m\u001b[0m\n\u001b[1;32m     46\u001b[0m         \u001b[0;32mtry\u001b[0m\u001b[0;34m:\u001b[0m\u001b[0;34m\u001b[0m\u001b[0;34m\u001b[0m\u001b[0m\n\u001b[0;32m---> 47\u001b[0;31m             \u001b[0mself\u001b[0m\u001b[0;34m.\u001b[0m\u001b[0mstream\u001b[0m \u001b[0;34m=\u001b[0m \u001b[0mopen\u001b[0m\u001b[0;34m(\u001b[0m\u001b[0msource\u001b[0m\u001b[0;34m,\u001b[0m \u001b[0;34m\"r\"\u001b[0m \u001b[0;34m+\u001b[0m \u001b[0mmode\u001b[0m\u001b[0;34m)\u001b[0m\u001b[0;34m\u001b[0m\u001b[0;34m\u001b[0m\u001b[0m\n\u001b[0m\u001b[1;32m     48\u001b[0m             \u001b[0mself\u001b[0m\u001b[0;34m.\u001b[0m\u001b[0mshould_close_stream\u001b[0m \u001b[0;34m=\u001b[0m \u001b[0;32mTrue\u001b[0m\u001b[0;34m\u001b[0m\u001b[0;34m\u001b[0m\u001b[0m\n\u001b[1;32m     49\u001b[0m         \u001b[0;32mexcept\u001b[0m \u001b[0mTypeError\u001b[0m\u001b[0;34m:\u001b[0m  \u001b[0;31m# not a path, assume we received a stream\u001b[0m\u001b[0;34m\u001b[0m\u001b[0;34m\u001b[0m\u001b[0m\n",
      "\u001b[0;31mFileNotFoundError\u001b[0m: [Errno 2] No such file or directory: 'data/scratch_data/tch_cds_mutants.fa'"
     ]
    }
   ],
   "source": [
    "tch_ref = SeqIO.parse('data/scratch_data/tch_cds_mutants.fa', 'fasta')"
   ]
  },
  {
   "cell_type": "code",
   "execution_count": 13,
   "metadata": {},
   "outputs": [
    {
     "ename": "FileNotFoundError",
     "evalue": "[Errno 2] No such file or directory: 'data/scratch_data/nctc_cds_mutants.fa'",
     "output_type": "error",
     "traceback": [
      "\u001b[0;31m---------------------------------------------------------------------------\u001b[0m",
      "\u001b[0;31mFileNotFoundError\u001b[0m                         Traceback (most recent call last)",
      "\u001b[0;32m<ipython-input-13-61c210c17abb>\u001b[0m in \u001b[0;36m<module>\u001b[0;34m\u001b[0m\n\u001b[1;32m      9\u001b[0m     \u001b[0;32mreturn\u001b[0m \u001b[0mdiff\u001b[0m\u001b[0;34m\u001b[0m\u001b[0;34m\u001b[0m\u001b[0m\n\u001b[1;32m     10\u001b[0m \u001b[0;34m\u001b[0m\u001b[0m\n\u001b[0;32m---> 11\u001b[0;31m \u001b[0mnctc_ref\u001b[0m \u001b[0;34m=\u001b[0m \u001b[0mSeqIO\u001b[0m\u001b[0;34m.\u001b[0m\u001b[0mparse\u001b[0m\u001b[0;34m(\u001b[0m\u001b[0;34m'data/scratch_data/nctc_cds_mutants.fa'\u001b[0m\u001b[0;34m,\u001b[0m \u001b[0;34m'fasta'\u001b[0m\u001b[0;34m)\u001b[0m\u001b[0;34m\u001b[0m\u001b[0;34m\u001b[0m\u001b[0m\n\u001b[0m\u001b[1;32m     12\u001b[0m \u001b[0mtch_ref\u001b[0m \u001b[0;34m=\u001b[0m \u001b[0mSeqIO\u001b[0m\u001b[0;34m.\u001b[0m\u001b[0mparse\u001b[0m\u001b[0;34m(\u001b[0m\u001b[0;34m'data/scratch_data/tch_cds_mutants.fa'\u001b[0m\u001b[0;34m,\u001b[0m \u001b[0;34m'fasta'\u001b[0m\u001b[0;34m)\u001b[0m\u001b[0;34m\u001b[0m\u001b[0;34m\u001b[0m\u001b[0m\n\u001b[1;32m     13\u001b[0m \u001b[0;34m\u001b[0m\u001b[0m\n",
      "\u001b[0;32m~/anaconda3/envs/rnseq/lib/python3.7/site-packages/Bio/SeqIO/__init__.py\u001b[0m in \u001b[0;36mparse\u001b[0;34m(handle, format, alphabet)\u001b[0m\n\u001b[1;32m    605\u001b[0m     \u001b[0miterator_generator\u001b[0m \u001b[0;34m=\u001b[0m \u001b[0m_FormatToIterator\u001b[0m\u001b[0;34m.\u001b[0m\u001b[0mget\u001b[0m\u001b[0;34m(\u001b[0m\u001b[0mformat\u001b[0m\u001b[0;34m)\u001b[0m\u001b[0;34m\u001b[0m\u001b[0;34m\u001b[0m\u001b[0m\n\u001b[1;32m    606\u001b[0m     \u001b[0;32mif\u001b[0m \u001b[0miterator_generator\u001b[0m\u001b[0;34m:\u001b[0m\u001b[0;34m\u001b[0m\u001b[0;34m\u001b[0m\u001b[0m\n\u001b[0;32m--> 607\u001b[0;31m         \u001b[0;32mreturn\u001b[0m \u001b[0miterator_generator\u001b[0m\u001b[0;34m(\u001b[0m\u001b[0mhandle\u001b[0m\u001b[0;34m)\u001b[0m\u001b[0;34m\u001b[0m\u001b[0;34m\u001b[0m\u001b[0m\n\u001b[0m\u001b[1;32m    608\u001b[0m     \u001b[0;32mif\u001b[0m \u001b[0mformat\u001b[0m \u001b[0;32min\u001b[0m \u001b[0mAlignIO\u001b[0m\u001b[0;34m.\u001b[0m\u001b[0m_FormatToIterator\u001b[0m\u001b[0;34m:\u001b[0m\u001b[0;34m\u001b[0m\u001b[0;34m\u001b[0m\u001b[0m\n\u001b[1;32m    609\u001b[0m         \u001b[0;31m# Use Bio.AlignIO to read in the alignments\u001b[0m\u001b[0;34m\u001b[0m\u001b[0;34m\u001b[0m\u001b[0;34m\u001b[0m\u001b[0m\n",
      "\u001b[0;32m~/anaconda3/envs/rnseq/lib/python3.7/site-packages/Bio/SeqIO/FastaIO.py\u001b[0m in \u001b[0;36m__init__\u001b[0;34m(self, source, alphabet, title2ids)\u001b[0m\n\u001b[1;32m    181\u001b[0m             \u001b[0;32mraise\u001b[0m \u001b[0mValueError\u001b[0m\u001b[0;34m(\u001b[0m\u001b[0;34m\"The alphabet argument is no longer supported\"\u001b[0m\u001b[0;34m)\u001b[0m\u001b[0;34m\u001b[0m\u001b[0;34m\u001b[0m\u001b[0m\n\u001b[1;32m    182\u001b[0m         \u001b[0mself\u001b[0m\u001b[0;34m.\u001b[0m\u001b[0mtitle2ids\u001b[0m \u001b[0;34m=\u001b[0m \u001b[0mtitle2ids\u001b[0m\u001b[0;34m\u001b[0m\u001b[0;34m\u001b[0m\u001b[0m\n\u001b[0;32m--> 183\u001b[0;31m         \u001b[0msuper\u001b[0m\u001b[0;34m(\u001b[0m\u001b[0;34m)\u001b[0m\u001b[0;34m.\u001b[0m\u001b[0m__init__\u001b[0m\u001b[0;34m(\u001b[0m\u001b[0msource\u001b[0m\u001b[0;34m,\u001b[0m \u001b[0mmode\u001b[0m\u001b[0;34m=\u001b[0m\u001b[0;34m\"t\"\u001b[0m\u001b[0;34m,\u001b[0m \u001b[0mfmt\u001b[0m\u001b[0;34m=\u001b[0m\u001b[0;34m\"Fasta\"\u001b[0m\u001b[0;34m)\u001b[0m\u001b[0;34m\u001b[0m\u001b[0;34m\u001b[0m\u001b[0m\n\u001b[0m\u001b[1;32m    184\u001b[0m \u001b[0;34m\u001b[0m\u001b[0m\n\u001b[1;32m    185\u001b[0m     \u001b[0;32mdef\u001b[0m \u001b[0mparse\u001b[0m\u001b[0;34m(\u001b[0m\u001b[0mself\u001b[0m\u001b[0;34m,\u001b[0m \u001b[0mhandle\u001b[0m\u001b[0;34m)\u001b[0m\u001b[0;34m:\u001b[0m\u001b[0;34m\u001b[0m\u001b[0;34m\u001b[0m\u001b[0m\n",
      "\u001b[0;32m~/anaconda3/envs/rnseq/lib/python3.7/site-packages/Bio/SeqIO/Interfaces.py\u001b[0m in \u001b[0;36m__init__\u001b[0;34m(self, source, alphabet, mode, fmt)\u001b[0m\n\u001b[1;32m     45\u001b[0m             \u001b[0;32mraise\u001b[0m \u001b[0mValueError\u001b[0m\u001b[0;34m(\u001b[0m\u001b[0;34m\"The alphabet argument is no longer supported\"\u001b[0m\u001b[0;34m)\u001b[0m\u001b[0;34m\u001b[0m\u001b[0;34m\u001b[0m\u001b[0m\n\u001b[1;32m     46\u001b[0m         \u001b[0;32mtry\u001b[0m\u001b[0;34m:\u001b[0m\u001b[0;34m\u001b[0m\u001b[0;34m\u001b[0m\u001b[0m\n\u001b[0;32m---> 47\u001b[0;31m             \u001b[0mself\u001b[0m\u001b[0;34m.\u001b[0m\u001b[0mstream\u001b[0m \u001b[0;34m=\u001b[0m \u001b[0mopen\u001b[0m\u001b[0;34m(\u001b[0m\u001b[0msource\u001b[0m\u001b[0;34m,\u001b[0m \u001b[0;34m\"r\"\u001b[0m \u001b[0;34m+\u001b[0m \u001b[0mmode\u001b[0m\u001b[0;34m)\u001b[0m\u001b[0;34m\u001b[0m\u001b[0;34m\u001b[0m\u001b[0m\n\u001b[0m\u001b[1;32m     48\u001b[0m             \u001b[0mself\u001b[0m\u001b[0;34m.\u001b[0m\u001b[0mshould_close_stream\u001b[0m \u001b[0;34m=\u001b[0m \u001b[0;32mTrue\u001b[0m\u001b[0;34m\u001b[0m\u001b[0;34m\u001b[0m\u001b[0m\n\u001b[1;32m     49\u001b[0m         \u001b[0;32mexcept\u001b[0m \u001b[0mTypeError\u001b[0m\u001b[0;34m:\u001b[0m  \u001b[0;31m# not a path, assume we received a stream\u001b[0m\u001b[0;34m\u001b[0m\u001b[0;34m\u001b[0m\u001b[0m\n",
      "\u001b[0;31mFileNotFoundError\u001b[0m: [Errno 2] No such file or directory: 'data/scratch_data/nctc_cds_mutants.fa'"
     ]
    }
   ],
   "source": [
    "def diff_seq(seq1, seq2):\n",
    "    if len(seq1) != len(seq2):\n",
    "        return 'Different sequence lengths'\n",
    "    \n",
    "    diff = []\n",
    "    for i, aa in enumerate(seq1):\n",
    "        if seq2[i] != aa:\n",
    "            diff.append(f'{seq2[i]}{i}{aa}')\n",
    "    return diff\n",
    "\n",
    "nctc_ref = SeqIO.parse('data/scratch_data/nctc_cds_mutants.fa', 'fasta')\n",
    "tch_ref = SeqIO.parse('data/scratch_data/tch_cds_mutants.fa', 'fasta')\n",
    "\n",
    "nctc_seq = dict([(seq.description, str(seq.seq)[:-1]) for seq in nctc_ref]) # -1 remove '*' for stop\n",
    "tch_seq = dict([(seq.description, str(seq.seq)) for seq in tch_ref])"
   ]
  },
  {
   "cell_type": "code",
   "execution_count": 307,
   "metadata": {},
   "outputs": [],
   "source": [
    "fpr_seq = \"\"\"MLNYNHNQIEKKWQDYWDENKTFKTNDNLGQKKFYALDMFPYPS\n",
    "                     GAGLHVGHPEGYTATDIISRYKRMQGYNVLHPMGWDAFGLPAEQYALDTGNDPREFTK\n",
    "                     KNIQTFKRQIKELGFSYDWDREVNTTDPEYYKWTQWIFIQLYNKGLAYVDEVAVNWCP\n",
    "                     ALGTVLSNEEVIDGVSERGGHPVYRKPMKQWVLKITEYADQLLADLDDLDWPESLKDM\n",
    "                     QRNWIGRSEGAKVSFDVDNTEGKVEVFTTRPDTIYGASFLVLSPEHALVNSITTDEYK\n",
    "                     EKVKAYQTEASKKSDLERTDLAKDKSGVFTGAYATNPLSGEKVQIWIADYVLSTYGTG\n",
    "                     AIMAVPAHDDRDYEFAKKFDLPIIEVIEGGNVEEAAYTGEGKHINSGELDGLENEAAI\n",
    "                     TKAIQLLEQKGAGEKKVNYKLRDWLFSRQRYWGEPIPVIHWEDGTMTTVPEEELPLLL\n",
    "                     PETDEIKPSGTGESPLANIDSFVNVVDEKTGMKGRRETNTMPQWAGSCWYYLRYIDPK\n",
    "                     NENMLADPEKLKHWLPVDLYIGGVEHAVLHLLYARFWHKVLYDLAIVPTKEPFQKLFN\n",
    "                     QGMILGEGNEKMSKSKGNVINPDDIVQSHGADTLRLYEMFMGPLDAAIAWSEKGLDGS\n",
    "                     RRFLDRVWRLMVNEDGTLSSKIVTTNNKSLDKVYNQTVKKVTEDFETLGFNTAISQLM\n",
    "                     VFINECYKVDEVYKPYIEGFVKMLAPIAPHIGEELWSKLGHEESITYQPWPTYDEALL\n",
    "                     VDDEVEIVVQVNGKLRAKIKIAKDTSKEEMQEIALSNDNVKASIEGKDIMKVIAVPQK\n",
    "                     LVNIVAK\"\"\"\n",
    "fpr_seq = fpr_seq.translate(str.maketrans('', '', ' \\n\\t\\r'))"
   ]
  },
  {
   "cell_type": "code",
   "execution_count": 14,
   "metadata": {},
   "outputs": [
    {
     "ename": "NameError",
     "evalue": "name 'nctc_seq' is not defined",
     "output_type": "error",
     "traceback": [
      "\u001b[0;31m---------------------------------------------------------------------------\u001b[0m",
      "\u001b[0;31mNameError\u001b[0m                                 Traceback (most recent call last)",
      "\u001b[0;32m<ipython-input-14-f74b59f8309e>\u001b[0m in \u001b[0;36m<module>\u001b[0;34m\u001b[0m\n\u001b[1;32m      1\u001b[0m \u001b[0;32mfor\u001b[0m \u001b[0midx\u001b[0m\u001b[0;34m,\u001b[0m \u001b[0mrow\u001b[0m \u001b[0;32min\u001b[0m \u001b[0msig_nodes\u001b[0m\u001b[0;34m[\u001b[0m\u001b[0msig_nodes\u001b[0m\u001b[0;34m.\u001b[0m\u001b[0mtch_cds\u001b[0m \u001b[0;34m!=\u001b[0m \u001b[0;34m'Not Found'\u001b[0m\u001b[0;34m]\u001b[0m\u001b[0;34m.\u001b[0m\u001b[0miterrows\u001b[0m\u001b[0;34m(\u001b[0m\u001b[0;34m)\u001b[0m\u001b[0;34m:\u001b[0m\u001b[0;34m\u001b[0m\u001b[0;34m\u001b[0m\u001b[0m\n\u001b[0;32m----> 2\u001b[0;31m     \u001b[0mnname\u001b[0m \u001b[0;34m=\u001b[0m \u001b[0;34m[\u001b[0m\u001b[0mi\u001b[0m \u001b[0;32mfor\u001b[0m \u001b[0mi\u001b[0m \u001b[0;32min\u001b[0m \u001b[0mnctc_seq\u001b[0m \u001b[0;32mif\u001b[0m \u001b[0mrow\u001b[0m\u001b[0;34m.\u001b[0m\u001b[0mnctc_cds\u001b[0m \u001b[0;32min\u001b[0m \u001b[0mi\u001b[0m\u001b[0;34m]\u001b[0m\u001b[0;34m\u001b[0m\u001b[0;34m\u001b[0m\u001b[0m\n\u001b[0m\u001b[1;32m      3\u001b[0m     \u001b[0mtname\u001b[0m \u001b[0;34m=\u001b[0m \u001b[0;34m[\u001b[0m\u001b[0mi\u001b[0m \u001b[0;32mfor\u001b[0m \u001b[0mi\u001b[0m \u001b[0;32min\u001b[0m \u001b[0mtch_seq\u001b[0m \u001b[0;32mif\u001b[0m \u001b[0mrow\u001b[0m\u001b[0;34m.\u001b[0m\u001b[0mtch_cds\u001b[0m \u001b[0;32min\u001b[0m \u001b[0mi\u001b[0m\u001b[0;34m]\u001b[0m\u001b[0;34m\u001b[0m\u001b[0;34m\u001b[0m\u001b[0m\n\u001b[1;32m      4\u001b[0m     \u001b[0;32mif\u001b[0m \u001b[0mlen\u001b[0m\u001b[0;34m(\u001b[0m\u001b[0mnname\u001b[0m\u001b[0;34m)\u001b[0m \u001b[0;34m>\u001b[0m \u001b[0;36m1\u001b[0m \u001b[0;32mor\u001b[0m \u001b[0mlen\u001b[0m\u001b[0;34m(\u001b[0m\u001b[0mtname\u001b[0m\u001b[0;34m)\u001b[0m \u001b[0;34m>\u001b[0m \u001b[0;36m1\u001b[0m\u001b[0;34m:\u001b[0m\u001b[0;34m\u001b[0m\u001b[0;34m\u001b[0m\u001b[0m\n\u001b[1;32m      5\u001b[0m         \u001b[0;32mcontinue\u001b[0m\u001b[0;34m\u001b[0m\u001b[0;34m\u001b[0m\u001b[0m\n",
      "\u001b[0;31mNameError\u001b[0m: name 'nctc_seq' is not defined"
     ]
    }
   ],
   "source": [
    "for idx, row in sig_nodes[sig_nodes.tch_cds != 'Not Found'].iterrows():\n",
    "    nname = [i for i in nctc_seq if row.nctc_cds in i]\n",
    "    tname = [i for i in tch_seq if row.tch_cds in i]\n",
    "    if len(nname) > 1 or len(tname) > 1:\n",
    "        continue\n",
    "    diff = diff_seq(nctc_seq[nname[0]], tch_seq[tname[0]])\n",
    "    print(tname, nname, diff)"
   ]
  },
  {
   "cell_type": "code",
   "execution_count": 15,
   "metadata": {},
   "outputs": [
    {
     "ename": "NameError",
     "evalue": "name 'tch_seq' is not defined",
     "output_type": "error",
     "traceback": [
      "\u001b[0;31m---------------------------------------------------------------------------\u001b[0m",
      "\u001b[0;31mNameError\u001b[0m                                 Traceback (most recent call last)",
      "\u001b[0;32m<ipython-input-15-5f4933061737>\u001b[0m in \u001b[0;36m<module>\u001b[0;34m\u001b[0m\n\u001b[1;32m      4\u001b[0m     \u001b[0mimod\u001b[0m \u001b[0;34m=\u001b[0m \u001b[0mica_data\u001b[0m\u001b[0;34m.\u001b[0m\u001b[0mimodulons_with\u001b[0m\u001b[0;34m(\u001b[0m\u001b[0mi\u001b[0m\u001b[0;34m)\u001b[0m\u001b[0;34m\u001b[0m\u001b[0;34m\u001b[0m\u001b[0m\n\u001b[1;32m      5\u001b[0m     \u001b[0;32mif\u001b[0m \u001b[0mlen\u001b[0m\u001b[0;34m(\u001b[0m\u001b[0mimod\u001b[0m\u001b[0;34m)\u001b[0m \u001b[0;34m>\u001b[0m \u001b[0;36m0\u001b[0m\u001b[0;34m:\u001b[0m\u001b[0;34m\u001b[0m\u001b[0;34m\u001b[0m\u001b[0m\n\u001b[0;32m----> 6\u001b[0;31m         \u001b[0mprint\u001b[0m\u001b[0;34m(\u001b[0m\u001b[0;34m[\u001b[0m\u001b[0mj\u001b[0m \u001b[0;32mfor\u001b[0m \u001b[0mj\u001b[0m \u001b[0;32min\u001b[0m \u001b[0mtch_seq\u001b[0m \u001b[0;32mif\u001b[0m \u001b[0mi\u001b[0m \u001b[0;32min\u001b[0m \u001b[0mj\u001b[0m\u001b[0;34m]\u001b[0m\u001b[0;34m,\u001b[0m \u001b[0mimod\u001b[0m\u001b[0;34m)\u001b[0m\u001b[0;34m\u001b[0m\u001b[0;34m\u001b[0m\u001b[0m\n\u001b[0m",
      "\u001b[0;31mNameError\u001b[0m: name 'tch_seq' is not defined"
     ]
    }
   ],
   "source": [
    "for i in sig_nodes.tch_cds.unique():\n",
    "    if i == 'Not Found':\n",
    "        continue\n",
    "    imod = ica_data.imodulons_with(i)\n",
    "    if len(imod) > 0:\n",
    "        print([j for j in tch_seq if i in j], imod) "
   ]
  },
  {
   "cell_type": "code",
   "execution_count": 16,
   "metadata": {},
   "outputs": [],
   "source": [
    "inter_sig = sig_nodes[(sig_nodes['Annotations(sep=~~~)'].str.contains('intergenic'))\n",
    "         &(~sig_nodes.tch_cds.str.contains('USA300'))]\n",
    "\n",
    "def parse_inter(line, tag='TCH1516intergenic'):\n",
    "    if tag not in line:\n",
    "        return \n",
    "    try:\n",
    "        split = [i for i in line.split('~~~') if tag in i][0].split('_')[-1]\n",
    "    except IndexError:\n",
    "        split = line.split('_')\n",
    "    start, stop = split.split('-')\n",
    "    return int(start), int(stop)\n",
    "\n",
    "tch_inter = np.where(inter_sig['Annotations(sep=~~~)'].str.contains('TCH1516intergenic'),\n",
    "          inter_sig['Annotations(sep=~~~)'].apply(parse_inter, args=('TCH1516intergenic',)),\n",
    "          'Not Found')\n",
    "nctc_inter = np.where(inter_sig['Annotations(sep=~~~)'].str.contains('NCTC8325intergenic'),\n",
    "          inter_sig['Annotations(sep=~~~)'].apply(parse_inter, args=('NCTC8325intergenic',)),\n",
    "          'Not Found')\n",
    "tch_inter, nctc_inter = list(set(tch_inter)), list(set(nctc_inter))"
   ]
  },
  {
   "cell_type": "code",
   "execution_count": 17,
   "metadata": {},
   "outputs": [
    {
     "ename": "NameError",
     "evalue": "name 'assign_genes' is not defined",
     "output_type": "error",
     "traceback": [
      "\u001b[0;31m---------------------------------------------------------------------------\u001b[0m",
      "\u001b[0;31mNameError\u001b[0m                                 Traceback (most recent call last)",
      "\u001b[0;32m<ipython-input-17-1d462aeda66d>\u001b[0m in \u001b[0;36m<module>\u001b[0;34m\u001b[0m\n\u001b[0;32m----> 1\u001b[0;31m \u001b[0massign_genes\u001b[0m\u001b[0;34m(\u001b[0m\u001b[0;34m*\u001b[0m\u001b[0mtch_inter\u001b[0m\u001b[0;34m[\u001b[0m\u001b[0;36m0\u001b[0m\u001b[0;34m]\u001b[0m\u001b[0;34m)\u001b[0m\u001b[0;34m\u001b[0m\u001b[0;34m\u001b[0m\u001b[0m\n\u001b[0m",
      "\u001b[0;31mNameError\u001b[0m: name 'assign_genes' is not defined"
     ]
    }
   ],
   "source": [
    "assign_genes(*tch_inter[0])"
   ]
  },
  {
   "cell_type": "code",
   "execution_count": 18,
   "metadata": {},
   "outputs": [
    {
     "ename": "NameError",
     "evalue": "name 'assign_genes' is not defined",
     "output_type": "error",
     "traceback": [
      "\u001b[0;31m---------------------------------------------------------------------------\u001b[0m",
      "\u001b[0;31mNameError\u001b[0m                                 Traceback (most recent call last)",
      "\u001b[0;32m<ipython-input-18-2476f18f56f4>\u001b[0m in \u001b[0;36m<module>\u001b[0;34m\u001b[0m\n\u001b[0;32m----> 1\u001b[0;31m \u001b[0;34m[\u001b[0m\u001b[0massign_genes\u001b[0m\u001b[0;34m(\u001b[0m\u001b[0;34m*\u001b[0m\u001b[0mi\u001b[0m\u001b[0;34m)\u001b[0m \u001b[0;32mfor\u001b[0m \u001b[0mi\u001b[0m \u001b[0;32min\u001b[0m \u001b[0mtch_inter\u001b[0m \u001b[0;32mif\u001b[0m \u001b[0mi\u001b[0m \u001b[0;34m!=\u001b[0m \u001b[0;34m'Not Found'\u001b[0m\u001b[0;34m]\u001b[0m\u001b[0;34m\u001b[0m\u001b[0;34m\u001b[0m\u001b[0m\n\u001b[0m",
      "\u001b[0;32m<ipython-input-18-2476f18f56f4>\u001b[0m in \u001b[0;36m<listcomp>\u001b[0;34m(.0)\u001b[0m\n\u001b[0;32m----> 1\u001b[0;31m \u001b[0;34m[\u001b[0m\u001b[0massign_genes\u001b[0m\u001b[0;34m(\u001b[0m\u001b[0;34m*\u001b[0m\u001b[0mi\u001b[0m\u001b[0;34m)\u001b[0m \u001b[0;32mfor\u001b[0m \u001b[0mi\u001b[0m \u001b[0;32min\u001b[0m \u001b[0mtch_inter\u001b[0m \u001b[0;32mif\u001b[0m \u001b[0mi\u001b[0m \u001b[0;34m!=\u001b[0m \u001b[0;34m'Not Found'\u001b[0m\u001b[0;34m]\u001b[0m\u001b[0;34m\u001b[0m\u001b[0;34m\u001b[0m\u001b[0m\n\u001b[0m",
      "\u001b[0;31mNameError\u001b[0m: name 'assign_genes' is not defined"
     ]
    }
   ],
   "source": [
    "[assign_genes(*i) for i in tch_inter if i != 'Not Found']"
   ]
  },
  {
   "cell_type": "code",
   "execution_count": 19,
   "metadata": {},
   "outputs": [
    {
     "ename": "TypeError",
     "evalue": "assign_genes() missing 1 required positional argument: 'end'",
     "output_type": "error",
     "traceback": [
      "\u001b[0;31m---------------------------------------------------------------------------\u001b[0m",
      "\u001b[0;31mTypeError\u001b[0m                                 Traceback (most recent call last)",
      "\u001b[0;32m<ipython-input-19-673e4274fe09>\u001b[0m in \u001b[0;36m<module>\u001b[0;34m\u001b[0m\n\u001b[1;32m     39\u001b[0m          \u001b[0mget_tch\u001b[0m\u001b[0;34m(\u001b[0m\u001b[0msig_nodes\u001b[0m\u001b[0;34m[\u001b[0m\u001b[0;34m'Annotations(sep=~~~)'\u001b[0m\u001b[0;34m]\u001b[0m\u001b[0;34m)\u001b[0m\u001b[0;34m,\u001b[0m\u001b[0;34m\u001b[0m\u001b[0;34m\u001b[0m\u001b[0m\n\u001b[1;32m     40\u001b[0m          0)\n\u001b[0;32m---> 41\u001b[0;31m \u001b[0mintergenic_genes\u001b[0m \u001b[0;34m=\u001b[0m \u001b[0mlist\u001b[0m\u001b[0;34m(\u001b[0m\u001b[0mset\u001b[0m\u001b[0;34m(\u001b[0m\u001b[0mmap\u001b[0m\u001b[0;34m(\u001b[0m\u001b[0massign_genes\u001b[0m\u001b[0;34m,\u001b[0m \u001b[0mintergenic\u001b[0m\u001b[0;34m)\u001b[0m\u001b[0;34m)\u001b[0m\u001b[0;34m)\u001b[0m\u001b[0;34m\u001b[0m\u001b[0;34m\u001b[0m\u001b[0m\n\u001b[0m\u001b[1;32m     42\u001b[0m \u001b[0mintergenic_genes\u001b[0m\u001b[0;34m.\u001b[0m\u001b[0mremove\u001b[0m\u001b[0;34m(\u001b[0m\u001b[0;34m''\u001b[0m\u001b[0;34m)\u001b[0m\u001b[0;34m\u001b[0m\u001b[0;34m\u001b[0m\u001b[0m\n\u001b[1;32m     43\u001b[0m \u001b[0mintergenic_genes\u001b[0m\u001b[0;34m.\u001b[0m\u001b[0mremove\u001b[0m\u001b[0;34m(\u001b[0m\u001b[0;34m'No Match'\u001b[0m\u001b[0;34m)\u001b[0m\u001b[0;34m\u001b[0m\u001b[0;34m\u001b[0m\u001b[0m\n",
      "\u001b[0;31mTypeError\u001b[0m: assign_genes() missing 1 required positional argument: 'end'"
     ]
    }
   ],
   "source": [
    "def get_genes(annot, otype='gene_name'):\n",
    "    if type(annot) == int:\n",
    "        return 'No Match'\n",
    "    split = annot.split('tag=')\n",
    "    if otype == 'gene_name':\n",
    "        return split[-1]\n",
    "    return split[0].split(';')[0]\n",
    "    \n",
    "def assign_genes(start, end, otype='locus_tag', gff=gff):\n",
    "    \"\"\"for all intergenic region, find the upstream gene,\n",
    "    downstream gene and strand of each\"\"\"\n",
    "    name = ''\n",
    "#     if type(annot) == int:\n",
    "#         return 'No Match'\n",
    "#     start, end = annot.split('_')[-1].split('-')\n",
    "    loc = np.where(gff[4] == int(start))[0][0]\n",
    "    if gff.loc[loc, 6] == '-':\n",
    "        upstream = parse_descript(gff.loc[loc, 8], otype)\n",
    "        name += upstream\n",
    "    if gff.loc[loc + 1, 6] == '+':\n",
    "        downstream = parse_descript(gff.loc[loc + 1, 8], otype)\n",
    "        name += ' ' + downstream\n",
    "         \n",
    "    return name.lstrip()\n",
    "\n",
    "def parse_descript(descript, otype):\n",
    "    if otype == 'locus_tag':\n",
    "        split1, split2 = 0, 'gene_id'\n",
    "\n",
    "    elif otype == 'gene_name':\n",
    "        split1, split2 = -2, 'gene_name'\n",
    "    \n",
    "    return descript.split(';')[split1].split(split2)[-1].strip().replace('\\\"','')\n",
    "    \n",
    "def get_tch(annot):\n",
    "    return sig_nodes['Annotations(sep=~~~)'].str.split('~~~').apply(lambda x: x[0])\n",
    "\n",
    "intergenic = np.where(sig_nodes['Annotations(sep=~~~)'].str.contains('TCH1516intergenic'), \n",
    "         get_tch(sig_nodes['Annotations(sep=~~~)']),\n",
    "         0)\n",
    "intergenic_genes = list(set(map(assign_genes, intergenic)))\n",
    "intergenic_genes.remove('')\n",
    "intergenic_genes.remove('No Match')\n",
    "intergenic_genes"
   ]
  },
  {
   "cell_type": "markdown",
   "metadata": {},
   "source": [
    "# Compare the significant genes to pymodulon"
   ]
  },
  {
   "cell_type": "code",
   "execution_count": 20,
   "metadata": {},
   "outputs": [],
   "source": [
    "all_imods = []\n",
    "lts = []\n",
    "names = []\n",
    "for idx, row in sig_nodes[sig_nodes['Annotations(sep=~~~)'].str.contains('USA300HOU').fillna(False)].iterrows():\n",
    "    lt = [i.split(';')[0] for i in row['Annotations(sep=~~~)'].split('~~~') if 'USA300HOU' in i]\n",
    "    lt = [i.replace('_regulatory', '') for i in lt]\n",
    "    for locus_tag in lt:\n",
    "        try:\n",
    "            imod = ica_data.imodulons_with(locus_tag)\n",
    "            if locus_tag not in lts:\n",
    "                all_imods.extend(imod)\n",
    "                if len(imod) < 1:\n",
    "                    names.append(lt_dict[locus_tag])\n",
    "            if len(imod) > 0:\n",
    "                lts.append(locus_tag)\n",
    "        except ValueError:\n",
    "            continue"
   ]
  },
  {
   "cell_type": "code",
   "execution_count": 21,
   "metadata": {},
   "outputs": [
    {
     "name": "stdout",
     "output_type": "stream",
     "text": [
      "3597\n",
      "MKIGLASPEKIRSWSFGEVKKPETINYRTLKPEKDGLFCERIFGPTKDWECSCGKYKRVRYKGMVCDRCGVEVTKSKVRRERMGHIELAAPVSHIWYFKGIPSRMGLLLDMSPRALEEVIYFASYVVVDPGPTGLEKKTLLSEAEFRDYYDKYPGQFVAKMGAEGIKDLLEEIDLDEELKLLRDELESATGQRLTRAIKRLEVVESFRNSGNKPSWMILDVLPIIPPEIRPMVQLDGGRFATSDLNDLYRRVINRNNRLKRLLDLGAPGIIVQNEKRMLQEAVDALIDNGRRGRPVTGPGNRPLKSLSHMLKGKQGRFRQNLLGKRVDYSGRSVIAVGPSLKMYQCGLPKEMALELFKPFVMKELVQREIATNIKNAKSKIERMDDEVWDVLEEVIREHPVLLNRAPTLHRLGIQAFEPTLVEGRAIRLHPLVTTAYNADFDGDQMAVHVPLSKEAQAEARMLMLAAQNILNPKDGKPVVTPSQDMVLGNYYLTLERKDAVNTGAIFNNTNEVLKAYANGFVHLHTRIGVHASSFNNPTFTEEQNKKILATSVGKIIFNEIIPDSFAYINEPTQENLERKTPNRYFIDPTTLGEGGLKEYFENEELIEPFNKKFLGNIIAEVFNRFSITDTSMMLDRMKDLGFKFSSKAGITVGVADIVVLPDKQQILDEHEKLVDRITKQFNRGLITEEERYNAVVEIWTDAKDQIQGELMQSLDKTNPIFMMSDSGARGNASNFTQLAGMRGLMAAPSGKIIELPITSSFREGLTVLEYFISTHGARKGLADTALKTADSGYLTRRLVDVAQDVIVREEDCGTDRGLLVSDIKEGTEMIEPFIERIEGRYSKETIHHPETDEIIIRPDELITPEIAKKITDAGIEQMYIRSAFTCNARHGVCEKCYGKNLATGEKVEVGEAVGTIAAQSIGEPGTQLTMRTFHTGGVAGSDITQGLPRIQEIFEARNPKGQAVITEIEGVVEDIKLAKDRQQEIVVKGANETRSYLASGTSRIIVEIGQPVQRGEVLTEGSIEPKNYLSVAGLNATESYLLKEVQKVYRMQGVEIDDKHVEVMVRQMLRKVRIIEAGDTKLLPGSLVDIHNFTDANREAFKHRKRPATAKPVLLGITKASLETESFLSAASFQETTRVLTDAAIKGKRDDLLGLKENVIIGKLIPAGTGMRRYSDVKYEKTAKPVAEVESQTEVTE*\n",
      "3597\n",
      "MKIGLASPEKIRSWSFGEVKKPETINYRTLKPEKDGLFCERIFGPTKDWECSCGKYKRVRYKGMVCDRCGVEVTKSKVRRERMGHIELAAPVSHIWYFKGIPSRMGLLLDMSPRALEEVIYFASYVVVDPGPTGLEKKTLLSEAEFRDYYDKYPGQFVAKMGAEGIKDLLEEIDLDEELKLLRDELESATGQRLTRAIKRLEVVESFRNSGNKPSWMILDVLPIIPPEIRPMVQLDGGRFATSDLNDLYRRVINRNNRLKRLLDLGAPGIIVQNEKRMLQEAVDALIDNGRRGRPVTGPGNRPLKSLSHMLKGKQGRFRQNLLGKRVDYSGRSVIAVGPSLKMYQCGLPKEMALELFKPFVMKELVQREIATNIKNAKSKIERMDDEVWDVLEEVIREHPVLLNRAPTLHRLGIQAFEPTLVEGRAIRLHPLVTTAYNADFDGDQMAVHVPLSKEAQAEARMLMLAAQNILNPKDGKPVVTPSQDMVLGNYYLTLERKDAVNTGAIFNNTNEVLKAYANGFVHLHTRIGVHASSFNNPTFTEEQNKKILATSVGKIIFNEIIPDSFAYINEPTQENLERKTPNRYFIDPTTLGEGGLKEYFENEELIEPFNKKFLGNIIAEVFNRFSITDTSMMLDRMKDLGFKFSSKAGITVGVADIVVLPDKQQILDEHEKLVDRITKQFNRGLITEEERYNAVVEIWTDAKDQIQGELMQSLDKTNPIFMMSDSGARGNASNFTQLAGMRGLMAAPSGKIIELPITSSFREGLTVLEYFISTHGARKGLADTALKTADSGYLTRRLVDVAQDVIVREEDCGTDRGLLVSDIKEGTEMIEPFIERIEGRYSKETIHHPETDEIIIRPDELITPEIAKKITDAGIEQMYIRSAFTCNARHGVCEKCYGKNLATGEKVEVGEAVGTIAAQSIGEPGTQLTMRTFHTGGVAGSDITQGLPRIQEIFEARNPKGQAVITEIEGVVEDIKLAKDRQQEIVVKGANETRSYLASGTSRIIVEIGQPVQRGEVLTEGSIEPKNYLSVAGLNATESYLLKEVQKVYRMQGVEIDDKHVEVMVRQMLRKVRIIEAGDTKLLPGSLVDIHNFTDANREAFKHRKRPATAKPVLLGITKASLETESFLSAASFQETTRVLTDAAIKGKRDDLLGLKENVIIGKLIPAGTGMRRYSDVKYEKTAKPVAEVESQTEVTE*\n",
      "[\"DNA-directed RNA polymerase subunit beta'\"]\n"
     ]
    }
   ],
   "source": [
    "for refseq in SeqIO.parse('/home/saugat/Desktop/Reference/genome/TCH1516.gb', 'genbank'):\n",
    "    for feats in refseq.features:\n",
    "        try:\n",
    "            if 'USA300HOU_RS02855' in feats.qualifiers['locus_tag']:\n",
    "#                 print(feats)\n",
    "#                 print(feats.qualifiers['locus_tag'], feats.qualifiers['translation'])\n",
    "                print(len(feats.extract(refseq).seq))\n",
    "                print(feats.extract(refseq).seq.translate())\n",
    "                print(feats.qualifiers['product'])\n",
    "                break\n",
    "        except KeyError:\n",
    "            continue"
   ]
  },
  {
   "cell_type": "code",
   "execution_count": 22,
   "metadata": {},
   "outputs": [
    {
     "name": "stdout",
     "output_type": "stream",
     "text": [
      "1689\n",
      "MRSDMIKKGDHQAPARSLLHATGALKSPTDMNKPFVAICNSYIDIVPGHVHLRELADIAKEAIREAGAIPFEFNTIGVDDGIAMGHIGMRYSLPSREIIADAAETVINAHWFDGVFYIPNCDKITPGMILAAMRTNVPAIFCSGGPMKAGLSAHGKALTLSSMFEAVGAFKEGSISKEEFLDMEQNACPTCGSCAGMFTANSMNCLMEVLGLALPYNGTALAVSDQRREMIRQAAFKLVENIKNDLKPRDIVTREAIDDAFALDMAMGGSTNTVLHTLAIANEAGIDYDLERINAIAKRTPYLSKIAPSSSYSMHDVHEAGGVPAIINELMKKDGTLHPDRITVTGKTLRENNEGKEIKNFDVIHPLDAPYDAQGGLSILFGNIAPKGAVIKVGGVDPSIKTFTGKAICFNSHDEAVEAIDNRTVRAGHVVVIRYEGPKGGPGMPEMLAPTSSIVGRGLGKDVALITDGRFSGATRGIAVGHISPEAASGGPIALIEDGDEITIDLTNRTLNVNQPEDVLARRRESLTPFKAKVKTGYLARYTALVTSANTGGVMQVPENLI*\n"
     ]
    }
   ],
   "source": [
    "for refseq in SeqIO.parse('/home/saugat/Desktop/Reference/genome/NCTC_8325.gbk', 'genbank'):\n",
    "    for feats in refseq.features:\n",
    "        try:\n",
    "            if 'SAOUHSC_02281' in feats.qualifiers['locus_tag']:\n",
    "#                 print(feats)\n",
    "#                 print(feats.qualifiers['locus_tag'], feats.qualifiers['translation'])\n",
    "                print(len(feats.extract(refseq).seq))\n",
    "                print(feats.extract(refseq).seq.translate())\n",
    "                break\n",
    "        except KeyError:\n",
    "            continue"
   ]
  },
  {
   "cell_type": "code",
   "execution_count": 23,
   "metadata": {
    "scrolled": false
   },
   "outputs": [
    {
     "name": "stdout",
     "output_type": "stream",
     "text": [
      "2415\n"
     ]
    }
   ],
   "source": [
    "for rs in SeqIO.parse('/home/saugat/Desktop/Reference/genome/TCH1516_full.gb', 'genbank'):\n",
    "    for feats in rs.features:\n",
    "        if feats.type == 'CDS':\n",
    "            if feats.qualifiers['locus_tag'][0] == 'USA300HOU_RS09335':\n",
    "                seq1 = feats.qualifiers['translation'][0]\n",
    "                seq2 = len(feats.extract(rs).seq)\n",
    "                print(seq2)\n",
    "#                 seq1 = rs.seq[feats.location.start: feats.location.end]\n",
    "#                 print(feats)"
   ]
  },
  {
   "cell_type": "code",
   "execution_count": 24,
   "metadata": {},
   "outputs": [],
   "source": [
    "test_tch = 'MLNYNHNQIEKKWQDYWDENKTFKTNDNLGQKKFYALDMFPYPSGAGLHVGHPEGYTATDIISRYKRMQGYNVLHPMGWDAFGLPAEQYALDTGNDPREFTKKNIQTFKRQIKELGFSYDWDREVNTTDPEYYKWTQWIFIQLYNKGLAYVDEVAVNWCPALGTVLSNEEVIDGVSERGGHPVYRKPMKQWVLKITEYADQLLADLDDLDWPESLKDMQRNWIGRSEGAKVSFDVDNTEGKVEVFTTRPDTIYGASFLVLSPEHALVNSITTDEYKEKVKAYQTEASKKSDLERTDLAKDKSGVFTGAYATNPLSGEKVQIWIADYVLSTYGTGAIMAVPAHDDRDYEFAKKFDLPIIEVIEGGNVEEAAYTGEGKHINSGELDGLENEAAITKAIQLLEQKGAGEKKVNYKLRDWLFSRQRYWGEPIPVIHWEDGTMTTVPEEELPLLLPETDEIKPSGTGESPLANIDSFVNVVDEKTGMKGRRETNTMPQWAGSCWYYLRYIDPKNENMLADPEKLKHWLPVDLYIGGVEHAVLHLLYARFWHKVLYDLAIVPTKEPFQKLFNQGMILGEGNEKMSKSKGNVINPDDIVQSHGADTLRLYEMFMGPLDAAIAWSEKGLDGSRRFLDRVWRLMVNEDGTLSSKIVTTNNKSLDKVYNQTVKKVTEDFETLGFNTAISQLMVFINECYKVDEVYKPYIEGFVKMLAPIAPHIGEELWSKLGHEESITYQPWPTYDEALLVDDEVEIVVQVNGKLRAKIKIAKDTSKEEMQEIALSNDNVKASIEGKDIMKVIAVPQKLVNIVAK'"
   ]
  },
  {
   "cell_type": "code",
   "execution_count": 26,
   "metadata": {},
   "outputs": [
    {
     "ename": "AttributeError",
     "evalue": "'int' object has no attribute 'reverse_complement'",
     "output_type": "error",
     "traceback": [
      "\u001b[0;31m---------------------------------------------------------------------------\u001b[0m",
      "\u001b[0;31mAttributeError\u001b[0m                            Traceback (most recent call last)",
      "\u001b[0;32m<ipython-input-26-50c57c31cb43>\u001b[0m in \u001b[0;36m<module>\u001b[0;34m\u001b[0m\n\u001b[0;32m----> 1\u001b[0;31m \u001b[0mseq2_t\u001b[0m \u001b[0;34m=\u001b[0m \u001b[0mstr\u001b[0m\u001b[0;34m(\u001b[0m\u001b[0mseq2\u001b[0m\u001b[0;34m.\u001b[0m\u001b[0mreverse_complement\u001b[0m\u001b[0;34m(\u001b[0m\u001b[0;34m)\u001b[0m\u001b[0;34m.\u001b[0m\u001b[0mtranslate\u001b[0m\u001b[0;34m(\u001b[0m\u001b[0;34m)\u001b[0m\u001b[0;34m)\u001b[0m\u001b[0;34m\u001b[0m\u001b[0;34m\u001b[0m\u001b[0m\n\u001b[0m",
      "\u001b[0;31mAttributeError\u001b[0m: 'int' object has no attribute 'reverse_complement'"
     ]
    }
   ],
   "source": [
    "seq2_t = str(seq2.reverse_complement().translate())"
   ]
  },
  {
   "cell_type": "code",
   "execution_count": 27,
   "metadata": {},
   "outputs": [
    {
     "ename": "NameError",
     "evalue": "name 'seq2_t' is not defined",
     "output_type": "error",
     "traceback": [
      "\u001b[0;31m---------------------------------------------------------------------------\u001b[0m",
      "\u001b[0;31mNameError\u001b[0m                                 Traceback (most recent call last)",
      "\u001b[0;32m<ipython-input-27-d05fa41ac571>\u001b[0m in \u001b[0;36m<module>\u001b[0;34m\u001b[0m\n\u001b[1;32m      1\u001b[0m \u001b[0;32mfor\u001b[0m \u001b[0mnum\u001b[0m\u001b[0;34m,\u001b[0m \u001b[0ms\u001b[0m \u001b[0;32min\u001b[0m \u001b[0menumerate\u001b[0m\u001b[0;34m(\u001b[0m\u001b[0mseq1\u001b[0m\u001b[0;34m)\u001b[0m\u001b[0;34m:\u001b[0m\u001b[0;34m\u001b[0m\u001b[0;34m\u001b[0m\u001b[0m\n\u001b[0;32m----> 2\u001b[0;31m     \u001b[0;32mif\u001b[0m \u001b[0mseq2_t\u001b[0m\u001b[0;34m[\u001b[0m\u001b[0mnum\u001b[0m\u001b[0;34m]\u001b[0m \u001b[0;34m!=\u001b[0m \u001b[0ms\u001b[0m\u001b[0;34m:\u001b[0m\u001b[0;34m\u001b[0m\u001b[0;34m\u001b[0m\u001b[0m\n\u001b[0m\u001b[1;32m      3\u001b[0m         \u001b[0mprint\u001b[0m\u001b[0;34m(\u001b[0m\u001b[0mnum\u001b[0m\u001b[0;34m,\u001b[0m \u001b[0ms\u001b[0m\u001b[0;34m,\u001b[0m \u001b[0mseq2_t\u001b[0m\u001b[0;34m[\u001b[0m\u001b[0mnum\u001b[0m\u001b[0;34m]\u001b[0m\u001b[0;34m)\u001b[0m\u001b[0;34m\u001b[0m\u001b[0;34m\u001b[0m\u001b[0m\n",
      "\u001b[0;31mNameError\u001b[0m: name 'seq2_t' is not defined"
     ]
    }
   ],
   "source": [
    "for num, s in enumerate(seq1):\n",
    "    if seq2_t[num] != s:\n",
    "        print(num, s, seq2_t[num])"
   ]
  },
  {
   "cell_type": "code",
   "execution_count": 28,
   "metadata": {},
   "outputs": [
    {
     "data": {
      "text/plain": [
       "['ArgR']"
      ]
     },
     "execution_count": 28,
     "metadata": {},
     "output_type": "execute_result"
    }
   ],
   "source": [
    "ica_data.imodulons_with('USA300HOU_RS04765')"
   ]
  },
  {
   "cell_type": "code",
   "execution_count": 29,
   "metadata": {},
   "outputs": [
    {
     "data": {
      "text/html": [
       "<div>\n",
       "<style scoped>\n",
       "    .dataframe tbody tr th:only-of-type {\n",
       "        vertical-align: middle;\n",
       "    }\n",
       "\n",
       "    .dataframe tbody tr th {\n",
       "        vertical-align: top;\n",
       "    }\n",
       "\n",
       "    .dataframe thead th {\n",
       "        text-align: right;\n",
       "    }\n",
       "</style>\n",
       "<table border=\"1\" class=\"dataframe\">\n",
       "  <thead>\n",
       "    <tr style=\"text-align: right;\">\n",
       "      <th></th>\n",
       "      <th>gene_weight</th>\n",
       "      <th>gene_name</th>\n",
       "      <th>accession</th>\n",
       "      <th>old_locus_tag</th>\n",
       "      <th>start</th>\n",
       "      <th>end</th>\n",
       "      <th>strand</th>\n",
       "      <th>gene_product</th>\n",
       "      <th>COG</th>\n",
       "      <th>uniprot</th>\n",
       "      <th>operon</th>\n",
       "      <th>regulator</th>\n",
       "    </tr>\n",
       "  </thead>\n",
       "  <tbody>\n",
       "    <tr>\n",
       "      <th>USA300HOU_RS04765</th>\n",
       "      <td>0.247513</td>\n",
       "      <td>argH</td>\n",
       "      <td>NC_010079.1</td>\n",
       "      <td>USA300HOU_0919</td>\n",
       "      <td>956020</td>\n",
       "      <td>957399</td>\n",
       "      <td>-</td>\n",
       "      <td>argininosuccinate lyase</td>\n",
       "      <td>Amino acid transport and metabolism</td>\n",
       "      <td>A0A5A8VNJ0</td>\n",
       "      <td>Op606</td>\n",
       "      <td>CodY,ArgR</td>\n",
       "    </tr>\n",
       "    <tr>\n",
       "      <th>USA300HOU_RS04770</th>\n",
       "      <td>0.259528</td>\n",
       "      <td>USA300HOU_RS04770</td>\n",
       "      <td>NC_010079.1</td>\n",
       "      <td>USA300HOU_0920</td>\n",
       "      <td>957389</td>\n",
       "      <td>958594</td>\n",
       "      <td>-</td>\n",
       "      <td>argininosuccinate synthase</td>\n",
       "      <td>Amino acid transport and metabolism</td>\n",
       "      <td>A0A0D6WAS8</td>\n",
       "      <td>Op606</td>\n",
       "      <td>CodY,ArgR</td>\n",
       "    </tr>\n",
       "    <tr>\n",
       "      <th>USA300HOU_RS09925</th>\n",
       "      <td>0.190241</td>\n",
       "      <td>USA300HOU_RS09925</td>\n",
       "      <td>NC_010079.1</td>\n",
       "      <td>USA300HOU_1852</td>\n",
       "      <td>1990402</td>\n",
       "      <td>1991130</td>\n",
       "      <td>-</td>\n",
       "      <td>amino acid ABC transporter ATP-binding protein</td>\n",
       "      <td>Amino acid transport and metabolism</td>\n",
       "      <td>A0A0E1VQC4</td>\n",
       "      <td>Op1206</td>\n",
       "      <td>CodY,ArgR</td>\n",
       "    </tr>\n",
       "    <tr>\n",
       "      <th>USA300HOU_RS09930</th>\n",
       "      <td>0.196494</td>\n",
       "      <td>USA300HOU_RS09930</td>\n",
       "      <td>NC_010079.1</td>\n",
       "      <td>USA300HOU_1853</td>\n",
       "      <td>1991117</td>\n",
       "      <td>1992574</td>\n",
       "      <td>-</td>\n",
       "      <td>ABC transporter permease subunit</td>\n",
       "      <td>Inorganic ion transport and metabolism</td>\n",
       "      <td>A0A0E1VGG0</td>\n",
       "      <td>Op1206</td>\n",
       "      <td>CodY,ArgR,WalR</td>\n",
       "    </tr>\n",
       "  </tbody>\n",
       "</table>\n",
       "</div>"
      ],
      "text/plain": [
       "                   gene_weight          gene_name    accession  \\\n",
       "USA300HOU_RS04765     0.247513               argH  NC_010079.1   \n",
       "USA300HOU_RS04770     0.259528  USA300HOU_RS04770  NC_010079.1   \n",
       "USA300HOU_RS09925     0.190241  USA300HOU_RS09925  NC_010079.1   \n",
       "USA300HOU_RS09930     0.196494  USA300HOU_RS09930  NC_010079.1   \n",
       "\n",
       "                    old_locus_tag    start      end strand  \\\n",
       "USA300HOU_RS04765  USA300HOU_0919   956020   957399      -   \n",
       "USA300HOU_RS04770  USA300HOU_0920   957389   958594      -   \n",
       "USA300HOU_RS09925  USA300HOU_1852  1990402  1991130      -   \n",
       "USA300HOU_RS09930  USA300HOU_1853  1991117  1992574      -   \n",
       "\n",
       "                                                     gene_product  \\\n",
       "USA300HOU_RS04765                         argininosuccinate lyase   \n",
       "USA300HOU_RS04770                      argininosuccinate synthase   \n",
       "USA300HOU_RS09925  amino acid ABC transporter ATP-binding protein   \n",
       "USA300HOU_RS09930                ABC transporter permease subunit   \n",
       "\n",
       "                                                      COG     uniprot  operon  \\\n",
       "USA300HOU_RS04765     Amino acid transport and metabolism  A0A5A8VNJ0   Op606   \n",
       "USA300HOU_RS04770     Amino acid transport and metabolism  A0A0D6WAS8   Op606   \n",
       "USA300HOU_RS09925     Amino acid transport and metabolism  A0A0E1VQC4  Op1206   \n",
       "USA300HOU_RS09930  Inorganic ion transport and metabolism  A0A0E1VGG0  Op1206   \n",
       "\n",
       "                        regulator  \n",
       "USA300HOU_RS04765       CodY,ArgR  \n",
       "USA300HOU_RS04770       CodY,ArgR  \n",
       "USA300HOU_RS09925       CodY,ArgR  \n",
       "USA300HOU_RS09930  CodY,ArgR,WalR  "
      ]
     },
     "execution_count": 29,
     "metadata": {},
     "output_type": "execute_result"
    }
   ],
   "source": [
    "ica_data.view_imodulon('ArgR')"
   ]
  },
  {
   "cell_type": "code",
   "execution_count": 24,
   "metadata": {},
   "outputs": [
    {
     "data": {
      "text/html": [
       "<div>\n",
       "<style scoped>\n",
       "    .dataframe tbody tr th:only-of-type {\n",
       "        vertical-align: middle;\n",
       "    }\n",
       "\n",
       "    .dataframe tbody tr th {\n",
       "        vertical-align: top;\n",
       "    }\n",
       "\n",
       "    .dataframe thead th {\n",
       "        text-align: right;\n",
       "    }\n",
       "</style>\n",
       "<table border=\"1\" class=\"dataframe\">\n",
       "  <thead>\n",
       "    <tr style=\"text-align: right;\">\n",
       "      <th></th>\n",
       "      <th>gene_name</th>\n",
       "      <th>accession</th>\n",
       "      <th>old_locus_tag</th>\n",
       "      <th>start</th>\n",
       "      <th>end</th>\n",
       "      <th>strand</th>\n",
       "      <th>gene_product</th>\n",
       "      <th>COG</th>\n",
       "      <th>uniprot</th>\n",
       "      <th>operon</th>\n",
       "      <th>regulator</th>\n",
       "    </tr>\n",
       "  </thead>\n",
       "  <tbody>\n",
       "    <tr>\n",
       "      <th>USA300HOU_RS02590</th>\n",
       "      <td>USA300HOU_RS02590</td>\n",
       "      <td>NC_010079.1</td>\n",
       "      <td>USA300HOU_0499</td>\n",
       "      <td>542712</td>\n",
       "      <td>543905</td>\n",
       "      <td>+</td>\n",
       "      <td>nucleotide pyrophosphohydrolase</td>\n",
       "      <td>Function unknown</td>\n",
       "      <td>A0A0H2XGV2</td>\n",
       "      <td>Op324</td>\n",
       "      <td>NaN</td>\n",
       "    </tr>\n",
       "    <tr>\n",
       "      <th>USA300HOU_RS07465</th>\n",
       "      <td>USA300HOU_RS07465</td>\n",
       "      <td>NC_010079.1</td>\n",
       "      <td>USA300HOU_1397</td>\n",
       "      <td>1531514</td>\n",
       "      <td>1531831</td>\n",
       "      <td>-</td>\n",
       "      <td>nucleotide pyrophosphohydrolase</td>\n",
       "      <td>Function unknown</td>\n",
       "      <td>A0A0H2WWC9</td>\n",
       "      <td>Op926</td>\n",
       "      <td>NaN</td>\n",
       "    </tr>\n",
       "    <tr>\n",
       "      <th>USA300HOU_RS08695</th>\n",
       "      <td>USA300HOU_RS08695</td>\n",
       "      <td>NC_010079.1</td>\n",
       "      <td>USA300HOU_1632</td>\n",
       "      <td>1741536</td>\n",
       "      <td>1743725</td>\n",
       "      <td>-</td>\n",
       "      <td>bifunctional (p)ppGpp synthetase/guanosine-3'%...</td>\n",
       "      <td>Transcription</td>\n",
       "      <td>A0A0D1HRD3</td>\n",
       "      <td>Op1045</td>\n",
       "      <td>NaN</td>\n",
       "    </tr>\n",
       "    <tr>\n",
       "      <th>USA300HOU_RS13495</th>\n",
       "      <td>USA300HOU_RS13495</td>\n",
       "      <td>NC_010079.1</td>\n",
       "      <td>USA300HOU_2481</td>\n",
       "      <td>2617836</td>\n",
       "      <td>2618228</td>\n",
       "      <td>-</td>\n",
       "      <td>(deoxy)nucleoside triphosphate pyrophosphohydr...</td>\n",
       "      <td>Replication, recombination and repair</td>\n",
       "      <td>A0A0D1JSZ8</td>\n",
       "      <td>Op1622</td>\n",
       "      <td>NaN</td>\n",
       "    </tr>\n",
       "  </tbody>\n",
       "</table>\n",
       "</div>"
      ],
      "text/plain": [
       "                           gene_name    accession   old_locus_tag    start  \\\n",
       "USA300HOU_RS02590  USA300HOU_RS02590  NC_010079.1  USA300HOU_0499   542712   \n",
       "USA300HOU_RS07465  USA300HOU_RS07465  NC_010079.1  USA300HOU_1397  1531514   \n",
       "USA300HOU_RS08695  USA300HOU_RS08695  NC_010079.1  USA300HOU_1632  1741536   \n",
       "USA300HOU_RS13495  USA300HOU_RS13495  NC_010079.1  USA300HOU_2481  2617836   \n",
       "\n",
       "                       end strand  \\\n",
       "USA300HOU_RS02590   543905      +   \n",
       "USA300HOU_RS07465  1531831      -   \n",
       "USA300HOU_RS08695  1743725      -   \n",
       "USA300HOU_RS13495  2618228      -   \n",
       "\n",
       "                                                        gene_product  \\\n",
       "USA300HOU_RS02590                    nucleotide pyrophosphohydrolase   \n",
       "USA300HOU_RS07465                    nucleotide pyrophosphohydrolase   \n",
       "USA300HOU_RS08695  bifunctional (p)ppGpp synthetase/guanosine-3'%...   \n",
       "USA300HOU_RS13495  (deoxy)nucleoside triphosphate pyrophosphohydr...   \n",
       "\n",
       "                                                     COG     uniprot  operon  \\\n",
       "USA300HOU_RS02590                       Function unknown  A0A0H2XGV2   Op324   \n",
       "USA300HOU_RS07465                       Function unknown  A0A0H2WWC9   Op926   \n",
       "USA300HOU_RS08695                          Transcription  A0A0D1HRD3  Op1045   \n",
       "USA300HOU_RS13495  Replication, recombination and repair  A0A0D1JSZ8  Op1622   \n",
       "\n",
       "                  regulator  \n",
       "USA300HOU_RS02590       NaN  \n",
       "USA300HOU_RS07465       NaN  \n",
       "USA300HOU_RS08695       NaN  \n",
       "USA300HOU_RS13495       NaN  "
      ]
     },
     "execution_count": 24,
     "metadata": {},
     "output_type": "execute_result"
    }
   ],
   "source": [
    "# GTP_pyrophosphokinase\n",
    "# pyrophosphohydrolase\n",
    "ica_data.gene_table[ica_data.gene_table.gene_product.str.contains('pyrophosphohydrolase')]"
   ]
  },
  {
   "cell_type": "code",
   "execution_count": 25,
   "metadata": {},
   "outputs": [
    {
     "name": "stdout",
     "output_type": "stream",
     "text": [
      "type: CDS\n",
      "location: [1019168:1019678](+)\n",
      "qualifiers:\n",
      "    Key: codon_start, Value: ['1']\n",
      "    Key: inference, Value: ['COORDINATES: similar to AA sequence:RefSeq:YP_499504.1']\n",
      "    Key: locus_tag, Value: ['USA300HOU_RS05030']\n",
      "    Key: note, Value: [\"similar to 2'-5' RNA ligase; Derived by automated computational analysis using gene prediction method: Protein Homology.\"]\n",
      "    Key: old_locus_tag, Value: ['USA300HOU_0973']\n",
      "    Key: product, Value: ['hypothetical protein']\n",
      "    Key: protein_id, Value: ['WP_000600392.1']\n",
      "    Key: transl_table, Value: ['11']\n",
      "    Key: translation, Value: ['MILGLALIPSKSFQEAVDSYRKRYDKQYSRIKPHVTIKAPFEIKDGDLDSVIEQVRARINGIPAVEVHATKASSFKPTNNVIYFKVAKTDDLEELFNRFNGEDFYGEAEHVFVPHFTIAQGLSSQEFEDIFGQVALAGVDHKEIIDELTLLRFDDDEDKWKVIETFKLA']\n",
      "\n"
     ]
    }
   ],
   "source": [
    "for rs in SeqIO.parse('/home/saugat/Desktop/Reference/genome/TCH1516_full.gb', 'genbank'):\n",
    "    for feats in rs.features:\n",
    "        if feats.type == 'CDS':\n",
    "            if feats.qualifiers['locus_tag'][0] == 'USA300HOU_RS05030':\n",
    "                print(feats)"
   ]
  },
  {
   "cell_type": "code",
   "execution_count": 26,
   "metadata": {},
   "outputs": [],
   "source": [
    "genes = []\n",
    "for i in sig_nodes.dropna(subset=['Annotations(sep=~~~)'])['Annotations(sep=~~~)']:\n",
    "    for splits in i.split('~~~'):\n",
    "        if 'USA300' in splits:\n",
    "            genes.append(splits.split(';')[0])"
   ]
  },
  {
   "cell_type": "code",
   "execution_count": 30,
   "metadata": {},
   "outputs": [
    {
     "ename": "NameError",
     "evalue": "name 'genes' is not defined",
     "output_type": "error",
     "traceback": [
      "\u001b[0;31m---------------------------------------------------------------------------\u001b[0m",
      "\u001b[0;31mNameError\u001b[0m                                 Traceback (most recent call last)",
      "\u001b[0;32m<ipython-input-30-8f8c8deb3950>\u001b[0m in \u001b[0;36m<module>\u001b[0;34m\u001b[0m\n\u001b[1;32m      1\u001b[0m \u001b[0mimod_associated\u001b[0m \u001b[0;34m=\u001b[0m \u001b[0;34m[\u001b[0m\u001b[0;34m]\u001b[0m\u001b[0;34m\u001b[0m\u001b[0;34m\u001b[0m\u001b[0m\n\u001b[0;32m----> 2\u001b[0;31m \u001b[0m_\u001b[0m \u001b[0;34m=\u001b[0m \u001b[0;34m[\u001b[0m\u001b[0mimod_associated\u001b[0m\u001b[0;34m.\u001b[0m\u001b[0mextend\u001b[0m\u001b[0;34m(\u001b[0m\u001b[0mica_data\u001b[0m\u001b[0;34m.\u001b[0m\u001b[0mimodulons_with\u001b[0m\u001b[0;34m(\u001b[0m\u001b[0mi\u001b[0m\u001b[0;34m)\u001b[0m\u001b[0;34m)\u001b[0m \u001b[0;32mfor\u001b[0m \u001b[0mi\u001b[0m \u001b[0;32min\u001b[0m \u001b[0mset\u001b[0m\u001b[0;34m(\u001b[0m\u001b[0mgenes\u001b[0m\u001b[0;34m)\u001b[0m\u001b[0;34m]\u001b[0m\u001b[0;34m\u001b[0m\u001b[0;34m\u001b[0m\u001b[0m\n\u001b[0m",
      "\u001b[0;31mNameError\u001b[0m: name 'genes' is not defined"
     ]
    }
   ],
   "source": [
    "imod_associated = []\n",
    "_ = [imod_associated.extend(ica_data.imodulons_with(i)) for i in set(genes)]"
   ]
  },
  {
   "cell_type": "code",
   "execution_count": 31,
   "metadata": {},
   "outputs": [
    {
     "ename": "IndexError",
     "evalue": "index 0 is out of bounds for axis 0 with size 0",
     "output_type": "error",
     "traceback": [
      "\u001b[0;31m---------------------------------------------------------------------------\u001b[0m",
      "\u001b[0;31mIndexError\u001b[0m                                Traceback (most recent call last)",
      "\u001b[0;32m<ipython-input-31-aa5127e446cd>\u001b[0m in \u001b[0;36m<module>\u001b[0;34m\u001b[0m\n\u001b[1;32m     39\u001b[0m          \u001b[0mget_tch\u001b[0m\u001b[0;34m(\u001b[0m\u001b[0msig_nodes\u001b[0m\u001b[0;34m[\u001b[0m\u001b[0;34m'Annotations(sep=~~~)'\u001b[0m\u001b[0;34m]\u001b[0m\u001b[0;34m)\u001b[0m\u001b[0;34m,\u001b[0m\u001b[0;34m\u001b[0m\u001b[0;34m\u001b[0m\u001b[0m\n\u001b[1;32m     40\u001b[0m          0)\n\u001b[0;32m---> 41\u001b[0;31m \u001b[0mintergenic_genes\u001b[0m \u001b[0;34m=\u001b[0m \u001b[0mlist\u001b[0m\u001b[0;34m(\u001b[0m\u001b[0mset\u001b[0m\u001b[0;34m(\u001b[0m\u001b[0mmap\u001b[0m\u001b[0;34m(\u001b[0m\u001b[0massign_genes\u001b[0m\u001b[0;34m,\u001b[0m \u001b[0mintergenic\u001b[0m\u001b[0;34m)\u001b[0m\u001b[0;34m)\u001b[0m\u001b[0;34m)\u001b[0m\u001b[0;34m\u001b[0m\u001b[0;34m\u001b[0m\u001b[0m\n\u001b[0m\u001b[1;32m     42\u001b[0m \u001b[0mintergenic_genes\u001b[0m\u001b[0;34m.\u001b[0m\u001b[0mremove\u001b[0m\u001b[0;34m(\u001b[0m\u001b[0;34m''\u001b[0m\u001b[0;34m)\u001b[0m\u001b[0;34m\u001b[0m\u001b[0;34m\u001b[0m\u001b[0m\n\u001b[1;32m     43\u001b[0m \u001b[0mintergenic_genes\u001b[0m\u001b[0;34m.\u001b[0m\u001b[0mremove\u001b[0m\u001b[0;34m(\u001b[0m\u001b[0;34m'No Match'\u001b[0m\u001b[0;34m)\u001b[0m\u001b[0;34m\u001b[0m\u001b[0;34m\u001b[0m\u001b[0m\n",
      "\u001b[0;32m<ipython-input-31-aa5127e446cd>\u001b[0m in \u001b[0;36massign_genes\u001b[0;34m(annot, otype, gff)\u001b[0m\n\u001b[1;32m     14\u001b[0m         \u001b[0;32mreturn\u001b[0m \u001b[0;34m'No Match'\u001b[0m\u001b[0;34m\u001b[0m\u001b[0;34m\u001b[0m\u001b[0m\n\u001b[1;32m     15\u001b[0m     \u001b[0mstart\u001b[0m\u001b[0;34m,\u001b[0m \u001b[0mend\u001b[0m \u001b[0;34m=\u001b[0m \u001b[0mannot\u001b[0m\u001b[0;34m.\u001b[0m\u001b[0msplit\u001b[0m\u001b[0;34m(\u001b[0m\u001b[0;34m'_'\u001b[0m\u001b[0;34m)\u001b[0m\u001b[0;34m[\u001b[0m\u001b[0;34m-\u001b[0m\u001b[0;36m1\u001b[0m\u001b[0;34m]\u001b[0m\u001b[0;34m.\u001b[0m\u001b[0msplit\u001b[0m\u001b[0;34m(\u001b[0m\u001b[0;34m'-'\u001b[0m\u001b[0;34m)\u001b[0m\u001b[0;34m\u001b[0m\u001b[0;34m\u001b[0m\u001b[0m\n\u001b[0;32m---> 16\u001b[0;31m     \u001b[0mloc\u001b[0m \u001b[0;34m=\u001b[0m \u001b[0mnp\u001b[0m\u001b[0;34m.\u001b[0m\u001b[0mwhere\u001b[0m\u001b[0;34m(\u001b[0m\u001b[0mgff\u001b[0m\u001b[0;34m[\u001b[0m\u001b[0;36m4\u001b[0m\u001b[0;34m]\u001b[0m \u001b[0;34m==\u001b[0m \u001b[0mint\u001b[0m\u001b[0;34m(\u001b[0m\u001b[0mstart\u001b[0m\u001b[0;34m)\u001b[0m\u001b[0;34m)\u001b[0m\u001b[0;34m[\u001b[0m\u001b[0;36m0\u001b[0m\u001b[0;34m]\u001b[0m\u001b[0;34m[\u001b[0m\u001b[0;36m0\u001b[0m\u001b[0;34m]\u001b[0m\u001b[0;34m\u001b[0m\u001b[0;34m\u001b[0m\u001b[0m\n\u001b[0m\u001b[1;32m     17\u001b[0m     \u001b[0;32mif\u001b[0m \u001b[0mgff\u001b[0m\u001b[0;34m.\u001b[0m\u001b[0mloc\u001b[0m\u001b[0;34m[\u001b[0m\u001b[0mloc\u001b[0m\u001b[0;34m,\u001b[0m \u001b[0;36m6\u001b[0m\u001b[0;34m]\u001b[0m \u001b[0;34m==\u001b[0m \u001b[0;34m'-'\u001b[0m\u001b[0;34m:\u001b[0m\u001b[0;34m\u001b[0m\u001b[0;34m\u001b[0m\u001b[0m\n\u001b[1;32m     18\u001b[0m         \u001b[0mupstream\u001b[0m \u001b[0;34m=\u001b[0m \u001b[0mparse_descript\u001b[0m\u001b[0;34m(\u001b[0m\u001b[0mgff\u001b[0m\u001b[0;34m.\u001b[0m\u001b[0mloc\u001b[0m\u001b[0;34m[\u001b[0m\u001b[0mloc\u001b[0m\u001b[0;34m,\u001b[0m \u001b[0;36m8\u001b[0m\u001b[0;34m]\u001b[0m\u001b[0;34m,\u001b[0m \u001b[0motype\u001b[0m\u001b[0;34m)\u001b[0m\u001b[0;34m\u001b[0m\u001b[0;34m\u001b[0m\u001b[0m\n",
      "\u001b[0;31mIndexError\u001b[0m: index 0 is out of bounds for axis 0 with size 0"
     ]
    }
   ],
   "source": [
    "def get_genes(annot, otype='gene_name'):\n",
    "    if type(annot) == int:\n",
    "        return 'No Match'\n",
    "    split = annot.split('tag=')\n",
    "    if otype == 'gene_name':\n",
    "        return split[-1]\n",
    "    return split[0].split(';')[0]\n",
    "    \n",
    "def assign_genes(annot, otype='locus_tag', gff=gff):\n",
    "    \"\"\"for all intergenic region, find the upstream gene,\n",
    "    downstream gene and strand of each\"\"\"\n",
    "    name = ''\n",
    "    if type(annot) == int:\n",
    "        return 'No Match'\n",
    "    start, end = annot.split('_')[-1].split('-')\n",
    "    loc = np.where(gff[4] == int(start))[0][0]\n",
    "    if gff.loc[loc, 6] == '-':\n",
    "        upstream = parse_descript(gff.loc[loc, 8], otype)\n",
    "        name += upstream\n",
    "    if gff.loc[loc + 1, 6] == '+':\n",
    "        downstream = parse_descript(gff.loc[loc + 1, 8], otype)\n",
    "        name += ' ' + downstream\n",
    "         \n",
    "    return name.lstrip()\n",
    "\n",
    "def parse_descript(descript, otype):\n",
    "    if otype == 'locus_tag':\n",
    "        split1, split2 = 0, 'gene_id'\n",
    "\n",
    "    elif otype == 'gene_name':\n",
    "        split1, split2 = -2, 'gene_name'\n",
    "    \n",
    "    return descript.split(';')[split1].split(split2)[-1].strip().replace('\\\"','')\n",
    "    \n",
    "def get_tch(annot):\n",
    "    return sig_nodes['Annotations(sep=~~~)'].str.split('~~~').apply(lambda x: x[0])\n",
    "\n",
    "intergenic = np.where(sig_nodes['Annotations(sep=~~~)'].str.contains('TCH1516intergenic'), \n",
    "         get_tch(sig_nodes['Annotations(sep=~~~)']),\n",
    "         0)\n",
    "intergenic_genes = list(set(map(assign_genes, intergenic)))\n",
    "intergenic_genes.remove('')\n",
    "intergenic_genes.remove('No Match')\n",
    "intergenic_genes"
   ]
  },
  {
   "cell_type": "code",
   "execution_count": 32,
   "metadata": {},
   "outputs": [
    {
     "ename": "NameError",
     "evalue": "name 'intergenic_genes' is not defined",
     "output_type": "error",
     "traceback": [
      "\u001b[0;31m---------------------------------------------------------------------------\u001b[0m",
      "\u001b[0;31mNameError\u001b[0m                                 Traceback (most recent call last)",
      "\u001b[0;32m<ipython-input-32-57976f0caef9>\u001b[0m in \u001b[0;36m<module>\u001b[0;34m\u001b[0m\n\u001b[0;32m----> 1\u001b[0;31m \u001b[0;34m[\u001b[0m\u001b[0mica_data\u001b[0m\u001b[0;34m.\u001b[0m\u001b[0mimodulons_with\u001b[0m\u001b[0;34m(\u001b[0m\u001b[0mi\u001b[0m\u001b[0;34m.\u001b[0m\u001b[0msplit\u001b[0m\u001b[0;34m(\u001b[0m\u001b[0;34m)\u001b[0m\u001b[0;34m[\u001b[0m\u001b[0;36m0\u001b[0m\u001b[0;34m]\u001b[0m\u001b[0;34m)\u001b[0m \u001b[0;32mfor\u001b[0m \u001b[0mi\u001b[0m \u001b[0;32min\u001b[0m \u001b[0mintergenic_genes\u001b[0m\u001b[0;34m]\u001b[0m\u001b[0;34m\u001b[0m\u001b[0;34m\u001b[0m\u001b[0m\n\u001b[0m",
      "\u001b[0;31mNameError\u001b[0m: name 'intergenic_genes' is not defined"
     ]
    }
   ],
   "source": [
    "[ica_data.imodulons_with(i.split()[0]) for i in intergenic_genes]"
   ]
  },
  {
   "cell_type": "code",
   "execution_count": 33,
   "metadata": {},
   "outputs": [
    {
     "ename": "NameError",
     "evalue": "name 'intergenic_genes' is not defined",
     "output_type": "error",
     "traceback": [
      "\u001b[0;31m---------------------------------------------------------------------------\u001b[0m",
      "\u001b[0;31mNameError\u001b[0m                                 Traceback (most recent call last)",
      "\u001b[0;32m<ipython-input-33-eafb6ea291fd>\u001b[0m in \u001b[0;36m<module>\u001b[0;34m\u001b[0m\n\u001b[1;32m      1\u001b[0m [(lt_dict[lt], lt,\n\u001b[0;32m----> 2\u001b[0;31m   ica_data.imodulons_with(lt)) for sublist in intergenic_genes for lt in sublist.split()]\n\u001b[0m",
      "\u001b[0;31mNameError\u001b[0m: name 'intergenic_genes' is not defined"
     ]
    }
   ],
   "source": [
    "[(lt_dict[lt], lt,\n",
    "  ica_data.imodulons_with(lt)) for sublist in intergenic_genes for lt in sublist.split()]"
   ]
  },
  {
   "cell_type": "code",
   "execution_count": 31,
   "metadata": {},
   "outputs": [],
   "source": [
    "orfs = np.where(sig_nodes['Annotations(sep=~~~)'].str.contains('USA300HOU_'), \n",
    "         get_tch(sig_nodes['Annotations(sep=~~~)']),\n",
    "         0)\n"
   ]
  },
  {
   "cell_type": "code",
   "execution_count": 32,
   "metadata": {},
   "outputs": [],
   "source": [
    "scfm2_idx = ica_data.sample_table[ica_data.sample_table.project.str.contains('SCFM2')].index"
   ]
  },
  {
   "cell_type": "code",
   "execution_count": 33,
   "metadata": {},
   "outputs": [],
   "source": [
    "vals = ica_data.A.loc['ArgR', scfm2_idx].sort_values()\n",
    "vals.index = vals.index.map(ica_data.sample_table.condition)"
   ]
  },
  {
   "cell_type": "code",
   "execution_count": 35,
   "metadata": {},
   "outputs": [],
   "source": [
    "all_locs = sorted(set([assign_genes(i) for i in intergenic]).union(set([get_genes(i, otype='locus_tag') for i in orfs])))"
   ]
  },
  {
   "cell_type": "code",
   "execution_count": 36,
   "metadata": {
    "scrolled": true
   },
   "outputs": [],
   "source": [
    "starts = []\n",
    "for i in all_locs:\n",
    "    if 'USA300' in i:\n",
    "        idx = gff[gff[8].str.contains(i.split()[0])].index\n",
    "        if len(idx) == 0:\n",
    "            continue\n",
    "        start, end = gff.loc[idx, 3].values[0], gff.loc[idx, 4].values[0]\n",
    "        starts.append(start)"
   ]
  },
  {
   "cell_type": "markdown",
   "metadata": {},
   "source": [
    "# Scratch"
   ]
  },
  {
   "cell_type": "code",
   "execution_count": 34,
   "metadata": {},
   "outputs": [],
   "source": [
    "import scipy"
   ]
  },
  {
   "cell_type": "code",
   "execution_count": 35,
   "metadata": {},
   "outputs": [],
   "source": [
    "from jupyterthemes import jtplot\n",
    "jtplot.reset()"
   ]
  },
  {
   "cell_type": "code",
   "execution_count": 36,
   "metadata": {},
   "outputs": [
    {
     "ename": "NameError",
     "evalue": "name 'all_locs' is not defined",
     "output_type": "error",
     "traceback": [
      "\u001b[0;31m---------------------------------------------------------------------------\u001b[0m",
      "\u001b[0;31mNameError\u001b[0m                                 Traceback (most recent call last)",
      "\u001b[0;32m<ipython-input-36-5e746c10b432>\u001b[0m in \u001b[0;36m<module>\u001b[0;34m\u001b[0m\n\u001b[1;32m      1\u001b[0m \u001b[0mstarts\u001b[0m \u001b[0;34m=\u001b[0m \u001b[0;34m[\u001b[0m\u001b[0;34m]\u001b[0m\u001b[0;34m\u001b[0m\u001b[0;34m\u001b[0m\u001b[0m\n\u001b[0;32m----> 2\u001b[0;31m \u001b[0;32mfor\u001b[0m \u001b[0mi\u001b[0m \u001b[0;32min\u001b[0m \u001b[0mall_locs\u001b[0m\u001b[0;34m[\u001b[0m\u001b[0;36m1\u001b[0m\u001b[0;34m:\u001b[0m\u001b[0;34m]\u001b[0m\u001b[0;34m:\u001b[0m\u001b[0;34m\u001b[0m\u001b[0;34m\u001b[0m\u001b[0m\n\u001b[0m\u001b[1;32m      3\u001b[0m     \u001b[0mloc\u001b[0m \u001b[0;34m=\u001b[0m \u001b[0mi\u001b[0m\u001b[0;34m.\u001b[0m\u001b[0msplit\u001b[0m\u001b[0;34m(\u001b[0m\u001b[0;34m)\u001b[0m\u001b[0;34m[\u001b[0m\u001b[0;36m0\u001b[0m\u001b[0;34m]\u001b[0m\u001b[0;34m\u001b[0m\u001b[0;34m\u001b[0m\u001b[0m\n\u001b[1;32m      4\u001b[0m     \u001b[0;32mif\u001b[0m \u001b[0;34m'USA300'\u001b[0m \u001b[0;32mnot\u001b[0m \u001b[0;32min\u001b[0m \u001b[0mloc\u001b[0m\u001b[0;34m:\u001b[0m\u001b[0;34m\u001b[0m\u001b[0;34m\u001b[0m\u001b[0m\n\u001b[1;32m      5\u001b[0m         \u001b[0;32mcontinue\u001b[0m\u001b[0;34m\u001b[0m\u001b[0;34m\u001b[0m\u001b[0m\n",
      "\u001b[0;31mNameError\u001b[0m: name 'all_locs' is not defined"
     ]
    }
   ],
   "source": [
    "starts = []\n",
    "for i in all_locs[1:]:\n",
    "    loc = i.split()[0]\n",
    "    if 'USA300' not in loc:\n",
    "        continue\n",
    "    starts.append(ica_data.gene_table.loc[loc, 'start'])\n",
    "    \n",
    "plt.plot(sorted(starts), np.arange(len(starts)))"
   ]
  },
  {
   "cell_type": "code",
   "execution_count": 37,
   "metadata": {},
   "outputs": [],
   "source": [
    "all_pos = np.zeros(ica_data.gene_table.end.max() + 1)\n",
    "all_pos[starts] = [1] * len(starts)"
   ]
  },
  {
   "cell_type": "code",
   "execution_count": 44,
   "metadata": {},
   "outputs": [
    {
     "data": {
      "text/plain": [
       "[<matplotlib.lines.Line2D at 0x7f474c689090>]"
      ]
     },
     "execution_count": 44,
     "metadata": {},
     "output_type": "execute_result"
    },
    {
     "data": {
      "image/png": "[encoded data removed]",
      "text/plain": [
       "<Figure size 1100x500 with 1 Axes>"
      ]
     },
     "metadata": {},
     "output_type": "display_data"
    }
   ],
   "source": [
    "window = 10000\n",
    "start, end = 0, window\n",
    "sums = []\n",
    "while end < ica_data.gene_table.end.max():\n",
    "    sums.append(np.sum(all_pos[start:end + 1]))\n",
    "    start = end\n",
    "    end += window\n",
    "\n",
    "fig, ax = plt.subplots(figsize=(11,5))\n",
    "\n",
    "# ax.scatter(np.arange(len(sums)), sums)\n",
    "ax.plot(sums)"
   ]
  },
  {
   "cell_type": "code",
   "execution_count": 45,
   "metadata": {},
   "outputs": [],
   "source": [
    "muts = ['USA300HOU_RS00220', 'USA300HOU_RS00275',\n",
    "       'USA300HOU_RS08120', 'USA300HOU_RS14885', 'USA300HOU_RS00230',\n",
    "       'USA300HOU_RS04920', 'USA300HOU_RS15450', 'USA300HOU_RS12910',\n",
    "       'USA300HOU_RS15460', 'USA300HOU_RS01405', 'USA300HOU_RS14870',\n",
    "       'USA300HOU_RS01550', 'USA300HOU_RS01565', 'USA300HOU_RS10350',\n",
    "       'USA300HOU_RS02590', 'USA300HOU_RS07705', 'USA300HOU_RS05470',\n",
    "       'USA300HOU_RS12435', 'USA300HOU_RS00560', 'USA300HOU_RS04425', \n",
    "       'USA300HOU_RS03720', 'USA300HOU_RS14170', 'USA300HOU_RS04385',\n",
    "       'USA300HOU_RS07870', 'USA300HOU_RS15640', 'USA300HOU_RS11215',\n",
    "       'USA300HOU_RS02280', 'USA300HOU_RS02855', 'USA300HOU_RS03105',\n",
    "       'USA300HOU_RS04765', 'USA300HOU_RS10780', 'USA300HOU_RS12565',\n",
    "       'USA300HOU_RS00215', 'USA300HOU_RS10885', 'USA300HOU_RS10615',\n",
    "       'USA300HOU_RS14000', 'USA300HOU_RS13270', 'USA300HOU_RS04930',\n",
    "       'USA300HOU_RS07390', 'USA300HOU_RS12605', 'USA300HOU_RS08285',\n",
    "       'USA300HOU_RS10605', 'USA300HOU_RS02380', 'USA300HOU_RS04470']"
   ]
  },
  {
   "cell_type": "code",
   "execution_count": 46,
   "metadata": {
    "scrolled": false
   },
   "outputs": [
    {
     "data": {
      "text/html": [
       "<div>\n",
       "<style scoped>\n",
       "    .dataframe tbody tr th:only-of-type {\n",
       "        vertical-align: middle;\n",
       "    }\n",
       "\n",
       "    .dataframe tbody tr th {\n",
       "        vertical-align: top;\n",
       "    }\n",
       "\n",
       "    .dataframe thead th {\n",
       "        text-align: right;\n",
       "    }\n",
       "</style>\n",
       "<table border=\"1\" class=\"dataframe\">\n",
       "  <thead>\n",
       "    <tr style=\"text-align: right;\">\n",
       "      <th></th>\n",
       "      <th>regulator</th>\n",
       "      <th>TF_id</th>\n",
       "      <th>trn_type</th>\n",
       "      <th>gene_name</th>\n",
       "      <th>N315_gene_id</th>\n",
       "      <th>gene_id</th>\n",
       "    </tr>\n",
       "  </thead>\n",
       "  <tbody>\n",
       "    <tr>\n",
       "      <th>102</th>\n",
       "      <td>RbsR</td>\n",
       "      <td>SA0261</td>\n",
       "      <td>TF</td>\n",
       "      <td>rbsD</td>\n",
       "      <td>SA0259</td>\n",
       "      <td>USA300HOU_RS01405</td>\n",
       "    </tr>\n",
       "    <tr>\n",
       "      <th>105</th>\n",
       "      <td>RbsR2</td>\n",
       "      <td>NaN</td>\n",
       "      <td>TF</td>\n",
       "      <td>rbsD</td>\n",
       "      <td>SA0259</td>\n",
       "      <td>USA300HOU_RS01405</td>\n",
       "    </tr>\n",
       "    <tr>\n",
       "      <th>224</th>\n",
       "      <td>GltC</td>\n",
       "      <td>SA0429</td>\n",
       "      <td>TF</td>\n",
       "      <td>gltD</td>\n",
       "      <td>SA0431</td>\n",
       "      <td>USA300HOU_RS02380</td>\n",
       "    </tr>\n",
       "    <tr>\n",
       "      <th>346</th>\n",
       "      <td>CodY</td>\n",
       "      <td>SA1098</td>\n",
       "      <td>TF</td>\n",
       "      <td>opuCA</td>\n",
       "      <td>SA2237</td>\n",
       "      <td>USA300HOU_RS13270</td>\n",
       "    </tr>\n",
       "    <tr>\n",
       "      <th>408</th>\n",
       "      <td>CodY</td>\n",
       "      <td>SA1098</td>\n",
       "      <td>TF</td>\n",
       "      <td>gltD</td>\n",
       "      <td>SA0431</td>\n",
       "      <td>USA300HOU_RS02380</td>\n",
       "    </tr>\n",
       "    <tr>\n",
       "      <th>442</th>\n",
       "      <td>CodY</td>\n",
       "      <td>SA1098</td>\n",
       "      <td>TF</td>\n",
       "      <td>argH</td>\n",
       "      <td>SA0821</td>\n",
       "      <td>USA300HOU_RS04765</td>\n",
       "    </tr>\n",
       "    <tr>\n",
       "      <th>444</th>\n",
       "      <td>CodY</td>\n",
       "      <td>SA1098</td>\n",
       "      <td>TF</td>\n",
       "      <td>appD</td>\n",
       "      <td>SA0851</td>\n",
       "      <td>USA300HOU_RS04920</td>\n",
       "    </tr>\n",
       "    <tr>\n",
       "      <th>446</th>\n",
       "      <td>CodY</td>\n",
       "      <td>SA1098</td>\n",
       "      <td>TF</td>\n",
       "      <td>appB</td>\n",
       "      <td>SA0853</td>\n",
       "      <td>USA300HOU_RS04930</td>\n",
       "    </tr>\n",
       "    <tr>\n",
       "      <th>457</th>\n",
       "      <td>CodY</td>\n",
       "      <td>SA1098</td>\n",
       "      <td>TF</td>\n",
       "      <td>yocS</td>\n",
       "      <td>SA2112</td>\n",
       "      <td>USA300HOU_RS12565</td>\n",
       "    </tr>\n",
       "    <tr>\n",
       "      <th>530</th>\n",
       "      <td>CcpA</td>\n",
       "      <td>SA1557</td>\n",
       "      <td>TF</td>\n",
       "      <td>rbsD</td>\n",
       "      <td>SA0259</td>\n",
       "      <td>USA300HOU_RS01405</td>\n",
       "    </tr>\n",
       "    <tr>\n",
       "      <th>618</th>\n",
       "      <td>ArgR</td>\n",
       "      <td>SA1351</td>\n",
       "      <td>TF</td>\n",
       "      <td>recN</td>\n",
       "      <td>SA1350</td>\n",
       "      <td>USA300HOU_RS08120</td>\n",
       "    </tr>\n",
       "    <tr>\n",
       "      <th>620</th>\n",
       "      <td>ArgR</td>\n",
       "      <td>SA1351</td>\n",
       "      <td>TF</td>\n",
       "      <td>argH</td>\n",
       "      <td>SA0821</td>\n",
       "      <td>USA300HOU_RS04765</td>\n",
       "    </tr>\n",
       "    <tr>\n",
       "      <th>723</th>\n",
       "      <td>YdfD;YisV</td>\n",
       "      <td>SA0104</td>\n",
       "      <td>TF</td>\n",
       "      <td>ydfC</td>\n",
       "      <td>SA0103</td>\n",
       "      <td>USA300HOU_RS00560</td>\n",
       "    </tr>\n",
       "    <tr>\n",
       "      <th>757</th>\n",
       "      <td>VraR</td>\n",
       "      <td>Unknown</td>\n",
       "      <td>TF</td>\n",
       "      <td>ATPase</td>\n",
       "      <td>SA1795</td>\n",
       "      <td>USA300HOU_RS10780</td>\n",
       "    </tr>\n",
       "    <tr>\n",
       "      <th>982</th>\n",
       "      <td>WalR</td>\n",
       "      <td>Unknown</td>\n",
       "      <td>TF</td>\n",
       "      <td>alpha/beta hydrolase</td>\n",
       "      <td>SA2480</td>\n",
       "      <td>USA300HOU_RS14000</td>\n",
       "    </tr>\n",
       "    <tr>\n",
       "      <th>1179</th>\n",
       "      <td>Genomic Island 1</td>\n",
       "      <td>Genomic Island 1</td>\n",
       "      <td>Genomic Island</td>\n",
       "      <td>ACP synthase</td>\n",
       "      <td>NaN</td>\n",
       "      <td>USA300HOU_RS00215</td>\n",
       "    </tr>\n",
       "    <tr>\n",
       "      <th>1180</th>\n",
       "      <td>Genomic Island 1</td>\n",
       "      <td>Genomic Island 1</td>\n",
       "      <td>Genomic Island</td>\n",
       "      <td>ATPase AAA</td>\n",
       "      <td>NaN</td>\n",
       "      <td>USA300HOU_RS00220</td>\n",
       "    </tr>\n",
       "    <tr>\n",
       "      <th>1182</th>\n",
       "      <td>Genomic Island 1</td>\n",
       "      <td>Genomic Island 1</td>\n",
       "      <td>Genomic Island</td>\n",
       "      <td>MBL fold hydrolase</td>\n",
       "      <td>NaN</td>\n",
       "      <td>USA300HOU_RS00230</td>\n",
       "    </tr>\n",
       "    <tr>\n",
       "      <th>1191</th>\n",
       "      <td>Genomic Island 1</td>\n",
       "      <td>Genomic Island 1</td>\n",
       "      <td>Genomic Island</td>\n",
       "      <td>alcohol dehydrogenase</td>\n",
       "      <td>NaN</td>\n",
       "      <td>USA300HOU_RS00275</td>\n",
       "    </tr>\n",
       "    <tr>\n",
       "      <th>1219</th>\n",
       "      <td>Genomic Island 3</td>\n",
       "      <td>Genomic Island 3</td>\n",
       "      <td>Genomic Island</td>\n",
       "      <td>enterotoxin</td>\n",
       "      <td>NaN</td>\n",
       "      <td>USA300HOU_RS04425</td>\n",
       "    </tr>\n",
       "    <tr>\n",
       "      <th>1228</th>\n",
       "      <td>Genomic Island 3</td>\n",
       "      <td>Genomic Island 3</td>\n",
       "      <td>Genomic Island</td>\n",
       "      <td>primase</td>\n",
       "      <td>NaN</td>\n",
       "      <td>USA300HOU_RS04470</td>\n",
       "    </tr>\n",
       "    <tr>\n",
       "      <th>1272</th>\n",
       "      <td>Genomic Island 6</td>\n",
       "      <td>Genomic Island 6</td>\n",
       "      <td>Genomic Island</td>\n",
       "      <td>phage tail tape measure protein</td>\n",
       "      <td>NaN</td>\n",
       "      <td>USA300HOU_RS07705</td>\n",
       "    </tr>\n",
       "    <tr>\n",
       "      <th>1305</th>\n",
       "      <td>Genomic Island 6</td>\n",
       "      <td>Genomic Island 6</td>\n",
       "      <td>Genomic Island</td>\n",
       "      <td>DNA polymerase</td>\n",
       "      <td>NaN</td>\n",
       "      <td>USA300HOU_RS07870</td>\n",
       "    </tr>\n",
       "    <tr>\n",
       "      <th>1362</th>\n",
       "      <td>Genomic Island 9</td>\n",
       "      <td>Genomic Island 9</td>\n",
       "      <td>Genomic Island</td>\n",
       "      <td>hypothetical protein</td>\n",
       "      <td>NaN</td>\n",
       "      <td>USA300HOU_RS10605</td>\n",
       "    </tr>\n",
       "    <tr>\n",
       "      <th>1364</th>\n",
       "      <td>Genomic Island 9</td>\n",
       "      <td>Genomic Island 9</td>\n",
       "      <td>Genomic Island</td>\n",
       "      <td>phage tail tape measure protein</td>\n",
       "      <td>NaN</td>\n",
       "      <td>USA300HOU_RS10615</td>\n",
       "    </tr>\n",
       "    <tr>\n",
       "      <th>1396</th>\n",
       "      <td>Genomic Island 9</td>\n",
       "      <td>Genomic Island 9</td>\n",
       "      <td>Genomic Island</td>\n",
       "      <td>ATPase</td>\n",
       "      <td>NaN</td>\n",
       "      <td>USA300HOU_RS10780</td>\n",
       "    </tr>\n",
       "    <tr>\n",
       "      <th>1417</th>\n",
       "      <td>Genomic Island 9</td>\n",
       "      <td>Genomic Island 9</td>\n",
       "      <td>Genomic Island</td>\n",
       "      <td>hypothetical protein</td>\n",
       "      <td>NaN</td>\n",
       "      <td>USA300HOU_RS10885</td>\n",
       "    </tr>\n",
       "  </tbody>\n",
       "</table>\n",
       "</div>"
      ],
      "text/plain": [
       "             regulator             TF_id        trn_type  \\\n",
       "102               RbsR            SA0261              TF   \n",
       "105              RbsR2               NaN              TF   \n",
       "224               GltC            SA0429              TF   \n",
       "346               CodY            SA1098              TF   \n",
       "408               CodY            SA1098              TF   \n",
       "442               CodY            SA1098              TF   \n",
       "444               CodY            SA1098              TF   \n",
       "446               CodY            SA1098              TF   \n",
       "457               CodY            SA1098              TF   \n",
       "530               CcpA            SA1557              TF   \n",
       "618               ArgR            SA1351              TF   \n",
       "620               ArgR            SA1351              TF   \n",
       "723          YdfD;YisV            SA0104              TF   \n",
       "757               VraR           Unknown              TF   \n",
       "982               WalR           Unknown              TF   \n",
       "1179  Genomic Island 1  Genomic Island 1  Genomic Island   \n",
       "1180  Genomic Island 1  Genomic Island 1  Genomic Island   \n",
       "1182  Genomic Island 1  Genomic Island 1  Genomic Island   \n",
       "1191  Genomic Island 1  Genomic Island 1  Genomic Island   \n",
       "1219  Genomic Island 3  Genomic Island 3  Genomic Island   \n",
       "1228  Genomic Island 3  Genomic Island 3  Genomic Island   \n",
       "1272  Genomic Island 6  Genomic Island 6  Genomic Island   \n",
       "1305  Genomic Island 6  Genomic Island 6  Genomic Island   \n",
       "1362  Genomic Island 9  Genomic Island 9  Genomic Island   \n",
       "1364  Genomic Island 9  Genomic Island 9  Genomic Island   \n",
       "1396  Genomic Island 9  Genomic Island 9  Genomic Island   \n",
       "1417  Genomic Island 9  Genomic Island 9  Genomic Island   \n",
       "\n",
       "                            gene_name N315_gene_id            gene_id  \n",
       "102                              rbsD       SA0259  USA300HOU_RS01405  \n",
       "105                              rbsD       SA0259  USA300HOU_RS01405  \n",
       "224                              gltD       SA0431  USA300HOU_RS02380  \n",
       "346                             opuCA       SA2237  USA300HOU_RS13270  \n",
       "408                              gltD       SA0431  USA300HOU_RS02380  \n",
       "442                              argH       SA0821  USA300HOU_RS04765  \n",
       "444                              appD       SA0851  USA300HOU_RS04920  \n",
       "446                              appB       SA0853  USA300HOU_RS04930  \n",
       "457                              yocS       SA2112  USA300HOU_RS12565  \n",
       "530                              rbsD       SA0259  USA300HOU_RS01405  \n",
       "618                              recN       SA1350  USA300HOU_RS08120  \n",
       "620                              argH       SA0821  USA300HOU_RS04765  \n",
       "723                              ydfC       SA0103  USA300HOU_RS00560  \n",
       "757                            ATPase       SA1795  USA300HOU_RS10780  \n",
       "982              alpha/beta hydrolase       SA2480  USA300HOU_RS14000  \n",
       "1179                     ACP synthase          NaN  USA300HOU_RS00215  \n",
       "1180                       ATPase AAA          NaN  USA300HOU_RS00220  \n",
       "1182               MBL fold hydrolase          NaN  USA300HOU_RS00230  \n",
       "1191            alcohol dehydrogenase          NaN  USA300HOU_RS00275  \n",
       "1219                      enterotoxin          NaN  USA300HOU_RS04425  \n",
       "1228                          primase          NaN  USA300HOU_RS04470  \n",
       "1272  phage tail tape measure protein          NaN  USA300HOU_RS07705  \n",
       "1305                   DNA polymerase          NaN  USA300HOU_RS07870  \n",
       "1362             hypothetical protein          NaN  USA300HOU_RS10605  \n",
       "1364  phage tail tape measure protein          NaN  USA300HOU_RS10615  \n",
       "1396                           ATPase          NaN  USA300HOU_RS10780  \n",
       "1417             hypothetical protein          NaN  USA300HOU_RS10885  "
      ]
     },
     "execution_count": 46,
     "metadata": {},
     "output_type": "execute_result"
    }
   ],
   "source": [
    "ica_data.trn[ica_data.trn.gene_id.isin(muts)]"
   ]
  },
  {
   "cell_type": "markdown",
   "metadata": {},
   "source": [
    "# DBGWAS Analysis"
   ]
  },
  {
   "cell_type": "code",
   "execution_count": 67,
   "metadata": {},
   "outputs": [],
   "source": [
    "import pandas as pd\n",
    "from Bio import SeqIO\n",
    "\n",
    "import sys\n",
    "sys.path.append('/home/saugat/Desktop/pymodulon/src/')\n",
    "from pymodulon import core, io\n",
    "import matplotlib.pyplot as plt\n",
    "import seaborn as sns"
   ]
  },
  {
   "cell_type": "code",
   "execution_count": 8,
   "metadata": {},
   "outputs": [],
   "source": [
    "df = pd.read_csv('data/dbgwas_postprocess/kmer_md.csv', index_col=0)\n",
    "\n",
    "matched = df[~df['TCH1516_feats'].isnull()]"
   ]
  },
  {
   "cell_type": "code",
   "execution_count": 16,
   "metadata": {},
   "outputs": [],
   "source": [
    "lt_to_prod = {}\n",
    "for refseq in SeqIO.parse('/home/saugat/Desktop/Reference/genome/TCH1516.gb', 'genbank'):\n",
    "    for feat in [f for f in refseq.features if f.type in ['CDS']]:\n",
    "        if 'locus_tag' not in feat.qualifiers:\n",
    "            continue\n",
    "        lt_to_prod.update({feat.qualifiers['locus_tag'][0]: feat.qualifiers['product'][0]})"
   ]
  },
  {
   "cell_type": "code",
   "execution_count": 21,
   "metadata": {},
   "outputs": [
    {
     "name": "stdout",
     "output_type": "stream",
     "text": [
      "USA300HOU_RS09770\n"
     ]
    },
    {
     "name": "stderr",
     "output_type": "stream",
     "text": [
      "/home/saugat/anaconda3/envs/ete3/lib/python3.6/site-packages/pandas/core/indexing.py:1596: SettingWithCopyWarning: \n",
      "A value is trying to be set on a copy of a slice from a DataFrame.\n",
      "Try using .loc[row_indexer,col_indexer] = value instead\n",
      "\n",
      "See the caveats in the documentation: https://pandas.pydata.org/pandas-docs/stable/user_guide/indexing.html#returning-a-view-versus-a-copy\n",
      "  self.obj[key] = _infer_fill_value(value)\n",
      "/home/saugat/anaconda3/envs/ete3/lib/python3.6/site-packages/pandas/core/indexing.py:1763: SettingWithCopyWarning: \n",
      "A value is trying to be set on a copy of a slice from a DataFrame.\n",
      "Try using .loc[row_indexer,col_indexer] = value instead\n",
      "\n",
      "See the caveats in the documentation: https://pandas.pydata.org/pandas-docs/stable/user_guide/indexing.html#returning-a-view-versus-a-copy\n",
      "  isetter(loc, value)\n",
      "/home/saugat/anaconda3/envs/ete3/lib/python3.6/site-packages/pandas/core/indexing.py:670: SettingWithCopyWarning: \n",
      "A value is trying to be set on a copy of a slice from a DataFrame\n",
      "\n",
      "See the caveats in the documentation: https://pandas.pydata.org/pandas-docs/stable/user_guide/indexing.html#returning-a-view-versus-a-copy\n",
      "  iloc._setitem_with_indexer(indexer, value)\n",
      "/home/saugat/anaconda3/envs/ete3/lib/python3.6/site-packages/ipykernel_launcher.py:10: SettingWithCopyWarning: \n",
      "A value is trying to be set on a copy of a slice from a DataFrame\n",
      "\n",
      "See the caveats in the documentation: https://pandas.pydata.org/pandas-docs/stable/user_guide/indexing.html#returning-a-view-versus-a-copy\n",
      "  # Remove the CWD from sys.path while we load stuff.\n"
     ]
    }
   ],
   "source": [
    "for idx, row in matched.iterrows():\n",
    "    lts = row.TCH1516_feats.replace('(intergenic)', '')\n",
    "    lts = lts.split(';')\n",
    "    prod = []\n",
    "    for l in lts:\n",
    "        try:\n",
    "            prod.append(lt_to_prod[l])\n",
    "        except KeyError:\n",
    "            print(l)\n",
    "    matched.loc[idx, 'product'] = ';'.join(prod)"
   ]
  },
  {
   "cell_type": "code",
   "execution_count": 31,
   "metadata": {},
   "outputs": [],
   "source": [
    "ica_data = io.load_json_model('/home/saugat/Desktop/StaphPrecise2/docker_run/processed_data/saureus.json.gz')"
   ]
  },
  {
   "cell_type": "code",
   "execution_count": 33,
   "metadata": {},
   "outputs": [
    {
     "data": {
      "text/plain": [
       "[]"
      ]
     },
     "execution_count": 33,
     "metadata": {},
     "output_type": "execute_result"
    }
   ],
   "source": [
    "ica_data.imodulons_with('USA300HOU_RS00560')"
   ]
  },
  {
   "cell_type": "code",
   "execution_count": 23,
   "metadata": {},
   "outputs": [],
   "source": [
    "matched.to_csv('/home/saugat/Desktop/manual_check.csv')"
   ]
  },
  {
   "cell_type": "code",
   "execution_count": 45,
   "metadata": {},
   "outputs": [
    {
     "name": "stdout",
     "output_type": "stream",
     "text": [
      "['Beta-Lactam Resistance', 'pUSA300HOUMR', 'Beta-Lactam Resistance', 'pUSA300HOUMR'] PBP2a family beta-lactam-resistant peptidoglycan transpeptidase MecA USA300HOU_RS00160\n",
      "['scfm2-artefact', 'scfm2-artefact'] ABC transporter ATP-binding protein USA300HOU_RS00380\n",
      "['Genomic Island 9-1', 'Genomic Island 9-1'] site-specific integrase USA300HOU_RS10860\n",
      "['Fur-2', 'Fur-2'] iron ABC transporter permease USA300HOU_RS03510\n",
      "['SigS-2', 'SigS-2'] arginine deiminase USA300HOU_RS00325\n",
      "['Vir-2', 'Vir-2'] potassium-transporting ATPase A chain USA300HOU_RS11215\n",
      "['Uncharacterized-6', 'Uncharacterized-6'] hypothetical protein USA300HOU_RS00785\n",
      "['Uncharacterized-6', 'Uncharacterized-6'] hypothetical protein USA300HOU_RS00785\n",
      "['SigB', 'SigB'] alpha/beta hydrolase USA300HOU_RS14000\n",
      "['Genomic Island 9-2', 'Genomic Island 9-2'] ATPase USA300HOU_RS10780\n",
      "['Genomic Island 9-2', 'Genomic Island 9-2'] hypothetical protein USA300HOU_RS15460\n",
      "['Genomic Island 9-2', 'Genomic Island 9-2'] hypothetical protein USA300HOU_RS15460\n",
      "['SarA', 'ArlRS/MgrA', 'SarA', 'ArlRS/MgrA'] hyperosmolarity resistance protein Ebh USA300HOU_RS07340\n",
      "['Rex-2', 'Rex-2'] L-lactate permease USA300HOU_RS12805\n",
      "['Rex-2', 'Rex-2'] L-lactate permease USA300HOU_RS12805\n",
      "['Accessory sec', 'Accessory sec'] serine-rich repeat glycoprotein adhesin SasA USA300HOU_RS14420\n",
      "['CcpA-3', 'CcpA-3'] sodium-dependent dicarboxylate transporter SdcS USA300HOU_RS10410\n",
      "['FadR', 'FadR'] acetyl-CoA C-acyltransferase USA300HOU_RS01190\n",
      "['SaeR-1', 'SaeR-1'] YSIRK-type signal peptide-containing protein USA300HOU_RS01700\n",
      "['CymR', 'CymR'] ABC transporter ATP-binding protein USA300HOU_RS00910\n",
      "['FadR', 'FadR'] acyl CoA:acetate/3-ketoacid CoA transferase USA300HOU_RS01210\n",
      "['Uncharacterized-2', 'Uncharacterized-2'] acetyl-CoA acetyltransferase USA300HOU_RS03015\n",
      "['CcpA-3', 'CcpA-3'] hypothetical protein USA300HOU_RS09550\n",
      "['Itaconate response', 'Itaconate response'] hypothetical protein USA300HOU_RS00260\n",
      "['Accessory sec', 'Accessory sec'] serine-rich repeat glycoprotein adhesin SasA USA300HOU_RS14420\n",
      "['Fur-2', 'Fur-2'] staphyloferrin B ABC transporter permease subunit SirC USA300HOU_RS00590\n",
      "['Rex-1', 'Rex-1'] NAD-dependent formate dehydrogenase USA300HOU_RS00935\n",
      "['Genomic Island 9-3', 'Genomic Island 9-3'] phage portal protein USA300HOU_RS10670\n",
      "['CodY-2', 'CodY-2'] anthranilate synthase component I USA300HOU_RS06960\n",
      "['SaeR-1', 'SaeR-1'] coagulase USA300HOU_RS01175\n",
      "['Uncharacterized-5', 'Uncharacterized-5'] DUF2309 family protein USA300HOU_RS02280\n",
      "['ArlRS/MgrA', 'ArlRS/MgrA'] methicillin resistance protein FmtB USA300HOU_RS11650\n",
      "['Itaconate response', 'Itaconate response'] cyclic pyranopterin monophosphate synthase MoaC USA300HOU_RS12315\n",
      "['PerR', 'PerR'] iron-regulated surface determinant protein H USA300HOU_RS09190\n",
      "['CodY-2', 'CodY-2'] bile acid:sodium symporter family protein USA300HOU_RS12565\n",
      "['SigB', 'SigB'] ArgE/DapE family deacylase USA300HOU_RS10880\n",
      "['ArgR', 'ArgR'] argininosuccinate lyase USA300HOU_RS04765\n",
      "['Genomic Island 9-3', 'Genomic Island 9-3'] phage tail protein USA300HOU_RS10610\n",
      "['Genomic Island 9-3', 'Genomic Island 9-3'] phage tail protein USA300HOU_RS10610\n",
      "['ArlRS/MgrA', 'ArlRS/MgrA'] ATP-binding cassette domain-containing protein USA300HOU_RS13695\n",
      "['Vir-2', 'Vir-2'] NAD-dependent epimerase/dehydratase family protein USA300HOU_RS00820\n",
      "['Uncharacterized-6', 'Uncharacterized-6'] hypothetical protein USA300HOU_RS03325\n",
      "['SigS-2', 'SigS-2'] DUF1643 domain-containing protein USA300HOU_RS00285\n",
      "['Rex-1', 'Rex-1'] ABC transporter ATP-binding protein USA300HOU_RS13270\n",
      "['SG_2', 'SG_14', 'SG_19', 'SG_20', 'SG_2', 'SG_14', 'SG_19', 'SG_20'] DUF1514 domain-containing protein USA300HOU_RS07805\n",
      "['Genomic Island 9-1', 'Autolysin', 'Uncharacterized-3', 'Genomic Island 9-1', 'Autolysin', 'Uncharacterized-3'] N-acetyltransferase USA300HOU_RS13935\n",
      "['Genomic Island 9-1', 'Autolysin', 'Uncharacterized-3', 'Genomic Island 9-1', 'Autolysin', 'Uncharacterized-3'] N-acetyltransferase USA300HOU_RS13935\n",
      "['VraS2-1', 'VraS2-1'] GTP pyrophosphokinase family protein USA300HOU_RS13590\n",
      "['Genomic Island 9-2', 'Genomic Island 9-2'] DUF771 domain-containing protein USA300HOU_RS10800\n",
      "['Uncharacterized-3', 'Uncharacterized-3'] hypothetical protein USA300HOU_RS10505\n",
      "['LacR', 'LacR'] PTS lactose EIICB component USA300HOU_RS11870\n",
      "['Fur-2', 'Fur-2'] class I SAM-dependent methyltransferase USA300HOU_RS10885\n",
      "['Autolysin', 'Autolysin'] bifunctional autolysin USA300HOU_RS05240\n"
     ]
    }
   ],
   "source": [
    "imods = []\n",
    "for idx, row in matched.iterrows():\n",
    "    lts = row.TCH1516_feats.replace('(intergenic)', '')\n",
    "    lts = lts.split(';')\n",
    "    for l in lts:\n",
    "        try:\n",
    "            imods = ica_data.imodulons_with(l)\n",
    "            if imods:\n",
    "                imods.extend(ica_data.imodulons_with(l))\n",
    "                if l in lt_to_prod:\n",
    "                    print(imods, lt_to_prod[l], l)\n",
    "        except ValueError:\n",
    "            continue"
   ]
  },
  {
   "cell_type": "code",
   "execution_count": 46,
   "metadata": {},
   "outputs": [],
   "source": [
    "nctc = io.load_json_model('/home/saugat/Desktop/modulome-workflow_NCTC8325/data/processed_data/NCTC8325.json.gz')"
   ]
  },
  {
   "cell_type": "code",
   "execution_count": 66,
   "metadata": {},
   "outputs": [
    {
     "data": {
      "text/plain": [
       "gene_name                      coa\n",
       "accession              NC_010079.1\n",
       "old_locus_tag       USA300HOU_0238\n",
       "start                       266298\n",
       "end                         268127\n",
       "strand                           +\n",
       "gene_product     staphylocoagulase\n",
       "COG              No COG annotation\n",
       "uniprot                 A0A0H2XHP9\n",
       "operon                       Op151\n",
       "regulator           SaeR,SigB,WalR\n",
       "Name: USA300HOU_RS01175, dtype: object"
      ]
     },
     "execution_count": 66,
     "metadata": {},
     "output_type": "execute_result"
    }
   ],
   "source": [
    "ica_data.gene_table.loc['USA300HOU_RS01175']"
   ]
  },
  {
   "cell_type": "code",
   "execution_count": 69,
   "metadata": {},
   "outputs": [
    {
     "data": {
      "text/plain": [
       "<seaborn.matrix.ClusterGrid at 0x7fe10d6cbe80>"
      ]
     },
     "execution_count": 69,
     "metadata": {},
     "output_type": "execute_result"
    },
    {
     "data": {
      "image/png": "[encoded data removed]",
      "text/plain": [
       "<Figure size 1000x1000 with 4 Axes>"
      ]
     },
     "metadata": {},
     "output_type": "display_data"
    }
   ],
   "source": [
    "v"
   ]
  }
 ],
 "metadata": {
  "kernelspec": {
   "display_name": "Python 3",
   "language": "python",
   "name": "python3"
  },
  "language_info": {
   "codemirror_mode": {
    "name": "ipython",
    "version": 3
   },
   "file_extension": ".py",
   "mimetype": "text/x-python",
   "name": "python",
   "nbconvert_exporter": "python",
   "pygments_lexer": "ipython3",
   "version": "3.7.4"
  }
 },
 "nbformat": 4,
 "nbformat_minor": 5
}
